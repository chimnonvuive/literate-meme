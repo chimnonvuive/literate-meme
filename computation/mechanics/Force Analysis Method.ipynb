{
 "cells": [
  {
   "cell_type": "code",
   "execution_count": 17,
   "metadata": {},
   "outputs": [],
   "source": [
    "import numpy as np\n",
    "import matplotlib.pyplot as plt\n",
    "from sympy import Matrix, lambdify, sin, cos\n",
    "from sympy.solvers.solveset import linsolve\n",
    "from sympy.physics.mechanics import dynamicsymbols, init_vprinting\n",
    "from scipy.integrate import solve_ivp\n",
    "\n",
    "init_vprinting()"
   ]
  },
  {
   "cell_type": "code",
   "execution_count": 18,
   "metadata": {},
   "outputs": [],
   "source": [
    "q1, q2 = dynamicsymbols('q_1 q_2')\n",
    "params = [q1, q1.diff(), q2, q2.diff()]\n",
    "initial_conditions = [np.pi/18, 0, np.pi/6, 0]\n",
    "time_interval = [0, 15]\n",
    "# l1, l2, m1, m2, g = 1, 1, 1, 1, 9.81\n",
    "l, m, g = 1, 1, 9.81\n",
    "q1f, q2f = np.pi/6, np.pi/3\n",
    "b01, g01, b12, g12 = 450, 300, 200, 300\n",
    "IC1, IC2 = m*l**2/12, m*l**2/12"
   ]
  },
  {
   "cell_type": "code",
   "execution_count": 19,
   "metadata": {},
   "outputs": [],
   "source": [
    "T01 = Matrix([0,0,-b01*q1.diff() - g01*(q1-q1f) + 0.5*g*l*m*cos(q1) + g*l*m*cos(q1)])\n",
    "T12 = Matrix([0,0,-b12*q2.diff() - g12*(q2-q2f) + 0.5*g*l*m*cos(q2)])"
   ]
  },
  {
   "cell_type": "code",
   "execution_count": 20,
   "metadata": {},
   "outputs": [],
   "source": [
    "omg1, omg2 = Matrix([0,0,q1.diff()]), Matrix([0,0,q2.diff()])\n",
    "alp1, alp2 = omg1.diff(), omg2.diff()\n",
    "G1, G2 = Matrix([0,-m*g,0]), Matrix([0,-m*g,0])\n",
    "\n",
    "rC1 = l/2 * Matrix([cos(q1), sin(q1), 0])\n",
    "rC2 = 2*rC1 + l/2 * Matrix([cos(q2), sin(q2), 0])\n",
    "vC1, vC2 = rC1.diff(), rC2.diff()\n",
    "aC1, aC2 = vC1.diff(), vC2.diff()"
   ]
  },
  {
   "cell_type": "code",
   "execution_count": 21,
   "metadata": {},
   "outputs": [],
   "source": [
    "F12 = m*aC2 - G2\n",
    "rBC2 = 2*rC1 - rC2\n",
    "eq2 = - IC2 * alp2 + rBC2.cross(F12) + T12\n",
    "F01 = m*aC1 - (-F12) - G1\n",
    "eq1 = - IC1 * alp1 + (-rC1).cross(F01) + rC1.cross(-F12) + (-T12) + T01"
   ]
  },
  {
   "cell_type": "code",
   "execution_count": 22,
   "metadata": {},
   "outputs": [],
   "source": [
    "sol = list(linsolve((eq1[2], eq2[2]), (alp1[2], alp2[2])))[0]"
   ]
  },
  {
   "cell_type": "code",
   "execution_count": 23,
   "metadata": {},
   "outputs": [],
   "source": [
    "dq1 = lambdify(params, q1.diff())\n",
    "ddq1 = lambdify(params, sol[0])\n",
    "dq2 = lambdify(params, q2.diff())\n",
    "ddq2 = lambdify(params, sol[1])\n",
    "fun = lambda t, y: [dq1(*y), ddq1(*y), dq2(*y), ddq2(*y)]\n",
    "res = solve_ivp(fun, time_interval, initial_conditions,\n",
    "               t_eval=np.linspace(*time_interval, 10000))"
   ]
  },
  {
   "cell_type": "code",
   "execution_count": 15,
   "metadata": {
    "scrolled": true
   },
   "outputs": [
    {
     "data": {
      "image/png": "[encoded data removed]",
      "text/plain": [
       "<Figure size 432x288 with 2 Axes>"
      ]
     },
     "metadata": {
      "needs_background": "light"
     },
     "output_type": "display_data"
    }
   ],
   "source": [
    "fig, ax = plt.subplots(nrows=2)\n",
    "ax[0].plot(res.t, res.y[0]*180/np.pi)\n",
    "ax[1].plot(res.t, res.y[2]*180/np.pi)\n",
    "ax[0].grid()\n",
    "ax[1].grid()\n",
    "ax[0].set_ylabel(r'$q_1$ (deg)')\n",
    "ax[1].set_ylabel(r'$q_2$ (deg)')\n",
    "ax[1].set_xlabel(r't (s)')\n",
    "plt.tight_layout()\n",
    "plt.savefig('q1_q2_force.png', dpi=600)"
   ]
  },
  {
   "cell_type": "code",
   "execution_count": 72,
   "metadata": {},
   "outputs": [
    {
     "data": {
      "text/plain": [
       "array([119.21120121, 170.46659383, 135.58416236, ...,  15.25613243,\n",
       "        15.25554349,  15.25575832])"
      ]
     },
     "execution_count": 72,
     "metadata": {},
     "output_type": "execute_result"
    }
   ],
   "source": [
    "T01_np = lambdify(params, T01[2])\n",
    "T12_np = lambdify(params, T12[2])\n",
    "T01_np(*res.y)"
   ]
  },
  {
   "cell_type": "code",
   "execution_count": 68,
   "metadata": {},
   "outputs": [
    {
     "data": {
      "image/png": "[encoded data removed]",
      "text/plain": [
       "<Figure size 432x288 with 2 Axes>"
      ]
     },
     "metadata": {
      "needs_background": "light"
     },
     "output_type": "display_data"
    }
   ],
   "source": [
    "fig, ax = plt.subplots(nrows=2)\n",
    "ax[0].plot(res.t, T01_np(*res.y))\n",
    "ax[1].plot(res.t, T12_np(*res.y))\n",
    "ax[0].grid()\n",
    "ax[1].grid()\n",
    "ax[0].set_ylabel(r'$q_1$ (deg)')\n",
    "ax[1].set_ylabel(r'$q_2$ (deg)')\n",
    "ax[1].set_xlabel(r't (s)')\n",
    "plt.tight_layout()\n",
    "plt.savefig('T01_T12.png', dpi=600)"
   ]
  },
  {
   "cell_type": "code",
   "execution_count": null,
   "metadata": {},
   "outputs": [],
   "source": []
  }
 ],
 "metadata": {
  "kernelspec": {
   "display_name": "Python 3",
   "language": "python",
   "name": "python3"
  },
  "language_info": {
   "codemirror_mode": {
    "name": "ipython",
    "version": 3
   },
   "file_extension": ".py",
   "mimetype": "text/x-python",
   "name": "python",
   "nbconvert_exporter": "python",
   "pygments_lexer": "ipython3",
   "version": "3.7.7"
  }
 },
 "nbformat": 4,
 "nbformat_minor": 4
}
