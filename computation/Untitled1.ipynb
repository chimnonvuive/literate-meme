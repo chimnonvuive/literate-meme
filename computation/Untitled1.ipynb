{
 "cells": [
  {
   "cell_type": "code",
   "execution_count": 40,
   "metadata": {},
   "outputs": [],
   "source": [
    "import numpy as np\n",
    "import matplotlib.pyplot as plt\n",
    "np.set_printoptions(precision=2)\n",
    "data = np.loadtxt('CAM profile.txt')"
   ]
  },
  {
   "cell_type": "code",
   "execution_count": 47,
   "metadata": {},
   "outputs": [
    {
     "name": "stdout",
     "output_type": "stream",
     "text": [
      "[-26.43 -25.08 -23.65 -22.47 -21.16 -19.85] [302.05 286.7  270.37 256.82 241.88 226.93] [  0.   -28.88 -38.07 -37.96 -41.01 -40.96]\n"
     ]
    },
    {
     "name": "stderr",
     "output_type": "stream",
     "text": [
      "/home/khoi/anaconda3/lib/python3.7/site-packages/ipykernel_launcher.py:13: RuntimeWarning: invalid value encountered in true_divide\n",
      "  del sys.path[0]\n"
     ]
    },
    {
     "data": {
      "text/plain": [
       "[<matplotlib.lines.Line2D at 0x7f3a681aeb10>]"
      ]
     },
     "execution_count": 47,
     "metadata": {},
     "output_type": "execute_result"
    },
    {
     "data": {
      "image/png": "[encoded data removed]",
      "text/plain": [
       "<Figure size 432x288 with 1 Axes>"
      ]
     },
     "metadata": {
      "needs_background": "light"
     },
     "output_type": "display_data"
    }
   ],
   "source": [
    "phi, pos = data[:len(data)//2], data[len(data)//2:]\n",
    "dphi = np.diff(phi)\n",
    "# plt.plot(phi,pos)\n",
    "# plt.plot(phi[:-1],np.diff(pos))\n",
    "# plt.plot(phi[:-2],np.diff(pos,2))\n",
    "z,e,l1,l2 = 4,200,100,300\n",
    "Fi = np.array([303.2,287.8,271.4,257.8,242.8,227.8])\n",
    "# Fi = Fi[::-1]\n",
    "Vtni = np.array([3025,3097,3221,3304,3426,3525])\n",
    "# Vtni = Vtni[::-1]\n",
    "FVi = Fi*np.sin(-5*np.pi/180)\n",
    "FHi = Fi*np.cos(-5*np.pi/180)\n",
    "chii = (Vtni - Vtni[0])/((FVi-FVi[0])/z + ((FHi-FHi[0])*l1+(FVi-FVi[0])*l2)/2/e)\n",
    "chii[0] = 0\n",
    "print(FVi,FHi,chii)\n",
    "plt.plot(Vtni,chii)"
   ]
  },
  {
   "cell_type": "code",
   "execution_count": 49,
   "metadata": {},
   "outputs": [
    {
     "data": {
      "text/plain": [
       "0.28029322984044847"
      ]
     },
     "execution_count": 49,
     "metadata": {},
     "output_type": "execute_result"
    }
   ],
   "source": [
    "10.4/3092/12*1e3"
   ]
  }
 ],
 "metadata": {
  "kernelspec": {
   "display_name": "Python 3",
   "language": "python",
   "name": "python3"
  },
  "language_info": {
   "codemirror_mode": {
    "name": "ipython",
    "version": 3
   },
   "file_extension": ".py",
   "mimetype": "text/x-python",
   "name": "python",
   "nbconvert_exporter": "python",
   "pygments_lexer": "ipython3",
   "version": "3.7.7"
  }
 },
 "nbformat": 4,
 "nbformat_minor": 4
}
