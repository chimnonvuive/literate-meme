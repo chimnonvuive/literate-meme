{
 "cells": [
  {
   "cell_type": "code",
   "execution_count": 13,
   "metadata": {},
   "outputs": [],
   "source": [
    "# %load untitled0.py\n",
    "import numpy as np\n",
    "\n",
    "from scipy.integrate import solve_ivp\n",
    "\n",
    "from sympy import lambdify, symbols, sin, cos\n",
    "from sympy.solvers.solveset import linsolve\n",
    "from sympy.physics.vector import ReferenceFrame\n",
    "from sympy.physics.mechanics import dynamicsymbols, init_vprinting\n",
    "\n",
    "import matplotlib.pyplot as plt\n",
    "from matplotlib import rc\n",
    "from matplotlib.animation import ArtistAnimation"
   ]
  },
  {
   "cell_type": "code",
   "execution_count": 14,
   "metadata": {},
   "outputs": [],
   "source": [
    "init_vprinting()\n",
    "rc('text', usetex=True)\n",
    "\n",
    "O = ReferenceFrame('O')\n",
    "l1, l2, m1, m2, g, t = symbols('L_1 L_2 m_1 m_2 g t')\n",
    "q1, q2 = dynamicsymbols('q_1 q_2')\n",
    "interval = [0, 5]\n",
    "variables = [q1, q1.diff(), q2, q2.diff()]\n",
    "num = [(l1, 1), (l2, 0.5), (m1, 1), (m2, 1), (g, 10)]\n",
    "\n",
    "omg1, omg2 = q1.diff()*O.z, q2.diff()*O.z\n",
    "alp1, alp2 = omg1.diff(t, O), omg2.diff(t, O)\n",
    "IC1, IC2 = m1*l1**2/12, m2*l2**2/12"
   ]
  },
  {
   "cell_type": "code",
   "execution_count": 15,
   "metadata": {},
   "outputs": [],
   "source": [
    "\"PVA of rC1, rC2\"\n",
    "# position\n",
    "rC1 = l1/2 * (cos(q1)*O.x + sin(q1)*O.y)\n",
    "rC2 = 2*rC1 + l2/2 * (cos(q2)*O.x + sin(q2)*O.y)\n",
    "\n",
    "# velocity\n",
    "vC1 = rC1.diff(t, O)\n",
    "vC2 = rC2.diff(t, O)\n",
    "\n",
    "# acceleration\n",
    "aC1 = vC1.diff(t, O)\n",
    "aC2 = vC2.diff(t, O)"
   ]
  },
  {
   "cell_type": "code",
   "execution_count": 17,
   "metadata": {},
   "outputs": [],
   "source": [
    "\"Force Analysis\"\n",
    "G1 = -m1*g * O.y\n",
    "G2 = -m2*g * O.y\n",
    "\n",
    "F12 = m2*aC2 - G2\n",
    "F01 = m1*aC1 - G1 - (-F12)\n",
    "\n",
    "eq1 = (-IC1*alp1 + (rC1 ^ -F12) + (-rC1 ^ F01)).to_matrix(O)[2].subs(num)\n",
    "eq2 = (-IC2*alp2 + ((2*rC1-rC2) ^ F12)).to_matrix(O)[2].subs(num)\n",
    "\n",
    "sol = linsolve((eq1, eq2), (q1.diff(t, 2), q2.diff(t, 2)))"
   ]
  },
  {
   "cell_type": "code",
   "execution_count": 22,
   "metadata": {},
   "outputs": [],
   "source": [
    "dq1 = lambdify(variables, q1.diff(), 'numpy')\n",
    "dq2 = lambdify(variables, q2.diff(), 'numpy')\n",
    "ddq1 = lambdify(variables, list(sol)[0][0], 'numpy')\n",
    "ddq2 = lambdify(variables, list(sol)[0][1], 'numpy')\n",
    "\n",
    "fun = lambda t1, y: [dq1(*y), ddq1(*y), dq2(*y), ddq2(*y)]\n",
    "\n",
    "res = solve_ivp(fun, interval, [-np.pi/4, 0, -np.pi/3, 0], \n",
    "                t_eval=np.linspace(*interval, 1000))\n",
    "\n",
    "t = res.t\n",
    "q1_arr, q2_arr = res.y[0], res.y[2]"
   ]
  },
  {
   "cell_type": "code",
   "execution_count": null,
   "metadata": {},
   "outputs": [],
   "source": [
    "eq2.simplify()"
   ]
  },
  {
   "cell_type": "code",
   "execution_count": null,
   "metadata": {},
   "outputs": [],
   "source": [
    "# \"plotting graphs\"\n",
    "\n",
    "fig, ax = plt.subplots()\n",
    "ax.plot(t, q1_arr*180/np.pi, label=r'$q_1$ (deg)')\n",
    "ax.plot(t, q2_arr*180/np.pi, label=r'$q_2$ (deg)')\n",
    "ax.set_xlabel('t (s)')\n",
    "ax.set_ylabel('angle of 2 links (deg)')\n",
    "ax.legend()\n",
    "ax.grid()\n",
    "plt.tight_layout()\n",
    "plt.show\n",
    "plt.savefig('Figure1.png')"
   ]
  },
  {
   "cell_type": "code",
   "execution_count": null,
   "metadata": {},
   "outputs": [],
   "source": [
    "# plotting animation\n",
    "\n",
    "fig2, ax2 = plt.subplots()\n",
    "container = []\n",
    "\n",
    "for i in range(len(q1_arr)):\n",
    "    qB = 2*rC1.to_matrix(O).subs([(q1, q1_arr[i]), *num])\n",
    "    xC = qB[0] + (l2 * cos(q2)).subs([(q2, q2_arr[i]), *num])\n",
    "    yC = qB[1] + (l2 * sin(q2)).subs([(q2, q2_arr[i]), *num])\n",
    "    link1, = ax2.plot([0, qB[0]], [0, qB[1]], 'ro-')\n",
    "    link2, = ax2.plot([qB[0], xC], [qB[1], yC], 'bo-')\n",
    "    ax2.plot(xC, yC, 'b,')\n",
    "    container.append([link1, link2])\n",
    "    \n",
    "ani = ArtistAnimation(fig2, container, interval=20, blit=True)\n",
    "ax2.set_aspect('equal')\n",
    "ax2.grid()"
   ]
  },
  {
   "cell_type": "code",
   "execution_count": null,
   "metadata": {},
   "outputs": [],
   "source": [
    "plt.show()\n",
    "ani.save('Figure2.mp4')"
   ]
  },
  {
   "cell_type": "code",
   "execution_count": null,
   "metadata": {},
   "outputs": [],
   "source": []
  }
 ],
 "metadata": {
  "kernelspec": {
   "display_name": "Python 3",
   "language": "python",
   "name": "python3"
  },
  "language_info": {
   "codemirror_mode": {
    "name": "ipython",
    "version": 3
   },
   "file_extension": ".py",
   "mimetype": "text/x-python",
   "name": "python",
   "nbconvert_exporter": "python",
   "pygments_lexer": "ipython3",
   "version": "3.7.7"
  }
 },
 "nbformat": 4,
 "nbformat_minor": 4
}
