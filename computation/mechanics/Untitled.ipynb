{
 "cells": [
  {
   "cell_type": "code",
   "execution_count": 47,
   "metadata": {},
   "outputs": [
    {
     "name": "stdout",
     "output_type": "stream",
     "text": [
      "\\frac{\\sqrt{3} h_{3} \\left(3 h_{2} + 4 h_{3}\\right)}{9 \\left(h_{2} + h_{3}\\right)}\n"
     ]
    },
    {
     "data": {
      "text/latex": [
       "$\\displaystyle \\frac{\\sqrt{3} \\sqrt{g^{2} h_{3}^{2} \\rho^{2} \\left(4 h_{2}^{2} + 4 h_{2} h_{3} + h_{3}^{2}\\right)} \\left(\\frac{2 h_{2}}{3} + \\frac{8 h_{3}}{9}\\right)}{h_{2} + h_{3}}$"
      ],
      "text/plain": [
       "sqrt(3)*sqrt(g**2*h_3**2*rho**2*(4*h_2**2 + 4*h_2*h_3 + h_3**2))*(2*h_2/3 + 8*h_3/9)/(h_2 + h_3)"
      ]
     },
     "execution_count": 47,
     "metadata": {},
     "output_type": "execute_result"
    }
   ],
   "source": [
    "from sympy import *\n",
    "h1,h2,h3,r,g,G=symbols('h_1 h_2 h_3 rho g G')\n",
    "Fx = r*g*(h2+h3/2)*h3\n",
    "Fy = r*g*(h2+h3)*h3/sqrt(3)\n",
    "W = r*g*h3**2/2/sqrt(3)\n",
    "fh = Fx\n",
    "fv = Fy-W\n",
    "s = h2/sqrt(3)\n",
    "b = h3/sin(pi/3)\n",
    "yp = b/2+b**2/(12*(s+b/2))\n",
    "FR = sqrt(fh**2+fv**2)\n",
    "print(latex(simplify(yp)))\n",
    "simplify(yp*FR/(b/2)/cos(pi/3))\n",
    "# print(latex(simplify(FR/cos(pi/3))))\n",
    "# print(latex(FR.expand().collect([G,G**2])))"
   ]
  },
  {
   "cell_type": "code",
   "execution_count": 51,
   "metadata": {},
   "outputs": [
    {
     "data": {
      "text/plain": [
       "([<matplotlib.lines.Line2D at 0x7f81c4d20d90>], (0.0, 100000.0))"
      ]
     },
     "execution_count": 51,
     "metadata": {},
     "output_type": "execute_result"
    },
    {
     "data": {
      "image/png": "[encoded data removed]",
      "text/plain": [
       "<Figure size 432x288 with 1 Axes>"
      ]
     },
     "metadata": {
      "needs_background": "light"
     },
     "output_type": "display_data"
    }
   ],
   "source": [
    "import matplotlib.pyplot as plt\n",
    "import numpy as np\n",
    "x = np.linspace(0,3)\n",
    "y = (96e3-9.81e3*x)\n",
    "plt.plot(x,y),plt.ylim(0,100e3)"
   ]
  }
 ],
 "metadata": {
  "kernelspec": {
   "display_name": "Python 3",
   "language": "python",
   "name": "python3"
  },
  "language_info": {
   "codemirror_mode": {
    "name": "ipython",
    "version": 3
   },
   "file_extension": ".py",
   "mimetype": "text/x-python",
   "name": "python",
   "nbconvert_exporter": "python",
   "pygments_lexer": "ipython3",
   "version": "3.7.7"
  }
 },
 "nbformat": 4,
 "nbformat_minor": 4
}
