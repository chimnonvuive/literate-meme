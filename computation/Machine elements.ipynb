{
 "cells": [
  {
   "cell_type": "code",
   "execution_count": 1,
   "metadata": {},
   "outputs": [],
   "source": [
    "import numpy as np\n",
    "np.set_printoptions(precision=4, suppress=True)\n",
    "\n",
    "F = 4500 # N\n",
    "v = 3.05 # m/s\n",
    "D = 500 # mm\n",
    "L = 4 # year\n",
    "t1 = 12 # s\n",
    "t2 = 60 # s\n",
    "T1 = 1 # N.mm\n",
    "T2 = 0.7 # N.mm"
   ]
  },
  {
   "cell_type": "markdown",
   "metadata": {},
   "source": [
    "## Motor Design $(power, rpm)$"
   ]
  },
  {
   "cell_type": "code",
   "execution_count": 2,
   "metadata": {},
   "outputs": [
    {
     "name": "stdout",
     "output_type": "stream",
     "text": [
      "0.8849126879999999\n",
      "13.725 10.407496546960752 11.761043420546766\n",
      "116.50141834326739 25 2912.535458581685\n",
      "25.14990840168878 5.029981680337756\n",
      "[[    14.59     15.35     15.35]\n",
      " [  2930.     2930.      586.  ]\n",
      " [ 50047.56  50047.56 237825.99]]\n"
     ]
    }
   ],
   "source": [
    "# calculate efficiency, e = eta\n",
    "e_coupling = 1\n",
    "e_bearing = 0.99\n",
    "e_helical_gear = 0.96\n",
    "e_ch = 0.95\n",
    "e_sys = e_coupling * e_bearing**3 * e_helical_gear * e_ch\n",
    "print(e_sys)\n",
    "\n",
    "P_max = F*v/1000 # calculate max power of the belt conveyor, kW\n",
    "P_work = P_max*np.sqrt((T1**2*t1 + T2**2*t2)/(t1+t2)) # calculate power given the work load, kW\n",
    "P_motor = P_work/e_sys # lower limit of the motor's power, kW\n",
    "print(P_max, P_work, P_motor)\n",
    "\n",
    "n_belt = v*6e4/np.pi/D # calculate rotational speed of the belt conveyor, rpm\n",
    "u_ch = 5\n",
    "u_hg = 5\n",
    "u_sys = u_ch * u_hg # calculate transmission ratio of the system\n",
    "n_motor = u_sys * n_belt # calculate theoretical rotational speed of the motor, rpm\n",
    "print(n_belt, u_sys, n_motor)\n",
    "P_motor = 18.5 # power based on choice of motor, kW\n",
    "n_motor = 2930 # rotational speed based on choice of motor, rpm\n",
    "u_sys = n_motor / n_belt # new transmission ratio\n",
    "u_ch = u_sys / u_hg # new transmission ratio of ch drive, given u_hg=const\n",
    "print(u_sys, u_ch)\n",
    "\n",
    "P_ch = P_max\n",
    "P_sh2 = P_ch / (e_ch*e_bearing) # power of shaft 2, kW\n",
    "P_sh1 = P_sh2 / (e_helical_gear*e_bearing) # power of shaft 1, kW\n",
    "P_motor = P_sh1 / (e_coupling) # power of motor, kW\n",
    "n_sh1 = n_motor # rotational speed of shaft 1, rpm\n",
    "n_sh2 = n_sh1 / (u_hg) # rotational speed of shaft 2, rpm\n",
    "T_motor = 9.55e6 * P_motor / n_motor # torque of motor, N.mm\n",
    "T_sh1 = 9.55e6 * P_sh1 / n_sh1 # torque of shaft 1, N.mm\n",
    "T_sh2 = 9.55e6 * P_sh2 / n_sh2 # torque of shaft 2, N.mm\n",
    "print(np.round([[P_sh2, P_sh1, P_motor],\n",
    "                [n_motor, n_sh1, n_sh2],\n",
    "                [T_motor, T_sh1, T_sh2]],2))"
   ]
  },
  {
   "cell_type": "markdown",
   "metadata": {},
   "source": [
    "## Chain Drive Design"
   ]
  },
  {
   "cell_type": "code",
   "execution_count": 3,
   "metadata": {},
   "outputs": [
    {
     "name": "stdout",
     "output_type": "stream",
     "text": [
      "[   5.9     5.89 2329.53   90.25  101.92   18.98 2678.96  192.17 2521.7 ]\n"
     ]
    }
   ],
   "source": [
    "# find z1, z2\n",
    "z_1 = np.ceil(29 - 2*u_ch)\n",
    "z_2 = np.ceil(u_ch*z_1) + 1 # eq (5.1), p.80, plus 1 to obtain odd number of teeth\n",
    "\n",
    "# find k, k_z, k_n\n",
    "n01 = 600 # ~ n_sh2\n",
    "k_z, k_n = 25/z_1, n01/n_sh2 # eq (5.3), p.81\n",
    "k_0, k_a, k_dc, k_bt, k_d, k_c = 1, 1, 1, 1, 1.25, 1.3\n",
    "k = k_0 * k_a * k_dc * k_bt * k_d * k_c # table 5.6, p.82\n",
    "P_allowance = P_ch * k * k_z * k_n # equals 30.047 <= 42\n",
    "P_allowance, p, dc, B = 42, 31.75, 9.55, 27.46 # table 5.5, p.81\n",
    "d_1 = p/np.sin(np.pi/z_1) # examine table 5.8, p<p_max~31.75\n",
    "d_2 = p/np.sin(np.pi/z_2) # examine table 5.8, p<p_max~31.75\n",
    "a_min, a_max, a = 30*p, 50*p, 1000 # 952.5<a<1587.5, choose a = 1000\n",
    "x = 2*a/p + (z_1+z_2)/2 + (z_2-z_1)**2*p/(4*np.pi**2*a) # eq (5.12), p.85\n",
    "x_c = np.ceil(x)\n",
    "a = 0.25*p*(x_c-0.5*(z_2+z_1)+np.sqrt((x_c-0.5*(z_2+z_1))**2-2*((z_2-z_1)/np.pi)**2)) - 0.003*a # eq (5.13), p.85\n",
    "i = z_1*n_sh2/(15*x) # eq (5.14), p.85; i<[i]=25 at table 5.9, p.85\n",
    "B_min, d_O, d_l, h_max, b_max, Q, q = 15.88, 7.95, 15.88, 24.2, 38, 56.7, 2.6 # table 5.2, p.78\n",
    "k_f, k_d = 4, 1.2\n",
    "v_1 = n_sh2*p*z_1/6e4\n",
    "F_t, F_v, F_O = 1e3*P_ch/v_1, q*v_1**2, 9.81*k_f*q*a/1e3\n",
    "s = Q*1e3/(k_d*F_t + F_O + F_v)\n",
    "s >= 10.3 # table 5.10, p.86\n",
    "from scipy.interpolate import interp1d\n",
    "n1 = np.array([1250,1000,900,800,630,500,400,300])\n",
    "pm = np.array([12.7,15.875,19.5,25.4,31.75,38.1,44.5,50.8])\n",
    "f = interp1d(n1,pm,kind='cubic')\n",
    "k_x = 1.15\n",
    "F_r = k_x*F_t # eq (5.20), p.88\n",
    "print(np.round([i,v_1,F_t,F_v,F_O,s,F_r, F_O+F_v, F_O+F_v+F_t],2))"
   ]
  },
  {
   "cell_type": "code",
   "execution_count": 14,
   "metadata": {},
   "outputs": [
    {
     "name": "stdout",
     "output_type": "stream",
     "text": [
      "3.6666666666666714 29.10052910052914 5.1032708861433775 0.6430121316540656\n"
     ]
    }
   ],
   "source": [
    "H1, H2, NFO1, NFO2,m  = 250, 240, 4e6,4e6, 1.5\n",
    "NHO1, NHO2 = 30*H1**2.4, 30*H2**2.4\n",
    "NHE1, NHE2 = 60*n_sh1*(T1**3*t1 + T2**3*t2), 60*n_sh2*(T1**3*t1 + T2**3*t2)\n",
    "NFE1, NFE2 = 60*n_sh1*(T1**6*t1 + T2**6*t2), 60*n_sh2*(T1**6*t1 + T2**6*t2)\n",
    "KHL1, KHL2 = (NHO1/NHE1)**(1/6), (NHO2/NHE2)**(1/6)\n",
    "KFL1, KFL2 = (NFO1/NFE1)**(1/6), (NFO2/NFE2)**(1/6)\n",
    "sigH1, sigH2 = 570/1.1*KHL1, 550/1.1*KHL2\n",
    "sigF1, sigF2 = 450*KFL1/1.75, 432*KFL2/1.75\n",
    "sigH = np.average([sigH1,sigH2])\n",
    "psiba = 0.5\n",
    "psibd = 0.53*psiba*(u_hg+1)\n",
    "beta = 15\n",
    "aw = 43*(u_hg+1)*(T_sh1*1.108/sigH**2/u_hg/0.5)**(1/3)\n",
    "z1 = 2*aw*np.cos(beta*np.pi/180) / (m*(u_hg+1))\n",
    "z1 = 21\n",
    "z2 = u_hg*21\n",
    "aw = 100\n",
    "bw = psiba*aw\n",
    "zmin = 16\n",
    "y = aw/m-(z1+z2)/2\n",
    "ky = 1000*y/(z1+z2)\n",
    "kys = [26,27,28,29,30,31]\n",
    "kxs = [4.07,4.43,4.76,5.07,5.42,5.76]\n",
    "f = interp1d(kys,kxs,kind='cubic')\n",
    "kx = f(ky)\n",
    "dy = kx*(z1+z2)/1000\n",
    "print(y,ky,kx,dy)"
   ]
  },
  {
   "cell_type": "code",
   "execution_count": 8,
   "metadata": {},
   "outputs": [],
   "source": [
    "alpha_tw = np.arccos((z1+z2)*m*np.cos(15*np.pi/180)/2/aw)*180/np.pi\n",
    "\n",
    "alpha, beta = 20*np.pi/180, 20*np.pi/180\n",
    "alpha_t = np.arctan(np.tan(alpha)/np.cos(beta))\n",
    "d1 = m*z1/np.cos(beta)\n",
    "d2 = m*z2/np.cos(beta)\n",
    "da1 = d1 + 2*m\n",
    "da2 = d2 + 2*m\n",
    "df1 = d1 - 2.5*m\n",
    "df2 = d2 - 2.5*m\n",
    "db1 = d1*np.cos(alpha_t)\n",
    "db2 = d2*np.cos(alpha_t)\n",
    "beta_b = np.arctan(np.cos(alpha_t)*np.tan(beta))\n",
    "zm, zh = 274, np.sqrt(2*np.cos(beta_b)/np.sin(2*alpha_t))\n",
    "epbeta = bw*np.sin(beta)/m/np.pi\n",
    "epalpha = (np.sqrt(da1**2-db1**2)+np.sqrt(da2**2-db2**2)-2*aw*np.sin(alpha_t))/(2*np.pi*m*np.cos(alpha_t)/np.cos(beta))\n",
    "ze = np.sqrt(1/epalpha)\n",
    "dw1 = d1\n",
    "dw2 = d2\n",
    "v = np.pi*d1*n_sh1/60000\n",
    "kh, kf, mn = 1.0417*1.0766*1.108, 1.2558*1.1145*1.253, m*np.cos(beta)\n",
    "sigHc = zm*zh*ze*np.sqrt(2*T_sh1*kh*(u_hg+1)/bw/u_hg/dw1**2)\n",
    "ye, yb = epalpha**-1, 1-beta*180/np.pi/140\n",
    "zv1, zv2, yf1, yf2 = z1/np.cos(beta)**3, z2/np.cos(beta)**3, 4.0588, 3.5981\n",
    "sigF1 = 2*T_sh1*kf*ye*yb*yf1/bw/dw1/mn\n",
    "sigF2 = sigF1*yf2/yf1"
   ]
  },
  {
   "cell_type": "markdown",
   "metadata": {},
   "source": [
    "## Shaft design"
   ]
  },
  {
   "cell_type": "code",
   "execution_count": 9,
   "metadata": {},
   "outputs": [
    {
     "name": "stdout",
     "output_type": "stream",
     "text": [
      "[-69.07  54.07 108.14 -59.66  44.66  89.33]\n",
      "[-2985.99  1230.79  1086.81  2985.99 -1230.79 -1086.81 -1339.48 -2320.05]\n"
     ]
    }
   ],
   "source": [
    "Ft1 = Ft2 = 2*T_sh1/dw1\n",
    "Fr1 = Fr2 = Ft1*np.tan(alpha_t)/np.cos(beta)\n",
    "Fa1 = Fa2 = Ft1*np.tan(beta)\n",
    "r12, r21 = -dw1/2, dw2/2\n",
    "hr12, cb12, cq1, hr21, cb21, cq2 = 1,1,1,-1,-1,-1\n",
    "Fx12 = r12/abs(r12)*cq1*cb12*Ft1\n",
    "Fx21 = r21/abs(r21)*cq2*cb21*Ft2\n",
    "Fy12 = -r12/abs(r12)*Ft1*np.tan(alpha_t)/np.cos(beta)\n",
    "Fy21 = -r21/abs(r21)*Ft2*np.tan(alpha_t)/np.cos(beta)\n",
    "Fz12 = cq1*cb12*hr12*Ft1*np.tan(beta)\n",
    "Fz21 = cq2*cb21*hr21*Ft2*np.tan(beta)\n",
    "Fy22 = F_r*np.cos(210*np.pi/180)\n",
    "Fx22 = F_r*np.sin(210*np.pi/180)\n",
    "d1 = (T_sh1/.2/15)**(1/3)\n",
    "d2 = (T_sh2/.2/30)**(1/3)\n",
    "bO1,bO2,lm13,lm12,lm22,lm23,k1,k2,k3,hn=15,21,1.5*d1,1.5*d1,1.5*d2,1.5*d2,10,8,15,18\n",
    "l22 = -(.5*(lm22+bO2)+k3+hn)\n",
    "l23 = 0.5*(lm23+bO2)+k1+k2\n",
    "l21 = 2*l23\n",
    "l12 = -(.5*(lm12+bO1)+k3+hn)\n",
    "l13 = 0.5*(lm13+bO1)+k1+k2\n",
    "l11 = 2*l13\n",
    "print(np.round([l22,l23,l21,l12,l13,l11],2))\n",
    "print(np.round([Fx12,Fy12,Fz12,Fx21,Fy21,Fz21,Fx22,Fy22],2))"
   ]
  },
  {
   "cell_type": "code",
   "execution_count": 13,
   "metadata": {},
   "outputs": [
    {
     "name": "stdout",
     "output_type": "stream",
     "text": [
      "-79918.5264686508 -114387.366351581\n"
     ]
    }
   ],
   "source": [
    "from sympy import *\n",
    "rA2y, rA2x, rB2y, rB2x, rA1y, rA1x, rB1y, rB1x = symbols('r_A2y, r_A2x, r_B2y, r_B2x, r_A1y, r_A1x, r_B1y, r_B1x')\n",
    "eq1 = rA2x + rB2x + Fx22 + Fx21\n",
    "eq2 = -l22*rA2x + (-l22+l23)*Fx21 + (-l22+l21)*rB2x\n",
    "rA2x,rB2x = list(linsolve([eq1,eq2],[rA2x,rB2x]))[0]\n",
    "eq1 = Fy22 + rA2y + Fy21 + rB2y\n",
    "eq2 = -l22*rA2y + (-l22+l23)*Fy21 + (-l22+l21)*rB2y\n",
    "rA2y,rB2y = list(linsolve([eq1,eq2],[rA2y,rB2y]))[0]\n",
    "eq1 = rA1x + rB1x + Fx12\n",
    "eq2 = -l12*rB1x + (-l12+l13)*Fx12 + (-l12+l11)*rA1x\n",
    "rA1x,rB1x = list(linsolve([eq1,eq2],[rA1x,rB1x]))[0]\n",
    "eq1 = Fy12 + rA1y + rB1y\n",
    "eq2 = -l12*rB1y + (-l12+l13)*Fy12 + (-l12+l11)*rA1y\n",
    "rA1y,rB1y = list(linsolve([eq1,eq2],[rA1y,rB1y]))[0]\n",
    "np.round([float(rA1x),float(rA1y),float(rB1x),float(rB1y),\n",
    "         float(rA2x),float(rA2y),float(rB2x),float(rB2y)],2)\n",
    "M2xA, M2xD = Fx22*-l12, Fx22*(-l12+l23) + rA2x*l23\n",
    "print(M2xA, M2xD)"
   ]
  },
  {
   "cell_type": "code",
   "execution_count": 11,
   "metadata": {},
   "outputs": [
    {
     "data": {
      "text/plain": [
       "-2985.9885299824223"
      ]
     },
     "execution_count": 11,
     "metadata": {},
     "output_type": "execute_result"
    }
   ],
   "source": [
    "Fx12"
   ]
  },
  {
   "cell_type": "code",
   "execution_count": null,
   "metadata": {},
   "outputs": [],
   "source": []
  }
 ],
 "metadata": {
  "kernelspec": {
   "display_name": "Python 3",
   "language": "python",
   "name": "python3"
  },
  "language_info": {
   "codemirror_mode": {
    "name": "ipython",
    "version": 3
   },
   "file_extension": ".py",
   "mimetype": "text/x-python",
   "name": "python",
   "nbconvert_exporter": "python",
   "pygments_lexer": "ipython3",
   "version": "3.7.7"
  }
 },
 "nbformat": 4,
 "nbformat_minor": 4
}
