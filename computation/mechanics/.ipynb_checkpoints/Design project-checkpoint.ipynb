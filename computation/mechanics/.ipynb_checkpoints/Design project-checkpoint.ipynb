{
 "cells": [
  {
   "cell_type": "code",
   "execution_count": 347,
   "metadata": {},
   "outputs": [],
   "source": [
    "import numpy as np\n",
    "from math import sqrt, ceil, pi, sin, cos, tan, asin, acos, atan, log\n",
    "import matplotlib.pyplot as plt\n",
    "from scipy.interpolate import interp1d, interp2d\n",
    "# from IPython.core.interactiveshell import InteractiveShell\n",
    "# InteractiveShell.ast_node_interactivity = \"all\"\n",
    "np.set_printoptions(precision=2, suppress=True)\n",
    "%precision 2\n",
    "\n",
    "\n",
    "P = 7 # kW\n",
    "n = 65 # rpm\n",
    "L = 8 # years\n",
    "Kng = 260 # days\n",
    "Ca = 1 # shifts\n",
    "t1 = 15 # s\n",
    "t2 = 11 # s\n",
    "T1 = 1 # N.mm\n",
    "T2 = .7 # N.mm\n",
    "\n",
    "def odd(num):\n",
    "    if num%2==0: return num+1\n",
    "    else: return num\n",
    "def disp(*args):\n",
    "    a = []\n",
    "    for arg in args:\n",
    "        a.append(arg)\n",
    "    return np.array(a,dtype=float)\n",
    "\n",
    "fkses1 = interp1d([400,500,600,700,800,900,1000,1200],\n",
    "            [2.25,2.5,2.75,3,3.25,3.5,3.75,4.25])\n",
    "fkses2 = interp1d([400,500,600,700,800,900,1000,1200],\n",
    "             [2.75,3.05,3.36,3.66,3.96,4.28,4.6,5.2])\n",
    "fkses1 = interp1d([400,500,600,700,800,900,1000,1200],\n",
    "            [2.25,2.5,2.75,3,3.25,3.5,3.75,4.25])\n",
    "fkses2 = interp1d([400,500,600,700,800,900,1000,1200],\n",
    "             [2.75,3.05,3.36,3.66,3.96,4.28,4.6,5.2])\n",
    "fes = interp1d([15,20,30,40,50,70,80,100],\n",
    "              [0.87,0.83,0.77,0.73,0.7,0.66,0.64,0.62])\n",
    "fet = interp1d([15,20,30,40,50,70,80,100],\n",
    "               [0.92,0.89,0.81,0.78,0.76,0.73,0.71,0.7])\n",
    "\n",
    "# fes(850),fes(850)"
   ]
  },
  {
   "cell_type": "markdown",
   "metadata": {},
   "source": [
    "## Motor Design $(power, rpm)$"
   ]
  },
  {
   "cell_type": "code",
   "execution_count": 348,
   "metadata": {},
   "outputs": [
    {
     "data": {
      "text/plain": [
       "0.87"
      ]
     },
     "execution_count": 348,
     "metadata": {},
     "output_type": "execute_result"
    }
   ],
   "source": [
    "# calculate efficiency, e = eta\n",
    "e_c = 1\n",
    "e_b = 0.99\n",
    "e_hg = 0.97 # helical gear\n",
    "e_ch = 0.96\n",
    "e_sys = e_c * e_b**4 * e_hg**2 * e_ch\n",
    "e_sys"
   ]
  },
  {
   "cell_type": "code",
   "execution_count": 349,
   "metadata": {},
   "outputs": [
    {
     "data": {
      "text/plain": [
       "(6.20, 7.14, 1.13)"
      ]
     },
     "execution_count": 349,
     "metadata": {},
     "output_type": "execute_result"
    }
   ],
   "source": [
    "P_max = P # calculate max power of the belt conveyor, kW\n",
    "P_w = P_max*sqrt((T1**2*t1 + T2**2*t2)/(t1+t2)) # calculate power given the work load, kW\n",
    "P_mo = P_w/e_sys # lower limit of the motor's power, kW\n",
    "Kqt = sqrt((T1**2*t1 + T2**2*t2)/(t1+t2))**-1\n",
    "P_w, P_mo, Kqt # compare P_max & P_mo, choose larger value to set lower limit and look up the catalogue"
   ]
  },
  {
   "cell_type": "code",
   "execution_count": 350,
   "metadata": {},
   "outputs": [
    {
     "data": {
      "text/plain": [
       "(65, 22.40, 1456.00)"
      ]
     },
     "execution_count": 350,
     "metadata": {},
     "output_type": "execute_result"
    }
   ],
   "source": [
    "u_ch = 2.8\n",
    "u_h = 8\n",
    "u_sys = u_ch * u_h # calculate transmission ratio of the system\n",
    "n_mo = u_sys * n # calculate theoretical rotational speed of the motor, rpm\n",
    "n, u_sys, n_mo"
   ]
  },
  {
   "cell_type": "code",
   "execution_count": 351,
   "metadata": {},
   "outputs": [
    {
     "data": {
      "text/plain": [
       "(22.38, 2.80)"
      ]
     },
     "execution_count": 351,
     "metadata": {},
     "output_type": "execute_result"
    }
   ],
   "source": [
    "P_mo = 7.5 # power based on choice of motor, kW\n",
    "n_mo = 1455 # rotational speed based on choice of motor, rpm\n",
    "u_sys = n_mo / n # new transmission ratio\n",
    "u_ch = u_sys / u_h # new transmission ratio of ch drive, given u_hg=const\n",
    "u_sys, u_ch"
   ]
  },
  {
   "cell_type": "code",
   "execution_count": 352,
   "metadata": {
    "scrolled": true
   },
   "outputs": [
    {
     "data": {
      "text/plain": [
       "(7.14, 7.07, 6.79, 6.52, 6.26)"
      ]
     },
     "execution_count": 352,
     "metadata": {},
     "output_type": "execute_result"
    }
   ],
   "source": [
    "P_ch  = P_w / e_b\n",
    "P_sh3 = P_ch / e_ch # power of shaft 3, kW\n",
    "P_sh2 = P_sh3 / (e_b*e_hg)\n",
    "P_sh1 = P_sh2 / (e_b*e_hg)\n",
    "P_mow = P_sh1 / e_b\n",
    "P_mow, P_sh1, P_sh2, P_sh3, P_ch"
   ]
  },
  {
   "cell_type": "code",
   "execution_count": 353,
   "metadata": {},
   "outputs": [
    {
     "data": {
      "text/plain": [
       "(2.83, 2.83, 1455, 514.42, 181.88)"
      ]
     },
     "execution_count": 353,
     "metadata": {},
     "output_type": "execute_result"
    }
   ],
   "source": [
    "u_1 = sqrt(u_h)\n",
    "u_2 = u_h/u_1\n",
    "n_sh1 = n_mo # rotational speed of shaft 1, rpm\n",
    "n_sh2 = n_sh1 / u_1\n",
    "n_sh3 = n_sh2 / u_2\n",
    "u_1, u_2, n_sh1, n_sh2, n_sh3"
   ]
  },
  {
   "cell_type": "code",
   "execution_count": 354,
   "metadata": {},
   "outputs": [
    {
     "data": {
      "text/plain": [
       "(46892.66, 46423.73, 126093.30, 342486.86)"
      ]
     },
     "execution_count": 354,
     "metadata": {},
     "output_type": "execute_result"
    }
   ],
   "source": [
    "T_mo  = 9.55e6 * P_mow / n_mo # torque of motor, N.mm\n",
    "T_sh1 = 9.55e6 * P_sh1 / n_sh1 # torque of shaft 1, N.mm\n",
    "T_sh2 = 9.55e6 * P_sh2 / n_sh2\n",
    "T_sh3 = 9.55e6 * P_sh3 / n_sh3\n",
    "T_mo, T_sh1, T_sh2, T_sh3"
   ]
  },
  {
   "cell_type": "markdown",
   "metadata": {},
   "source": [
    "## Chain Drive Design"
   ]
  },
  {
   "cell_type": "code",
   "execution_count": 355,
   "metadata": {},
   "outputs": [
    {
     "data": {
      "text/plain": [
       "(181.88, 23.40)"
      ]
     },
     "execution_count": 355,
     "metadata": {},
     "output_type": "execute_result"
    }
   ],
   "source": [
    "# find z1, z2\n",
    "n1 = n_sh3\n",
    "z1 = 29 - 2*u_ch\n",
    "n1, z1"
   ]
  },
  {
   "cell_type": "code",
   "execution_count": 356,
   "metadata": {},
   "outputs": [
    {
     "data": {
      "text/plain": [
       "(25, 69.95)"
      ]
     },
     "execution_count": 356,
     "metadata": {},
     "output_type": "execute_result"
    }
   ],
   "source": [
    "z1 = odd(ceil(z1))\n",
    "z2 = u_ch*z1 # eq (5.1), p.80, obtain odd number of teeth\n",
    "z1, z2"
   ]
  },
  {
   "cell_type": "code",
   "execution_count": 357,
   "metadata": {},
   "outputs": [
    {
     "data": {
      "text/plain": [
       "(1.00, 1.10, 10.33)"
      ]
     },
     "execution_count": 357,
     "metadata": {},
     "output_type": "execute_result"
    }
   ],
   "source": [
    "kz, kn, k0, ka, kdc, kd, kc, kbt = 25/z1, 200/n1, 1, 1, 1, 1.5, 1, 1.3\n",
    "Pt = P_ch*k0*ka*kdc*kd*kc*kz*kn\n",
    "kz,kn,Pt"
   ]
  },
  {
   "cell_type": "code",
   "execution_count": 358,
   "metadata": {},
   "outputs": [
    {
     "data": {
      "text/plain": [
       "(71, 762.00, 1270.00)"
      ]
     },
     "execution_count": 358,
     "metadata": {},
     "output_type": "execute_result"
    }
   ],
   "source": [
    "# find P_allowance and [a_min, a_max]\n",
    "# P_allowance, p, dc, B = 19.3, 31.75, 9.55, 27.46 # table 5.5, p.81\n",
    "z2 = odd(ceil(z2)) # eq (5.1), p.80, obtain odd number of teeth\n",
    "P_allowance, p, dc, B = 11, 25.4, 7.95, 22.61 # table 5.5, p.81\n",
    "a_min, a_max = 30*p, 50*p\n",
    "z2, a_min, a_max"
   ]
  },
  {
   "cell_type": "code",
   "execution_count": 359,
   "metadata": {
    "scrolled": true
   },
   "outputs": [
    {
     "data": {
      "text/plain": [
       "(109.79, 112, 788.57, 2.71)"
      ]
     },
     "execution_count": 359,
     "metadata": {},
     "output_type": "execute_result"
    }
   ],
   "source": [
    "a = a_min # mm\n",
    "x = 2*a/p + (z1+z2)/2 + (z2-z1)**2*p/(4*pi**2*a) # eq (5.12), p.85\n",
    "xc = odd(ceil(x)) + 1\n",
    "a = p/4*(xc - 0.5*(z2+z1) + sqrt((xc-0.5*(z2+z1))**2-2*((z2-z1)/pi)**2)) * (1-.003)\n",
    "i = z1*n1/(15*xc)\n",
    "x, xc, a, i"
   ]
  },
  {
   "cell_type": "code",
   "execution_count": 360,
   "metadata": {},
   "outputs": [
    {
     "data": {
      "text/plain": [
       "(1.92, 3253.04, 9.63, 120.68, 14.06, 8.05)"
      ]
     },
     "execution_count": 360,
     "metadata": {},
     "output_type": "execute_result"
    }
   ],
   "source": [
    "# k_d, dl, Q, q, k_f = 1.2, 19.05, 88.5, 3.8, 6 # table 5.2; eq 5.15\n",
    "k_d, dl, Q, q, k_f = 1.2, 15.88, 56.7, 2.6, 6 # table 5.2; eq 5.15\n",
    "fs = interp1d([50,200,400,600,800,1e3],[7,8.2,9.3,10.3,11.7,12.9]) # table 5.10\n",
    "v1 = n1*p*z1/6e4\n",
    "Ft, Fv, F0 = 1e3*P_ch/v1, q*v1**2, 9.81*k_f*q*a/1e3\n",
    "s = Q*1e3/(k_d*Ft + F0 + Fv)\n",
    "s_allowable = float(fs(n1))\n",
    "v1, Ft, Fv, F0, s, s_allowable"
   ]
  },
  {
   "cell_type": "code",
   "execution_count": 361,
   "metadata": {},
   "outputs": [
    {
     "data": {
      "text/plain": [
       "(3.87, 0.42, 148975.16, 547.76, 600)"
      ]
     },
     "execution_count": 361,
     "metadata": {},
     "output_type": "execute_result"
    }
   ],
   "source": [
    "sigHm, E1, E2, A, kd = 600, 205000, 117000, 180, 1\n",
    "E = E1*E2*2/(E1+E2)\n",
    "Fvd = 13e-7*n1*p**3\n",
    "fkr = interp1d([15,20,30,40,50,60],[.59,.48,.36,.29,.24,.22])\n",
    "k_r = float(fkr(z1))\n",
    "sigH=.47*sqrt(k_r*(Ft*k_d+Fvd)*E/A)\n",
    "Fvd, k_r, E, sigH, sigHm"
   ]
  },
  {
   "cell_type": "code",
   "execution_count": 362,
   "metadata": {
    "scrolled": true
   },
   "outputs": [
    {
     "data": {
      "text/plain": [
       "(130.31, 3383.35, 3741.00)"
      ]
     },
     "execution_count": 362,
     "metadata": {},
     "output_type": "execute_result"
    }
   ],
   "source": [
    "k_x = 1.15\n",
    "F2 = F0+Fv\n",
    "F1 = Ft+F2\n",
    "Fr = Fr32 = k_x*Ft\n",
    "F2, F1, Fr"
   ]
  },
  {
   "cell_type": "code",
   "execution_count": 363,
   "metadata": {
    "scrolled": true
   },
   "outputs": [
    {
     "data": {
      "text/plain": [
       "(202.66, 574.23, 213.76, 586.37, 186.60, 558.17)"
      ]
     },
     "execution_count": 363,
     "metadata": {},
     "output_type": "execute_result"
    }
   ],
   "source": [
    "d1 = p/sin(pi/z1)\n",
    "d2 = p/sin(pi/z2)\n",
    "da1 = p*(.5 + 1/tan(pi/z1))\n",
    "da2 = p*(.5 + 1/tan(pi/z2))\n",
    "df1 = d1 - 2*(.5025*dl+.05)\n",
    "df2 = d2 - 2*(.5025*dl+.05)\n",
    "d1, d2, da1, da2, df1, df2"
   ]
  },
  {
   "cell_type": "markdown",
   "metadata": {},
   "source": [
    "## Gear design"
   ]
  },
  {
   "cell_type": "code",
   "execution_count": 364,
   "metadata": {},
   "outputs": [
    {
     "data": {
      "text/plain": [
       "(205, 190, 480, 369.00, 450, 342.00)"
      ]
     },
     "execution_count": 364,
     "metadata": {},
     "output_type": "execute_result"
    }
   ],
   "source": [
    "HB, sigb, sigch = 205, 600, 340 # MPa\n",
    "SH, SF = 1.1, 1.75\n",
    "H1, H2 = HB, HB-15\n",
    "sigHlim1, sigFlim1 = 2*H1+70, 1.8*H1\n",
    "sigHlim2, sigFlim2 = 2*H2+70, 1.8*H2\n",
    "H1, H2, sigHlim1, sigFlim1, sigHlim2, sigFlim2"
   ]
  },
  {
   "cell_type": "code",
   "execution_count": 365,
   "metadata": {},
   "outputs": [
    {
     "data": {
      "text/plain": [
       "(10600601.81,\n",
       " 8833440.68,\n",
       " 16640,\n",
       " array([1.05, 0.37, 0.91, 0.32, 0.37, 0.13, 0.32, 0.11]))"
      ]
     },
     "execution_count": 365,
     "metadata": {},
     "output_type": "execute_result"
    }
   ],
   "source": [
    "mH, mF, c, NFO = 6, 6, 1, 4e6\n",
    "\n",
    "NHO1, NHO2 = 30*H1**2.4, 30*H2**2.4\n",
    "Lh = 8*Ca*Kng*L\n",
    "tmp = 60*Lh*c*(T1**3*t1 + T2**3*t2)/(t1+t2)\n",
    "NHE1q, NHE2q, NHE1s, NHE2s = n_sh1*tmp, n_sh2*tmp, n_sh2*tmp, n_sh3*tmp\n",
    "tmp = 60*Lh*c*(T1**mF*t1 + T2**mF*t2)/(t1+t2)\n",
    "NFE1q, NFE2q, NFE1s, NFE2s = n_sh1*tmp, n_sh2*tmp, n_sh2*tmp, n_sh3*tmp\n",
    "NHO1, NHO2, Lh, np.array([NHE1q, NHE2q, NFE1q, NFE2q, NHE1s, NHE2s, NFE1s, NFE2s])/1e9"
   ]
  },
  {
   "cell_type": "code",
   "execution_count": 366,
   "metadata": {},
   "outputs": [
    {
     "data": {
      "text/plain": [
       "(0.46, 0.54, 0.40, 0.48, 0.55, 0.64, 0.48, 0.57)"
      ]
     },
     "execution_count": 366,
     "metadata": {},
     "output_type": "execute_result"
    }
   ],
   "source": [
    "fh = lambda nho, nhe: (nho/nhe)**(1/mH)\n",
    "ff = lambda nfe: (NFO/nfe)**(1/mF)\n",
    "KHL1q, KHL2q, KHL1s, KHL2s = fh(NHO1,NHE1q), fh(NHO2,NHE2q), fh(NHO1,NHE1s), fh(NHO2,NHE2s)\n",
    "KFL1q, KFL2q, KFL1s, KFL2s = ff(NFE1q), ff(NFE2q), ff(NFE1s), ff(NFE2s)\n",
    "KHL1q, KHL2q, KFL1q, KFL2q, KHL1s, KHL2s, KFL1s, KFL2s"
   ]
  },
  {
   "cell_type": "code",
   "execution_count": 367,
   "metadata": {},
   "outputs": [
    {
     "data": {
      "text/plain": [
       "(436.36, 409.09, 210.86, 195.43, 436.36, 409.09, 210.86, 195.43)"
      ]
     },
     "execution_count": 367,
     "metadata": {},
     "output_type": "execute_result"
    }
   ],
   "source": [
    "cond = lambda k: 1 if k < 1 else k\n",
    "KFC = 1 # one direction rotation\n",
    "KHL1q, KHL2q, KHL1s, KHL2s, KFL1q, KFL2q, KFL1s, KFL2s = cond(KHL1q), cond(KHL2q), cond(KHL1s), cond(KHL2s), cond(KFL1q), cond(KFL2q), cond(KFL1s), cond(KFL2s)\n",
    "KHL1q, KHL2q, KHL1s, KHL2s, KFL1q, KFL2q, KFL1s, KFL2s\n",
    "\n",
    "sigH1q, sigH1s = sigHlim1/SH*KHL1q, sigHlim1/SH*KHL1s\n",
    "sigH2q, sigH2s = sigHlim2/SH*KHL2q, sigHlim2/SH*KHL2s\n",
    "sigF1q, sigF1s = sigFlim1/SF*KFL1q*KFC, sigFlim1/SF*KFL1s*KFC\n",
    "sigF2q, sigF2s = sigFlim2/SF*KFL2q*KFC, sigFlim2/SF*KFL2s*KFC\n",
    "sigH1q, sigH2q, sigF1q, sigF2q, sigH1s, sigH2s, sigF1s, sigF2s"
   ]
  },
  {
   "cell_type": "code",
   "execution_count": 368,
   "metadata": {},
   "outputs": [
    {
     "data": {
      "text/plain": [
       "(422.73, 422.73, 203.14, 203.14, 511.36, 511.36)"
      ]
     },
     "execution_count": 368,
     "metadata": {},
     "output_type": "execute_result"
    }
   ],
   "source": [
    "avg = lambda a, b: (a+b)/2\n",
    "sigH1, sigH2 = avg(sigH1q,sigH2q), avg(sigH1s,sigH2s)\n",
    "sigF1, sigF2 = avg(sigF1q,sigF2q), avg(sigF1s,sigF2s)\n",
    "sighmax, sigfmax = 2.8*sigch, 0.8*sigch\n",
    "sigH1, sigH2, sigF1, sigF2, 1.25*min([sigH1q,sigH2q]), 1.25*min([sigH1s,sigH2s])"
   ]
  },
  {
   "cell_type": "code",
   "execution_count": 369,
   "metadata": {},
   "outputs": [
    {
     "data": {
      "text/plain": [
       "(0.61, 1.03, 1.08, 0.79, 1.08)"
      ]
     },
     "execution_count": 369,
     "metadata": {},
     "output_type": "execute_result"
    }
   ],
   "source": [
    "sigH, sigF1, sigF2 = sigH1, sigF1q, sigF2q\n",
    "Ka, psibaq, psibas, uq, us = 43, 0.3, 0.39, u_1, u_2\n",
    "psibdq = 0.53*psibaq*(uq+1)\n",
    "psibds = 0.53*psibas*(us+1)\n",
    "fh5 = interp1d([.2,.4,.6,.8,1,1.2,1.4,1.6],[1.01,1.02,1.03,1.05,1.07,1.1 ,1.13,1.16])\n",
    "fh4 = interp1d([.2,.4,.6,.8,1,1.2,1.4,1.6],[1.01,1.03,1.05,1.08,1.11,1.13,1.17,1.21])\n",
    "ff5 = interp1d([.2,.4,.6,.8,1,1.2,1.4,1.6],[1.02,1.05,1.08,1.12,1.16,1.22,1.28,1.37])\n",
    "ff4 = interp1d([.2,.4,.6,.8,1,1.2,1.4,1.6],[1.03,1.06,1.12,1.17,1.23,1.3 ,1.38,1.45])\n",
    "KHbq, KHbs = float(fh5(psibdq)), float(fh4(psibds))\n",
    "KFbq, KFbs = float(ff5(psibdq)), float(ff4(psibds))\n",
    "psibdq, KHbq, KFbq, psibds, KHbs"
   ]
  },
  {
   "cell_type": "code",
   "execution_count": 370,
   "metadata": {
    "scrolled": true
   },
   "outputs": [
    {
     "data": {
      "text/plain": [
       "(112.08, 145.47)"
      ]
     },
     "execution_count": 370,
     "metadata": {},
     "output_type": "execute_result"
    }
   ],
   "source": [
    "# find center distance\n",
    "awq = Ka*(uq+1)*(T_sh1*KHbq/sigH**2/uq/psibaq)**(1/3)\n",
    "aws = Ka*(us+1)*(T_sh2*KHbs/sigH**2/us/psibas)**(1/3)\n",
    "awq, aws"
   ]
  },
  {
   "cell_type": "code",
   "execution_count": 371,
   "metadata": {},
   "outputs": [
    {
     "data": {
      "text/plain": [
       "(array([1.6, 3.2]), array([1.6, 3.2]))"
      ]
     },
     "execution_count": 371,
     "metadata": {},
     "output_type": "execute_result"
    }
   ],
   "source": [
    "awq = aws = 160\n",
    "mq = np.array([.01,.02])*awq\n",
    "ms = np.array([.01,.02])*aws\n",
    "mq, ms"
   ]
  },
  {
   "cell_type": "code",
   "execution_count": 372,
   "metadata": {},
   "outputs": [
    {
     "data": {
      "text/plain": [
       "(39.27, 26.18)"
      ]
     },
     "execution_count": 372,
     "metadata": {},
     "output_type": "execute_result"
    }
   ],
   "source": [
    "mq = 2; ms = 3; betq = 20; bets = 20\n",
    "z1q = 2*awq*cos(betq*pi/180) / (mq*(uq+1))\n",
    "z1s = 2*aws*cos(bets*pi/180) / (ms*(us+1))\n",
    "z1q, z1s"
   ]
  },
  {
   "cell_type": "code",
   "execution_count": 373,
   "metadata": {},
   "outputs": [
    {
     "data": {
      "text/plain": [
       "(115.97, 76.37, 48.00, 62.40)"
      ]
     },
     "execution_count": 373,
     "metadata": {},
     "output_type": "execute_result"
    }
   ],
   "source": [
    "z1q, z1s = 41, 27\n",
    "z2q, z2s = uq*z1q, us*z1s\n",
    "bq, bs = psibaq*awq, psibas*aws\n",
    "z2q, z2s, bq, bs"
   ]
  },
  {
   "cell_type": "code",
   "execution_count": 374,
   "metadata": {
    "scrolled": true
   },
   "outputs": [
    {
     "data": {
      "text/plain": [
       "array([11.11, 12.84])"
      ]
     },
     "execution_count": 374,
     "metadata": {},
     "output_type": "execute_result"
    }
   ],
   "source": [
    "z2q, z2s = 116, 77\n",
    "betq, bets = acos(mq*(z1q+z2q)/2/awq), acos(ms*(z1s+z2s)/2/aws)\n",
    "np.array([betq, bets])*180/pi"
   ]
  },
  {
   "cell_type": "code",
   "execution_count": 375,
   "metadata": {},
   "outputs": [
    {
     "data": {
      "text/plain": [
       "(83.57, 236.43, 87.57, 240.43, 78.53, 222.17, 78.57, 231.43, 20.35, 6.37)"
      ]
     },
     "execution_count": 375,
     "metadata": {},
     "output_type": "execute_result"
    }
   ],
   "source": [
    "alpn = 20*pi/180\n",
    "d1q = mq*z1q/cos(betq)\n",
    "d2q = mq*z2q/cos(betq)\n",
    "da1q = d1q+2*mq\n",
    "da2q = d2q+2*mq\n",
    "df1q = d1q-2.5*mq\n",
    "df2q = d2q-2.5*mq\n",
    "db1q = d1q*cos(alpn)\n",
    "db2q = d2q*cos(alpn)\n",
    "alptq = atan(tan(alpn)/cos(betq))\n",
    "ealpq = (sqrt(da1q**2-db1q**2)+sqrt(da2q**2-db2q**2)-2*awq*sin(alptq))/(2*pi*mq*cos(alptq)/cos(betq))\n",
    "v1q = pi*d1q*n_sh1/6e4\n",
    "psibdq = bq/d1q\n",
    "d1q, d2q, da1q, da2q, db1q, db2q, df1q, df2q, alptq*180/pi, v1q"
   ]
  },
  {
   "cell_type": "code",
   "execution_count": 376,
   "metadata": {},
   "outputs": [
    {
     "data": {
      "text/plain": [
       "(83.08, 236.92, 89.08, 242.92, 78.07, 222.63, 75.58, 229.42, 20.47, 2.24)"
      ]
     },
     "execution_count": 376,
     "metadata": {},
     "output_type": "execute_result"
    }
   ],
   "source": [
    "d1s = ms*z1s/cos(bets)\n",
    "d2s = ms*z2s/cos(bets)\n",
    "da1s = d1s+2*ms\n",
    "da2s = d2s+2*ms\n",
    "df1s = d1s-2.5*ms\n",
    "df2s = d2s-2.5*ms\n",
    "db1s = d1s*cos(alpn)\n",
    "db2s = d2s*cos(alpn)\n",
    "alpts = atan(tan(alpn)/cos(bets))\n",
    "ealps = (sqrt(da1s**2-db1s**2)+sqrt(da2s**2-db2s**2)-2*aws*sin(alpts))/(2*pi*ms*cos(alpts)/cos(bets))\n",
    "v1s = pi*d1s*n_sh2/6e4\n",
    "psibds = bs/d1s\n",
    "d1s, d2s, da1s, da2s, db1s, db2s, df1s, df2s, alpts*180/pi, v1s"
   ]
  },
  {
   "cell_type": "code",
   "execution_count": 377,
   "metadata": {},
   "outputs": [
    {
     "data": {
      "text/plain": [
       "(1.02, 0.92, 1.03, 1.00, 432.38, 217.57, 201.65, 389.46, 211.63, 196.14)"
      ]
     },
     "execution_count": 377,
     "metadata": {},
     "output_type": "execute_result"
    }
   ],
   "source": [
    "zr, kxh, yr, kxf = 1, 1, 1, 1\n",
    "zvq = 0.85*v1q**.1\n",
    "zvs = 0.85*v1s**.1\n",
    "ysq = 1.08-0.0695*log(mq)\n",
    "yss = 1.08-0.0695*log(ms)\n",
    "sighq = sigH*zr*zvq*kxh\n",
    "sigf1q = sigF1*yr*ysq*kxf\n",
    "sigf2q = sigF2*yr*ysq*kxf\n",
    "sighs = sigH*zr*zvs*kxh\n",
    "sigf1s = sigF1*yr*yss*kxf\n",
    "sigf2s = sigF2*yr*yss*kxf\n",
    "zvq, zvs, ysq, yss, sighq, sigf1q, sigf2q, sighs, sigf1s, sigf2s"
   ]
  },
  {
   "cell_type": "code",
   "execution_count": 378,
   "metadata": {},
   "outputs": [
    {
     "data": {
      "text/plain": [
       "(10.43, 12.05, 1.74, 1.73)"
      ]
     },
     "execution_count": 378,
     "metadata": {},
     "output_type": "execute_result"
    }
   ],
   "source": [
    "zm = 274\n",
    "betbq = atan(cos(alptq)*tan(betq))\n",
    "betbs = atan(cos(alpts)*tan(bets))\n",
    "zhq = sqrt(2*cos(betbq)/sin(2*alptq))\n",
    "zhs = sqrt(2*cos(betbs)/sin(2*alpts))\n",
    "betbq*180/pi, betbs*180/pi, zhq, zhs"
   ]
  },
  {
   "cell_type": "code",
   "execution_count": 379,
   "metadata": {
    "scrolled": true
   },
   "outputs": [
    {
     "data": {
      "text/plain": [
       "(1.61, 0.79, 1.56, 0.80, 1.47, 1.47)"
      ]
     },
     "execution_count": 379,
     "metadata": {},
     "output_type": "execute_result"
    }
   ],
   "source": [
    "ebetq = bq*sin(betq)/mq/pi\n",
    "if ebetq==0:\n",
    "    zeq = sqrt((4-ealpq)/3)\n",
    "elif ebetq < 1:\n",
    "    zeq = sqrt((4-ealpq)*(1-ebetq)/3+ebetq/ealpq)\n",
    "else: zeq = sqrt(1/ealpq)\n",
    "ebets = bs*sin(bets)/ms/pi\n",
    "if ebets==0:\n",
    "    zes = sqrt((4-ealps)/3)\n",
    "elif ebets < 1:\n",
    "    zes = sqrt((4-ealps)*(1-ebets)/3+ebets/ealps)\n",
    "else: zes = sqrt(1/ealps)\n",
    "ealpq, zeq, ealps, zes, ebetq, ebets"
   ]
  },
  {
   "cell_type": "code",
   "execution_count": 380,
   "metadata": {
    "scrolled": true
   },
   "outputs": [
    {
     "data": {
      "text/plain": [
       "([1.03, 1.08, 1.08, 1.17],\n",
       " [1.06, 1.18, 1.03, 1.08],\n",
       " [1.10, 1.30, 1.13, 1.37],\n",
       " [1.21, 1.66, 1.26, 1.73],\n",
       " [251.85, 432.38],\n",
       " [379.07, 389.46])"
      ]
     },
     "execution_count": 380,
     "metadata": {},
     "output_type": "execute_result"
    }
   ],
   "source": [
    "AGq, AGs=8,9\n",
    "fkhvq = interp1d([1,2,4,6,8,10],[1.01,1.02,1.04,1.06,1.07,1.08])\n",
    "fkhvs = interp1d([1,2,4,6,8,10],[1.01,1.03,1.05,1.07,1.09,1.12])\n",
    "fkfvq = interp1d([1,2,4,6,8,10],[1.03,1.06,1.11,1.17,1.23,1.29])\n",
    "fkfvs = interp1d([1,2,4,6,8,10],[1.04,1.07,1.14,1.21,1.28,1.35])\n",
    "fkhaq = interp1d([0,2.5,5,10,15],[1.05,1.05,1.09,1.13,1.17])\n",
    "fkfaq = interp1d([0,2.5,5,10,15],[1.22,1.22,1.27,1.37,1.45])\n",
    "fkhas = interp1d([0,2.5,5],[1.13,1.13,1.16])\n",
    "fkfas = interp1d([0,2.5,5],[1.37,1.37,1.4])\n",
    "khvq, khvs = float(fkhvq(v1q)), float(fkhvs(v1s))\n",
    "kfvq, kfvs = float(fkfvq(v1q)), float(fkfvs(v1s))\n",
    "khaq, khas = float(fkhaq(v1q)), float(fkhas(v1s))\n",
    "kfaq, kfas = float(fkfaq(v1q)), float(fkfas(v1s))\n",
    "khq, khs = KHbq*khaq*khvq, KHbs*khas*khvs\n",
    "kfq, kfs = KFbq*kfaq*kfvq, KFbs*kfas*kfvs\n",
    "sigHq = zm*zhq*zeq*sqrt(2*T_sh1*khq*(uq+1)/(bq*uq*d1q**2))\n",
    "sigHs = zm*zhs*zes*sqrt(2*T_sh2*khs*(us+1)/(bs*us*d1s**2))\n",
    "\n",
    "[KHbq, KFbq, KHbs, KFbs], [khvq, kfvq, khvs, kfvs], [khaq, kfaq, khas, kfas], [khq, kfq, khs, kfs], [sigHq, sighq], [sigHs, sighs]"
   ]
  },
  {
   "cell_type": "code",
   "execution_count": 381,
   "metadata": {},
   "outputs": [
    {
     "name": "stdout",
     "output_type": "stream",
     "text": [
      "pair 1\n",
      "y_epsilon = [0.62]\n",
      "y_beta = [0.92]\n",
      "z_v1 = [43.4]\n",
      "z_v2 = [122.78]\n",
      "y_f1 = [3.68]\n",
      "y_f2 = [3.6]\n",
      "sigF1 = [41.09] <= [217.57]\n",
      "sigF2 = [40.17] <= [201.65]\n",
      "\n",
      "pair 2\n",
      "y_epsilon = [0.64]\n",
      "y_beta = [0.91]\n",
      "z_v1 = [29.13]\n",
      "z_v2 = [83.08]\n",
      "y_f1 = [3.82]\n",
      "y_f2 = [3.61]\n",
      "sigF1 = [63.96] <= [211.63]\n",
      "sigF2 = [60.46] <= [196.14]\n"
     ]
    }
   ],
   "source": [
    "yeq, ybq = ealpq**-1, 1-betq*180/pi/140\n",
    "fyf = interp1d([17,20,22,25,30,40,50,60,80,100,150],[4.26,4.08,4,3.9,3.8,3.7,3.65,3.62,3.61,3.6,3.6])\n",
    "zv1q, zv2q = z1q/cos(betq)**3, z2q/cos(betq)**3\n",
    "yf1q, yf2q = float(fyf(zv1q)), float(fyf(zv2q))\n",
    "sigF1q = 2*T_sh1*kfq*yeq*ybq*yf1q/bq/d1q/mq/cos(betq)\n",
    "sigF2q = sigF1q*yf2q/yf1q\n",
    "\n",
    "yes, ybs = ealps**-1, 1-bets*180/pi/140\n",
    "fyf = interp1d([17,20,22,25,30,40,50,60,80,100,150],[4.26,4.08,4,3.9,3.8,3.7,3.65,3.62,3.61,3.6,3.6])\n",
    "zv1s, zv2s = z1s/cos(bets)**3, z2s/cos(bets)**3\n",
    "yf1s, yf2s = float(fyf(zv1s)), float(fyf(zv2s))\n",
    "sigF1s = 2*T_sh2*kfs*yes*ybs*yf1s/bs/d1s/ms/cos(bets)\n",
    "sigF2s = sigF1s*yf2s/yf1s\n",
    "\n",
    "print(\"pair 1\")\n",
    "print(\"y_epsilon = \" + str(np.array([yeq])))\n",
    "print(\"y_beta = \" + str(np.array([ybq])))\n",
    "print(\"z_v1 = \" + str(np.array([zv1q])))\n",
    "print(\"z_v2 = \" + str(np.array([zv2q])))\n",
    "print(\"y_f1 = \" + str(np.array([yf1q])))\n",
    "print(\"y_f2 = \" + str(np.array([yf2q])))\n",
    "print(\"sigF1 = \" + str(np.array([sigF1q])) + \" <= \" + str(np.array([sigf1q])))\n",
    "print(\"sigF2 = \" + str(np.array([sigF2q])) + \" <= \" + str(np.array([sigf2q])))\n",
    "\n",
    "print(\"\\npair 2\")\n",
    "print(\"y_epsilon = \" + str(np.array([yes])))\n",
    "print(\"y_beta = \" + str(np.array([ybs])))\n",
    "print(\"z_v1 = \" + str(np.array([zv1s])))\n",
    "print(\"z_v2 = \" + str(np.array([zv2s])))\n",
    "print(\"y_f1 = \" + str(np.array([yf1s])))\n",
    "print(\"y_f2 = \" + str(np.array([yf2s])))\n",
    "print(\"sigF1 = \" + str(np.array([sigF1s])) + \" <= \" + str(np.array([sigf1s])))\n",
    "print(\"sigF2 = \" + str(np.array([sigF2s])) + \" <= \" + str(np.array([sigf2s])))\n"
   ]
  },
  {
   "cell_type": "code",
   "execution_count": 382,
   "metadata": {},
   "outputs": [
    {
     "data": {
      "text/plain": [
       "([267.63, 402.82, 952.00], [46.40, 45.36, 72.23, 68.27, 272.00])"
      ]
     },
     "execution_count": 382,
     "metadata": {},
     "output_type": "execute_result"
    }
   ],
   "source": [
    "sigHmaxq = sigHq*sqrt(Kqt)\n",
    "sigHmaxs = sigHs*sqrt(Kqt)\n",
    "sigF1maxq = sigF1q*Kqt\n",
    "sigF2maxq = sigF2q*Kqt\n",
    "sigF1maxs = sigF1s*Kqt\n",
    "sigF2maxs = sigF2s*Kqt\n",
    "[sigHmaxq, sigHmaxs, sighmax], [sigF1maxq, sigF2maxq, sigF1maxs, sigF2maxs, sigfmax]"
   ]
  },
  {
   "cell_type": "markdown",
   "metadata": {},
   "source": [
    "## Shaft design"
   ]
  },
  {
   "cell_type": "code",
   "execution_count": 383,
   "metadata": {},
   "outputs": [
    {
     "name": "stdout",
     "output_type": "stream",
     "text": [
      "F12 = [-1111.06  -412.12  -218.24]\n",
      "F21 = [1111.06  412.12  218.24]\n",
      "F22 = [ 1117.61 -1133.19  -691.82]\n",
      "F31 = [-1117.61  1133.19   691.82]\n",
      "F32 = [3741.    0.]\n"
     ]
    }
   ],
   "source": [
    "d12, d21, d22, d31, = d1q, d2q, d1s, d2s\n",
    "r12, cb12, cq12, hr12 = d12/2, 1, -1, 1\n",
    "r22, cb22, cq22, hr22 = d22/2, 1, 1, -1\n",
    "\n",
    "F12x = np.sign(r12)*cq12*cb12*2*T_sh1/d12; F21x = -F12x\n",
    "F12y = -np.sign(r12)*2*T_sh1/d12*tan(alpn)/cos(betq); F21y = -F12y\n",
    "F12z = cq12*cb12*hr12*2*T_sh1/d12*tan(betq); F21z = -F12z\n",
    "\n",
    "F22x = np.sign(r22)*cq22*cb22*2*T_sh1/d22; F31x = -F22x\n",
    "F22y = -np.sign(r22)*2*T_sh2/d22*tan(alpn)/cos(bets); F31y = -F22y\n",
    "F22z = cq22*cb22*hr22*2*T_sh2/d22*tan(bets); F31z = -F22z\n",
    "\n",
    "alp = 0\n",
    "F32x = Fr32*cos(alp*pi/180)\n",
    "F32y = Fr32*sin(alp*pi/180)\n",
    "\n",
    "print(\"F12 = \" + str(np.array([F12x, F12y, F12z])))\n",
    "print(\"F21 = \" + str(np.array([F21x, F21y, F21z])))\n",
    "print(\"F22 = \" + str(np.array([F22x, F22y, F22z])))\n",
    "print(\"F31 = \" + str(np.array([F31x, F31y, F31z])))\n",
    "print(\"F32 = \" + str(np.array([F32x, F32y])))"
   ]
  },
  {
   "cell_type": "code",
   "execution_count": 384,
   "metadata": {},
   "outputs": [
    {
     "name": "stdout",
     "output_type": "stream",
     "text": [
      "d_shaft min = [24.92 31.59 40.92]\n",
      "d_shaft = [35. 35. 45.]\n",
      "bearing width = [21 21 25]\n"
     ]
    }
   ],
   "source": [
    "tau1, tau2, tau3 = 15, 20, 25\n",
    "\n",
    "d1 = (5*T_sh1/tau1)**(1/3)\n",
    "d2 = (5*T_sh2/tau2)**(1/3)\n",
    "d3 = (5*T_sh3/tau3)**(1/3)\n",
    "print(\"d_shaft min = \" + str(np.array([d1,d2,d3])))\n",
    "d1, d2, d3 = np.ceil(np.array([d1,d2,d3])/5)*5; d1 = 35\n",
    "print(\"d_shaft = \" + str(np.array([d1,d2,d3])))\n",
    "ds = np.arange(20,95,5)\n",
    "bO = np.arange(15,45,2)\n",
    "fbO = lambda d: bO[np.where(d==ds)][0]\n",
    "bO1, bO2, bO3 = fbO(d1), fbO(d2), fbO(d3)\n",
    "print(\"bearing width = \" + str(np.array([bO1, bO2, bO3])))"
   ]
  },
  {
   "cell_type": "code",
   "execution_count": 385,
   "metadata": {},
   "outputs": [
    {
     "name": "stdout",
     "output_type": "stream",
     "text": [
      "lm12, lm33 = [49. 54.]\n",
      "lm13, lm22 = 48.00, 48.00 >= b1 = 48.00 \n",
      "lm32 = 62.40 >= b2 = 62.40 \n",
      "l12 = 60.00, l13 = 47.50, l11 = 95.00\n",
      "l32 = 56.70, l31 = 113.40, l33 = 177.90\n",
      "l22 = 47.50, l23 = 180.70, l21 = 237.40\n"
     ]
    }
   ],
   "source": [
    "# lm12,lm13,lm22,lm32,lm33,k1,k2,k3,hn= 1.4,1.2,1.2,1.2,1.2,8,5,10,15\n",
    "lm12,lm13,lm22,lm32,lm33,k1,k2,k3,hn= 1.4,1.4,1.4,1.5,1.2,8,5,10,15\n",
    "lm12,lm13,lm22,lm32,lm33 = lm12*d1,lm13*d1,lm22*d2,lm32*d3,lm33*d3; lm13,lm22,lm32 = bq, bq, bs\n",
    "# lm13, lm22, lm32 = 50, 50, 65\n",
    "# shaft 1\n",
    "l12 = .5*(lm12+bO1)+k3+hn\n",
    "l13 = .5*(lm13+bO1)+k1+k2\n",
    "l11 = 2*l13\n",
    "# shaft 3\n",
    "l32 = .5*(lm32+bO3)+k1+k2\n",
    "l31 = 2*l32\n",
    "l33 = l31 + .5*(lm33+bO3)+k3+hn\n",
    "# shaft 2\n",
    "l22 = .5*(lm22+bO2)+k1+k2\n",
    "l23 = l11+l32+k1+0.5*(bO1+bO2)\n",
    "l21 = l23+l32\n",
    "\n",
    "print(\"lm12, lm33 = \" + str(np.array([lm12,lm33])))\n",
    "print(\"lm13, lm22 = {0:.2f}, {1:.2f} >= b1 = {2:.2f} \".format(lm13,lm22,bq))\n",
    "print(\"lm32 = {0:.2f} >= b2 = {1:.2f} \".format(lm32,bs))\n",
    "print(\"l12 = {0:.2f}, l13 = {1:.2f}, l11 = {2:.2f}\".format(l12, l13, l11))\n",
    "print(\"l32 = {0:.2f}, l31 = {1:.2f}, l33 = {2:.2f}\".format(l32, l31, l33))\n",
    "print(\"l22 = {0:.2f}, l23 = {1:.2f}, l21 = {2:.2f}\".format(l22, l23, l21))"
   ]
  },
  {
   "cell_type": "code",
   "execution_count": 386,
   "metadata": {},
   "outputs": [
    {
     "name": "stdout",
     "output_type": "stream",
     "text": [
      "F1A = [-555.53 -110.07]\t, F1B = [-555.53 -302.05]\n",
      "F2A = [1155.68   71.39]\t, F2B = [1072.99 -792.46]\n",
      "F3A = [1569.01 -156.1 ]\t, F3B = [-6427.61  1289.29]\n",
      "M1 = \n",
      "[[     0.    -6604.41  37698.33  46816.98     -0.  ]\n",
      " [     0.   -33331.68  86106.83  86106.83     -0.  ]\n",
      " [ 46423.73  46423.73  46423.73      0.        0.  ]\n",
      " [ 40204.13  52640.2  102234.64  98011.3       0.  ]]\n",
      "M2 = \n",
      "[[      0.    -19575.63  -45374.74  159392.74  188129.71       0.  ]\n",
      " [      0.    -52775.15  -52775.15 -254726.99 -254726.99       0.  ]\n",
      " [      0.         0.    126093.3   126093.3        0.         0.  ]\n",
      " [      0.     56288.74  129494.11  319713.19  316668.01       0.  ]]\n",
      "M3 = \n",
      "[[      0.    -64251.89 -146205.46      -0.        -0.  ]\n",
      " [      0.     63368.4    63368.4  -665523.03       0.  ]\n",
      " [      0.         0.    342486.86  342486.86  342486.86]\n",
      " [      0.     90243.33  336696.49  728624.63  296602.32]]\n",
      "d1 at 1, 2, 3-, 3+, 4 =      [20.12 22.01 27.47 27.08  0.  ]\n",
      "d2 at 1, 2-, 2+, 3-, 3+, 4 = [ 0.   23.81 31.43 42.48 42.35  0.  ]\n",
      "d3 at 1, 2-, 2+, 3, 4 =      [ 0.   27.19 42.17 54.55 40.43]\n"
     ]
    }
   ],
   "source": [
    "F1Ax, F1Bx = np.linalg.solve(\n",
    "    np.array([[1,1],\n",
    "             [l12,l12+l11]]),\n",
    "    -np.array([F21x,(l12+l13)*F21x]))\n",
    "F1Ay, F1By = np.linalg.solve(\n",
    "    np.array([[1,1],\n",
    "             [l12,l12+l11]]),\n",
    "    -np.array([F21y,(l12+l13)*F21y+d12/2*F21z]))\n",
    "F2Ax, F2Bx = np.linalg.solve(\n",
    "    np.array([[1,1],\n",
    "             [0,l21]]),\n",
    "    -np.array([F12x+F31x,l22*F12x+l23*F31x]))\n",
    "F2Ay, F2By = np.linalg.solve(\n",
    "    np.array([[1,1],\n",
    "             [0,l21]]),\n",
    "    -np.array([F12y+F31y,l22*F12y+l23*F31y+d21/2*F12z+d22/2*F31z]))\n",
    "F3Ax, F3Bx = np.linalg.solve(\n",
    "    np.array([[1,1],\n",
    "             [0,l31]]),\n",
    "    -np.array([F22x+F32x,l32*F22x+l33*F32x]))\n",
    "F3Ay, F3By = np.linalg.solve(\n",
    "    np.array([[1,1],\n",
    "             [0,l31]]),\n",
    "    -np.array([F22y+F32y,l32*F22y+l33*F32y+d31/2*F22z]))\n",
    "\n",
    "M1x1 = 0\n",
    "M1x2 = l12*F1Ay\n",
    "M1x3m = l12*F1Ay+(l12+l13)*F21y\n",
    "M1x3p = l12*F1Ay+(l12+l13)*F21y+d12/2*F21z\n",
    "M1x4 = l12*F1Ay+(l12+l13)*F21y+(l12+l11)*F1By+d12/2*F21z\n",
    "\n",
    "M1y1 = 0\n",
    "M1y2 = l12*F1Ax\n",
    "M1y3 = l12*F1Ax+(l12+l13)*F21x\n",
    "M1y4 = l12*F1Ax+(l12+l13)*F21x+(l12+l11)*F1Bx\n",
    "\n",
    "M2x1 = 0\n",
    "M2x2m = l22*F12y\n",
    "M2x2p = l22*F12y+d21/2*F12z\n",
    "M2x3m = l22*F12y+l23*F31y+d21/2*F12z\n",
    "M2x3p = l22*F12y+l23*F31y+d21/2*F12z+d22/2*F31z\n",
    "M2x4 =  l22*F12y+l23*F31y+l21*F2By+d21/2*F12z+d22/2*F31z\n",
    "\n",
    "M2y1 = 0\n",
    "M2y2 = l22*F12x\n",
    "M2y3 = l22*F12x+l23*F31x\n",
    "M2y4 = l22*F12x+l23*F31x+l21*F2Bx\n",
    "\n",
    "M3x1 = 0\n",
    "M3x2m = l32*F22y\n",
    "M3x2p = l32*F22y+d31/2*F22z\n",
    "M3x3 = l32*F22y+l31*F3By+d31/2*F22z\n",
    "M3x4 = l32*F22y+l31*F3By+l33*F32y+d31/2*F22z\n",
    "\n",
    "M3y1 = 0\n",
    "M3y2 = l32*F22x\n",
    "M3y3 = l32*F22x+l31*F3Bx\n",
    "M3y4 = l32*F22x+l31*F3Bx+l33*F32x\n",
    "\n",
    "M1 = np.array([[M1x1,M1x2,M1x3m,M1x3p,M1x4],[M1y1,M1y2,M1y3,M1y3,M1y4],[T_sh1,T_sh1,T_sh1,0,0]])\n",
    "M2 = np.array([[M2x1,M2x2m,M2x2p,M2x3m,M2x3p,M2x4],[M2y1,M2y2,M2y2,M2y3,M2y3,M2y4],[0,0,T_sh2,T_sh2,0,0]])\n",
    "M3 = np.array([[M3x1,M3x2m,M3x2p,M3x3,M3x4],[M3y1,M3y2,M3y2,M3y3,M3y4],[0,0,T_sh3,T_sh3,T_sh3]])\n",
    "\n",
    "Mf = lambda Mx, My, Tsh: np.sqrt(Mx**2+My**2+.75*Tsh**2)\n",
    "uf = lambda a, b: a if abs(a)>abs(b) else b # unsigned condition\n",
    "Mx = np.array([[M1x1,M1x2,uf(M1x3m,M1x3p),M1x4],\n",
    "              [M2x1,uf(M2x2m,M2x2p),uf(M2x3m,M2x3p),M2x4],\n",
    "              [M3x1,uf(M3x2m,M3x2p),M3x3,M3x4]])\n",
    "My = np.array([[M1y1,M1y2,M1y3,M1y4],\n",
    "              [M2y1,M2y2,M2y3,M2y4],\n",
    "              [M3y1,M3y2,M3y3,M3y4]])\n",
    "Ts = np.array([[T_sh1,T_sh1,T_sh1,0],\n",
    "              [0,T_sh2,T_sh2,0],\n",
    "              [0,T_sh3,T_sh3,T_sh3]])\n",
    "\n",
    "Me1 = Mf(M1[0,:],M1[1,:],M1[2,:])\n",
    "Me2 = Mf(M2[0,:],M2[1,:],M2[2,:])\n",
    "Me3 = Mf(M3[0,:],M3[1,:],M3[2,:])\n",
    "\n",
    "sigf1 = interp1d([30,50,100],[58,48,45])\n",
    "sigf2 = interp1d([30,50,100],[63,50,48])\n",
    "sigf3 = interp1d([30,50,100],[67,55,50])\n",
    "d1s = (10*Me1/sigf1(d1))**(1/3)*1.04\n",
    "d2s = (10*Me2/sigf1(d2))**(1/3)*1.1\n",
    "d3s = (10*Me3/sigf1(d3))**(1/3)*1.04\n",
    "\n",
    "print(\"F1A = \" + str(np.array([F1Ax, F1Ay])) + \"\\t, F1B = \" + str(np.array([F1Bx, F1By])))\n",
    "print(\"F2A = \" + str(np.array([F2Ax, F2Ay])) + \"\\t, F2B = \" + str(np.array([F2Bx, F2By])))\n",
    "print(\"F3A = \" + str(np.array([F3Ax, F3Ay])) + \"\\t, F3B = \" + str(np.array([F3Bx, F3By])))\n",
    "print(\"M1 = \\n\" + str(np.concatenate((M1, [Me1]))))\n",
    "print(\"M2 = \\n\" + str(np.concatenate((M2, [Me2]))))\n",
    "print(\"M3 = \\n\" + str(np.concatenate((M3, [Me3]))))\n",
    "print(\"d1 at 1, 2, 3-, 3+, 4 =      \" + str(d1s))\n",
    "print(\"d2 at 1, 2-, 2+, 3-, 3+, 4 = \" + str(d2s))\n",
    "print(\"d3 at 1, 2-, 2+, 3, 4 =      \" + str(d3s))"
   ]
  },
  {
   "cell_type": "code",
   "execution_count": 387,
   "metadata": {},
   "outputs": [
    {
     "name": "stdout",
     "output_type": "stream",
     "text": [
      "sigd = [45.25 45.85 45.85 48.32] <= 50\n",
      "tau = [13.57 11.46 11.46 10.87] <= 20.0\n"
     ]
    }
   ],
   "source": [
    "# b1k, h1k, t11k, t12k, l1k, r1k = 10, 8, 5, 3.3, 50, 0.3\n",
    "d1s = np.array([32,35,38,35]); D1s = np.hstack(([d1s[0]], [34], d1s[1:]))\n",
    "d2s = np.array([50,55,55,50]); D2s = np.hstack((d2s[:2], [60], d2s[2:]))\n",
    "d3s = np.array([65,70,65,52]); D3s = np.hstack(([d3s[0]], [75], d3s[1:]))\n",
    "Ds = np.array([D1s, D2s, D3s])\n",
    "b1k, h1k, t11k, t12k, l1k, r1k = 10, 8, 5, 3.3, 18, 0.3\n",
    "# b2k, h2k, t21k, ct22k, l2k, r2k = 12, 8, 5, 3.3, 40, 0.3\n",
    "b2k, h2k, t21k, ct22k, l2k, r2k = 16, 10, 6, 4.3, 25, 0.3\n",
    "# b2k, h2k, t21k, ct22k, l2k, r2k = 14, 9, 5.5, 3.8, 36, 0.3\n",
    "b3k, h3k, t31k, t32k, l3k, r3k = 20, 12, 7.5, 4.9, 45, 0.3 #14, 9, 5.5, 3.8, 65, 0.3\n",
    "sigf = lambda T, d, l, h, t: 2*T/(d*l*(h-t))\n",
    "tauf = lambda T, d, l, b: 2*T/d/l/b\n",
    "sigd1 = sigf(T_sh1, d1s[2], l1k, h1k, t11k)\n",
    "sigd21 = sigf(T_sh2, d2s[1], l2k, h2k, t21k)\n",
    "sigd22 = sigf(T_sh2, d2s[2], l2k, h2k, t21k)\n",
    "sigd3 = sigf(T_sh3, d3s[1], l3k, h3k, t31k)\n",
    "tau1 = tauf(T_sh1, d1s[2], l1k, b1k)\n",
    "tau21 = tauf(T_sh2, d2s[1], l2k, b2k)\n",
    "tau22 = tauf(T_sh2, d2s[2], l2k, b2k)\n",
    "tau3 = tauf(T_sh3, d3s[1], l3k, b3k)\n",
    "sigpm, taupm = 50, 60\n",
    "print(\"sigd = \" + str(np.array([sigd1, sigd21, sigd22, sigd3])) + \" <= \" + str(sigpm))\n",
    "print(\"tau = \" + str(np.array([tau1, tau21, tau22, tau3])) + \" <= \" + str(1/3*taupm))"
   ]
  },
  {
   "cell_type": "code",
   "execution_count": 388,
   "metadata": {},
   "outputs": [
    {
     "name": "stdout",
     "output_type": "stream",
     "text": [
      "r/d = \n",
      "[[0.03 0.01 0.04 0.02]\n",
      " [0.02 0.04 0.05 0.02]\n",
      " [0.02 0.04 0.02 0.12]]\n",
      "Ksig = \n",
      "[[2.35 2.64 2.18 2.5 ]\n",
      " [2.5  2.15 2.09 2.5 ]\n",
      " [2.5  2.24 2.5  1.55]]\n",
      "Ktau = \n",
      "[[1.71 1.89 1.61 1.8 ]\n",
      " [1.8  1.58 1.55 1.8 ]\n",
      " [1.8  1.64 1.8  1.22]]\n",
      "esig = \n",
      "[[0.87 0.86 0.86 0.86]\n",
      " [0.81 0.8  0.8  0.81]\n",
      " [0.77 0.76 0.77 0.81]]\n",
      "etau = \n",
      "[[0.8  0.8  0.79 0.8 ]\n",
      " [0.76 0.75 0.75 0.76]\n",
      " [0.74 0.73 0.74 0.76]]\n"
     ]
    }
   ],
   "source": [
    "# Ktau2fsigb = 600\n",
    "sigb = 585\n",
    "siginv = .436*sigb\n",
    "tauinv = .58*siginv\n",
    "\n",
    "psisig, psitau, Kx, Ky = 0.03, 0, 1.2, 1\n",
    "\n",
    "# Ksig_epsig = np.where(np.array([d1s, d2s, d3s])>50,2.52,2.06)\n",
    "# Ktau_eptau = np.where(np.array([d1s, d2s, d3s])>=50,2.03,1.64)\n",
    "Ksig1, Ktau1 = 1.76, 1.54\n",
    "Ksig2f = interp1d([0,.02,.06,.1,.16],[3,2.5,1.85,1.6,1.49])\n",
    "Ktau2f = interp1d([0,.02,.06,.1,.16],[2.1,1.8,1.4,1.25,1.18])\n",
    "rdf = lambda d: np.hstack(abs(Ds[:,:-1]-Ds[:,1:])/2/d[:,1:])\n",
    "rds = rdf(Ds).reshape(3,4)\n",
    "rds[0,-1] = rds[1,0] = rds[1,-1] = rds[2,0] = rds[2,2] = .02; rds = np.hstack(rds);\n",
    "Ksigs, Ktaus = Ksig2f(rds).reshape(3,4), Ktau2f(rds).reshape(3,4)\n",
    "esigf = interp1d([15,20,30,40,50,70,80,100],[.95,.92,.88,.85,.81,.76,.73,.70])\n",
    "etauf = interp1d([15,20,30,40,50,70,80,100],[.92,.89,.81,.78,.76,.73,.71,.70])\n",
    "esigs, etaus = esigf([d1s, d2s, d3s]), etauf([d1s, d2s, d3s])\n",
    "print(\"r/d = \\n\" + str(rds.reshape(3,4)))\n",
    "print(\"Ksig = \\n\" + str(Ksigs))\n",
    "print(\"Ktau = \\n\" + str(Ktaus))\n",
    "print(\"esig = \\n\" + str(esigs))\n",
    "print(\"etau = \\n\" + str(etaus))"
   ]
  },
  {
   "cell_type": "code",
   "execution_count": 389,
   "metadata": {
    "scrolled": false
   },
   "outputs": [
    {
     "name": "stdout",
     "output_type": "stream",
     "text": [
      "W = \n",
      "[[ 2647.46  3566.39  4670.6   3566.39]\n",
      " [ 8554.73 12142.99 12142.99  8554.73]\n",
      " [23146.34 29488.68 23146.34 10948.03]]\n",
      "Wo = \n",
      "[[ 5864.45  7775.63 10057.64  7775.63]\n",
      " [20826.57 28476.82 28476.82 20826.57]\n",
      " [50107.59 63162.62 50107.59 24752.19]]\n",
      "sigm = 0; siga = \n",
      "[[ 0.    9.53 20.98  0.  ]\n",
      " [ 0.    5.73 26.08  0.  ]\n",
      " [ 0.    5.4  28.75  0.  ]]\n",
      "taum = taua = \n",
      "[[3.96 2.99 2.31 0.  ]\n",
      " [0.   2.21 2.21 0.  ]\n",
      " [0.   2.71 3.42 6.92]]\n"
     ]
    }
   ],
   "source": [
    "W1f = lambda d, b, t: pi*d**3/32 - b*t*(d-t)**2/2/d # 1 keyseat\n",
    "W2f = lambda d, b, t: pi*d**3/32 - b*t*(d-t)**2/d # 2 keyseats\n",
    "Wo1f = lambda d, b, t: pi*d**3/16 - b*t*(d-t)**2/2/d # 1 keyseat\n",
    "Wo2f = lambda d, b, t: pi*d**3/16 - b*t*(d-t)**2/d # 2 keyseats\n",
    "Ws = np.array([W1f(d1s, b1k, t11k), W2f(d2s, b2k, t21k), W1f(d3s, b3k, t31k)])\n",
    "Wos = np.array([Wo1f(d1s, b1k, t11k), Wo2f(d2s, b2k, t21k), Wo1f(d3s, b3k, t31k)])\n",
    "print(\"W = \\n\" + str(Ws))\n",
    "print(\"Wo = \\n\" + str(Wos))\n",
    "\n",
    "sigms = 0\n",
    "sigas = np.sqrt(Mx**2+My**2)/Ws\n",
    "print(\"sigm = 0; siga = \\n\" + str(sigas))\n",
    "taums = tauas = Ts/2/Wos\n",
    "print(\"taum = taua = \\n\" + str(tauas))"
   ]
  },
  {
   "cell_type": "code",
   "execution_count": 390,
   "metadata": {
    "scrolled": true
   },
   "outputs": [
    {
     "name": "stdout",
     "output_type": "stream",
     "text": [
      "Ksigd = \n",
      "[[2.89 3.26 2.75 3.09]\n",
      " [3.29 2.89 2.82 3.29]\n",
      " [3.44 3.15 3.44 2.13]]\n",
      "Ktaud = \n",
      "[[2.32 2.57 2.24 2.46]\n",
      " [2.57 2.3  2.25 2.57]\n",
      " [2.64 2.45 2.64 1.81]]\n",
      "ssig = \n",
      "[[  inf  8.22  4.42]\n",
      " [  inf 15.38  3.47]\n",
      " [  inf 14.97  2.58]]\n",
      "stau = \n",
      "[[16.1  19.27 28.59   inf]\n",
      " [  inf 29.   29.65   inf]\n",
      " [  inf 22.27 16.39 11.8 ]]\n",
      "s = \n",
      "[[  nan  7.56  4.37   nan]\n",
      " [  nan 13.59  3.45   nan]\n",
      " [  nan 12.42  2.55 11.8 ]]\n"
     ]
    }
   ],
   "source": [
    "import warnings\n",
    "warnings.filterwarnings('ignore')\n",
    "\n",
    "Ksigds = (Ksigs/esigs + Kx - 1)/Ky\n",
    "Ktauds = (Ktaus/etaus + Kx - 1)/Ky\n",
    "\n",
    "ssig = siginv/(Ksigds*sigas+psisig*sigms)\n",
    "stau = tauinv/(Ktauds*tauas+psitau*taums)\n",
    "\n",
    "s = ssig*stau/np.sqrt(ssig**2+stau**2)\n",
    "print(\"Ksigd = \\n\" + str(Ksigds))\n",
    "print(\"Ktaud = \\n\" + str(Ktauds))\n",
    "print(\"ssig = \\n\" + str(ssig[:,:-1]))\n",
    "print(\"stau = \\n\" + str(stau))\n",
    "print(\"s = \\n\" + str(s))"
   ]
  },
  {
   "cell_type": "code",
   "execution_count": 391,
   "metadata": {
    "scrolled": false
   },
   "outputs": [
    {
     "name": "stdout",
     "output_type": "stream",
     "text": [
      "sigs = \n",
      "[[ 0.    7.93 17.86  0.  ]\n",
      " [ 0.    4.18 19.03  0.  ]\n",
      " [ 0.    4.65 24.23  0.  ]]\n",
      "taus = \n",
      "[[ 7.08  5.41  4.23  0.  ]\n",
      " [ 0.    3.79  3.79  0.  ]\n",
      " [ 0.    4.99  6.24 12.18]]\n",
      "sigtds = \n",
      "[[12.27 12.28 19.31  0.  ]\n",
      " [ 0.    7.78 20.13  0.  ]\n",
      " [ 0.    9.82 26.53 21.09]]\n"
     ]
    }
   ],
   "source": [
    "sigs = 10*np.sqrt(Mx**2+My**2)/np.array([d1s,d2s,d3s])**3\n",
    "taus = 5*Ts/np.array([d1s,d2s,d3s])**3\n",
    "sigtds = np.sqrt(sigs**2+3*taus**2)\n",
    "print(\"sigs = \\n\" + str(sigs))\n",
    "print(\"taus = \\n\" + str(taus))\n",
    "print(\"sigtds = \\n\" + str(sigtds))"
   ]
  },
  {
   "cell_type": "markdown",
   "metadata": {},
   "source": [
    "## bearing design"
   ]
  },
  {
   "cell_type": "code",
   "execution_count": 44,
   "metadata": {
    "scrolled": false
   },
   "outputs": [
    {
     "ename": "NameError",
     "evalue": "name 'rA1y' is not defined",
     "output_type": "error",
     "traceback": [
      "\u001b[0;31m---------------------------------------------------------------------------\u001b[0m",
      "\u001b[0;31mNameError\u001b[0m                                 Traceback (most recent call last)",
      "\u001b[0;32m<ipython-input-44-c28ecec67449>\u001b[0m in \u001b[0;36m<module>\u001b[0;34m\u001b[0m\n\u001b[1;32m      1\u001b[0m \u001b[0mX1\u001b[0m\u001b[0;34m,\u001b[0m\u001b[0mY1\u001b[0m\u001b[0;34m,\u001b[0m\u001b[0mX2\u001b[0m\u001b[0;34m,\u001b[0m\u001b[0mY2\u001b[0m\u001b[0;34m,\u001b[0m\u001b[0mlh\u001b[0m\u001b[0;34m,\u001b[0m\u001b[0mm1\u001b[0m\u001b[0;34m,\u001b[0m\u001b[0mm2\u001b[0m \u001b[0;34m=\u001b[0m \u001b[0;36m.6\u001b[0m\u001b[0;34m,\u001b[0m\u001b[0;36m1.07\u001b[0m\u001b[0;34m,\u001b[0m\u001b[0;36m1.66\u001b[0m\u001b[0;34m,\u001b[0m\u001b[0;36m1\u001b[0m\u001b[0;34m,\u001b[0m\u001b[0;36m19200\u001b[0m\u001b[0;34m,\u001b[0m\u001b[0;36m3\u001b[0m\u001b[0;34m,\u001b[0m\u001b[0;36m3\u001b[0m\u001b[0;34m\u001b[0m\u001b[0;34m\u001b[0m\u001b[0m\n\u001b[0;32m----> 2\u001b[0;31m \u001b[0mQ1\u001b[0m \u001b[0;34m=\u001b[0m \u001b[0mX1\u001b[0m\u001b[0;34m*\u001b[0m\u001b[0mabs\u001b[0m\u001b[0;34m(\u001b[0m\u001b[0mrA1y\u001b[0m\u001b[0;34m)\u001b[0m\u001b[0;34m+\u001b[0m\u001b[0mY1\u001b[0m\u001b[0;34m*\u001b[0m\u001b[0mabs\u001b[0m\u001b[0;34m(\u001b[0m\u001b[0mFz12\u001b[0m\u001b[0;34m)\u001b[0m\u001b[0;34m\u001b[0m\u001b[0;34m\u001b[0m\u001b[0m\n\u001b[0m\u001b[1;32m      3\u001b[0m \u001b[0mQ2\u001b[0m \u001b[0;34m=\u001b[0m \u001b[0mX2\u001b[0m\u001b[0;34m*\u001b[0m\u001b[0mabs\u001b[0m\u001b[0;34m(\u001b[0m\u001b[0mrB2y\u001b[0m\u001b[0;34m)\u001b[0m\u001b[0;34m+\u001b[0m\u001b[0mY1\u001b[0m\u001b[0;34m*\u001b[0m\u001b[0mabs\u001b[0m\u001b[0;34m(\u001b[0m\u001b[0mFz21\u001b[0m\u001b[0;34m)\u001b[0m\u001b[0;34m\u001b[0m\u001b[0;34m\u001b[0m\u001b[0m\n\u001b[1;32m      4\u001b[0m \u001b[0mCd1\u001b[0m \u001b[0;34m=\u001b[0m \u001b[0mQ1\u001b[0m\u001b[0;34m*\u001b[0m\u001b[0mL1\u001b[0m\u001b[0;34m**\u001b[0m\u001b[0;34m(\u001b[0m\u001b[0;36m1\u001b[0m\u001b[0;34m/\u001b[0m\u001b[0mm1\u001b[0m\u001b[0;34m)\u001b[0m\u001b[0;34m\u001b[0m\u001b[0;34m\u001b[0m\u001b[0m\n\u001b[1;32m      5\u001b[0m \u001b[0mCd2\u001b[0m \u001b[0;34m=\u001b[0m \u001b[0mQ2\u001b[0m\u001b[0;34m*\u001b[0m\u001b[0mL2\u001b[0m\u001b[0;34m**\u001b[0m\u001b[0;34m(\u001b[0m\u001b[0;36m1\u001b[0m\u001b[0;34m/\u001b[0m\u001b[0mm2\u001b[0m\u001b[0;34m)\u001b[0m\u001b[0;34m\u001b[0m\u001b[0;34m\u001b[0m\u001b[0m\n",
      "\u001b[0;31mNameError\u001b[0m: name 'rA1y' is not defined"
     ]
    }
   ],
   "source": [
    "X1,Y1,X2,Y2,lh,m1,m2 = .6,1.07,1.66,1,19200,3,3\n",
    "Q1 = X1*abs(rA1y)+Y1*abs(Fz12)\n",
    "Q2 = X2*abs(rB2y)+Y1*abs(Fz21)\n",
    "Cd1 = Q1*L1**(1/m1)\n",
    "Cd2 = Q2*L2**(1/m2)\n",
    "FrA1 = np.sqrt(rA1x**2+rA1y**2)\n",
    "FrB1 = np.sqrt(rB1x**2+rB1y**2)\n",
    "FrA2 = np.sqrt(rA2x**2+rA2y**2)\n",
    "FrB2 = np.sqrt(rB2x**2+rB2y**2)\n",
    "ratioA1 = abs(Fz12)/FrA1\n",
    "ratioB1 = abs(Fz12)/FrB1\n",
    "ratioA2 = abs(Fz12)/FrA2\n",
    "ratioB2 = abs(Fz12)/FrB2\n",
    "disp(ratioA1, ratioB1, ratioA2,ratioB2)\n",
    "disp(FrA1,FrB1,FrA2,FrB2)/1e3\n",
    "d2,D2,r2,C2,Co2=40,90,2.5,31.9,21.7\n",
    "d1,D1,r1,C1,Co1=35,80,2.5,33.4,25.2\n",
    "ratio1,ratio2=Fz12/Co1/1e3,Fz12/Co2/1e3\n",
    "f1 = interp1d([.014,.028,.057,.085,.11,.17,.29,.43,.57],\n",
    "                 [.3,.34,.37,.41,.45,.48,.52,.54,.54])\n",
    "f2 = interp1d([.014,.028,.056,.084,.11,.17,.28,.42,.56],\n",
    "               [.19,.22,.26,.28,.3,.34,.38,.42,.44])\n",
    "e1, e2 = f1(ratio1),f2(ratio2)\n",
    "# disp(e1,e2)\n",
    "\n",
    "f1 = interp1d([.014,.028,.057,.085,.11,.17,.29,.43,.57],\n",
    "                 [2.3,1.99,1.71,1.55,1.45,1.31,1.15,1.04,1])\n",
    "f2 = interp1d([.014,.028,.056,.084,.11,.17,.28,.42,.56],\n",
    "               [1.81,1.62,1.46,1.34,1.22,1.13,1.04,1.01,1])\n",
    "X1,X2,Y1,Y2 = 0.56,0.45,f1(ratio1),f2(ratio2)\n",
    "disp(X1,X2,Y1,Y2 )\n",
    "FsA1 = e1*FrA1\n",
    "FsB1 = e1*FrB1\n",
    "FaA1 = FsB1 - Fz12\n",
    "FaB1 = FsA1 + Fz12\n",
    "FatA1, FatB1, FatA2, FatB2 = FsA1, FaB1, Fz12, Fz12\n",
    "QA1 = (X1*FrA1 + Y1*FatA1)\n",
    "QB1 = (X1*FrB1 + Y1*FatB1)\n",
    "QA2 = (X2*FrA2 + Y2*FatA2)\n",
    "QB2 = (X2*FrB2 + Y2*FatB2)\n",
    "if QA1<QB1: Q1 = QB1\n",
    "else: Q1 = QA1\n",
    "if QA2<QB2: Q1 = QB2\n",
    "else: Q2 = QA2\n",
    "Qe1 = Q1*(T1**3*t1/(t1+t2)+T2**3*t2/(t1+t2))**(1/3)\n",
    "Qe2 = Q2*(T1**3*t1/(t1+t2)+T2**3*t2/(t1+t2))**(1/3)\n",
    "L1 = lh*60*n_sh1*1e-6/2\n",
    "L2 = lh*60*n_sh2*1e-6/2\n",
    "Cd1 = Qe1*L1**(1/3)\n",
    "Cd2 = Qe2*L2**(1/3)\n",
    "f = interp2d([320,400,500,630,800,1000,1250,1600,2000,2500,3200,4000],\n",
    "            [8000,12500,16000,20000,25000,32000,40000,50000],\n",
    "            np.array([[5.75,6.2,6.7,7.23,7.81,8.43,9.11,9.83,10.6,11.5,12.4,13.4],\n",
    "                    [6.2,6.7,7.23,7.81,8.43,9.11,9.83,10.6,11.5,12.4,13.4,14.5],\n",
    "                      [6.7,7.23,7.81,8.41,9.11,9.83,10.6,11.5,12.4,13.4,14.5,15.6],\n",
    "                     [7.23,7.81,8.43,9.11,9.83,10.6,11.5,12.4,13.4,14.5,15.6,16.8],\n",
    "                     [7.81,8.43,9.11,9.83,10.6,11.5,12.4,13.4,14.5,15.6,16.8,18.2],\n",
    "                     [8.43,9.11,9.83,10.6,11.5,12.4,13.4,14.5,15.6,16.8,18.2,19.6],\n",
    "                     [9.11,9.83,10.6,11.5,12.4,13.4,14.5,15.6,16.8,18.2,19.6,21.2],\n",
    "                     [9.83,10.6,11.5,12.4,13.4,14.5,15.6,16.8,18.2,19.6,21.2,22.9]]))\n",
    "ra1,ra2 = f(n_sh1,lh/2), f(n_sh2,lh/2)\n",
    "C1 = Qe1*ra1\n",
    "C2 = Qe2*ra2\n",
    "XO,YO = .5,.47\n",
    "Qt11 = XO*Fz12 + YO*FatB1\n",
    "Qt12 = Fz12\n",
    "if Qt11<Qt12: Qt1 = Qt12\n",
    "else: Qt1 = Qt11\n",
    "XO,YO = .6,.5\n",
    "Qt21 = XO*Fz12 + YO*FatB2\n",
    "Qt22 = Fz12\n",
    "if Qt21<Qt22: Qt2 = Qt22\n",
    "else: Qt2 = Qt21\n",
    "disp(ra1,ra2)\n",
    "disp(Qe1,Qe2,C1,C2,Cd1,Cd2,Qt1,Qt2)/1e3"
   ]
  },
  {
   "cell_type": "code",
   "execution_count": null,
   "metadata": {},
   "outputs": [],
   "source": []
  }
 ],
 "metadata": {
  "kernelspec": {
   "display_name": "Python 3",
   "language": "python",
   "name": "python3"
  },
  "language_info": {
   "codemirror_mode": {
    "name": "ipython",
    "version": 3
   },
   "file_extension": ".py",
   "mimetype": "text/x-python",
   "name": "python",
   "nbconvert_exporter": "python",
   "pygments_lexer": "ipython3",
   "version": "3.7.9"
  }
 },
 "nbformat": 4,
 "nbformat_minor": 4
}
