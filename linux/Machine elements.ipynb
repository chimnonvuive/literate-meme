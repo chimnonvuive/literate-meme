{
 "cells": [
  {
   "cell_type": "code",
   "execution_count": 1,
   "metadata": {},
   "outputs": [],
   "source": [
    "import numpy as np\n",
    "np.set_printoptions(precision=4, suppress=True)"
   ]
  },
  {
   "cell_type": "code",
   "execution_count": 2,
   "metadata": {},
   "outputs": [],
   "source": [
    "F = 4500 # N\n",
    "v = 3.05 # m/s\n",
    "D = 500 # mm\n",
    "L = 4 # year\n",
    "t1 = 12 # s\n",
    "t2 = 60 # s\n",
    "T1 = 1 # N.mm\n",
    "T2 = 0.7 # N.mm"
   ]
  },
  {
   "cell_type": "markdown",
   "metadata": {},
   "source": [
    "## Motor Design $(power, rpm)$"
   ]
  },
  {
   "cell_type": "code",
   "execution_count": 3,
   "metadata": {},
   "outputs": [
    {
     "name": "stdout",
     "output_type": "stream",
     "text": [
      "0.8849126879999999\n"
     ]
    }
   ],
   "source": [
    "# calculate efficiency, e = eta\n",
    "e_coupling = 1\n",
    "e_bearing = 0.99\n",
    "e_helical_gear = 0.96\n",
    "e_chain = 0.95\n",
    "e_sys = e_coupling * e_bearing**3 * e_helical_gear * e_chain\n",
    "print(e_sys)"
   ]
  },
  {
   "cell_type": "markdown",
   "metadata": {},
   "source": [
    "**Find theoretical power of motor**"
   ]
  },
  {
   "cell_type": "code",
   "execution_count": 4,
   "metadata": {},
   "outputs": [
    {
     "name": "stdout",
     "output_type": "stream",
     "text": [
      "13.725 10.407496546960752 11.761043420546766\n"
     ]
    }
   ],
   "source": [
    "P_max = F*v/1000 # calculate max power of the belt conveyor, kW\n",
    "P_work = P_max*np.sqrt((T1**2*t1 + T2**2*t2)/(t1+t2)) # calculate power given the work load, kW\n",
    "P_motor = P_work/e_sys # lower limit of the motor's power, kW\n",
    "print(P_max, P_work, P_motor)"
   ]
  },
  {
   "cell_type": "markdown",
   "metadata": {},
   "source": [
    "**Find theoretical rpm of motor**"
   ]
  },
  {
   "cell_type": "code",
   "execution_count": 5,
   "metadata": {},
   "outputs": [
    {
     "name": "stdout",
     "output_type": "stream",
     "text": [
      "116.50141834326739 25 2912.535458581685\n"
     ]
    }
   ],
   "source": [
    "n_belt = v*6e4/np.pi/D # calculate rotational speed of the belt conveyor, rpm\n",
    "u_chain = 5\n",
    "u_helical_gear = 5\n",
    "u_sys = u_chain * u_helical_gear # calculate transmission ratio of the system\n",
    "n_motor = u_sys * n_belt # calculate theoretical rotational speed of the motor, rpm\n",
    "print(n_belt, u_sys, n_motor)"
   ]
  },
  {
   "cell_type": "markdown",
   "metadata": {},
   "source": [
    "**From table P1.3, p.236, choose motor 4A160S2Y3**"
   ]
  },
  {
   "cell_type": "code",
   "execution_count": 6,
   "metadata": {},
   "outputs": [
    {
     "name": "stdout",
     "output_type": "stream",
     "text": [
      "25.14990840168878 5.029981680337756\n"
     ]
    }
   ],
   "source": [
    "P_motor = 15 # power based on choice of motor, kW\n",
    "n_motor = 2930 # rotational speed based on choice of motor, rpm\n",
    "u_sys = n_motor / n_belt # new transmission ratio\n",
    "u_chain = u_sys / u_helical_gear # new transmission ratio of chain drive, given u_helical_gear=const\n",
    "print(u_sys, u_chain)"
   ]
  },
  {
   "cell_type": "markdown",
   "metadata": {},
   "source": [
    "**Calculate power, rpm and torque of the motor and 2 shafts**"
   ]
  },
  {
   "cell_type": "code",
   "execution_count": 7,
   "metadata": {},
   "outputs": [
    {
     "name": "stdout",
     "output_type": "stream",
     "text": [
      "11.643432986341297 11.526998656477884 10.955259523116581\n"
     ]
    }
   ],
   "source": [
    "P_chain = P_work\n",
    "P_shaft_2 = P_chain / (e_chain) # power of shaft 2, kW\n",
    "P_shaft_1 = P_shaft_2 / (e_bearing*e_helical_gear) # power of shaft 1, kW\n",
    "P_motor = P_shaft_1 / (e_bearing*e_coupling) # power of motor, kW\n",
    "print(P_motor, P_shaft_1, P_shaft_2)"
   ]
  },
  {
   "cell_type": "code",
   "execution_count": 8,
   "metadata": {},
   "outputs": [
    {
     "name": "stdout",
     "output_type": "stream",
     "text": [
      "2930 2930 586.0\n"
     ]
    }
   ],
   "source": [
    "n_shaft_1 = n_motor # rotational speed of shaft 1, rpm\n",
    "n_shaft_2 = n_shaft_1 / (u_helical_gear) # rotational speed of shaft 2, rpm\n",
    "print(n_motor, n_shaft_1, n_shaft_2)"
   ]
  },
  {
   "cell_type": "code",
   "execution_count": 9,
   "metadata": {},
   "outputs": [
    {
     "name": "stdout",
     "output_type": "stream",
     "text": [
      "37950.43857322846 37570.934187496176 178537.07925898183\n"
     ]
    }
   ],
   "source": [
    "T_motor = 9.55e6 * P_motor / n_motor # torque of motor, N.mm\n",
    "T_shaft_1 = 9.55e6 * P_shaft_1 / n_shaft_1 # torque of shaft 1, N.mm\n",
    "T_shaft_2 = 9.55e6 * P_shaft_2 / n_shaft_2 # torque of shaft 2, N.mm\n",
    "print(T_motor, T_shaft_1, T_shaft_2)"
   ]
  },
  {
   "cell_type": "markdown",
   "metadata": {},
   "source": [
    "## Chain Drive Design"
   ]
  },
  {
   "cell_type": "markdown",
   "metadata": {},
   "source": [
    "**Find pitch $p$**"
   ]
  },
  {
   "cell_type": "code",
   "execution_count": 10,
   "metadata": {},
   "outputs": [
    {
     "name": "stdout",
     "output_type": "stream",
     "text": [
      "22.78450946040671\n",
      "19.0 97.0 25.7 25.4\n"
     ]
    }
   ],
   "source": [
    "# find z1, z2\n",
    "z_1 = np.ceil(29 - 2*u_chain)\n",
    "z_2 = np.ceil(u_chain*z_1) + 1 # eq (5.1), p.80, plus 1 to obtain odd number of teeth\n",
    "\n",
    "# find k, k_z, k_n\n",
    "n01 = 600 # ~ n_shaft_2\n",
    "k_z, k_n = 25/z_1, n01/n_shaft_2 # eq (5.3), p.81\n",
    "k_0, k_a, k_dc, k_bt, k_d, k_c = 1, 1, 1, 1, 1.25, 1.3\n",
    "k = k_0 * k_a * k_dc * k_bt * k_d * k_c # table 5.6, p.82\n",
    "P_allowance = P_chain * k * k_z * k_n # equals 22.7845 <= 25.7\n",
    "print(P_allowance)\n",
    "P_allowance, p, dc, B = 25.7, 25.4, 7.95, 22.61 # table 5.5, p.81\n",
    "print(z_1, z_2, P_allowance, p) # examine table 5.8, p<p_max~31.75"
   ]
  },
  {
   "cell_type": "code",
   "execution_count": 11,
   "metadata": {},
   "outputs": [
    {
     "name": "stdout",
     "output_type": "stream",
     "text": [
      "154.3185590527462 784.389021668636\n"
     ]
    }
   ],
   "source": [
    "d_1 = p/np.sin(np.pi/z_1)\n",
    "d_2 = p/np.sin(np.pi/z_2)\n",
    "print(d_1,d_2)"
   ]
  },
  {
   "cell_type": "markdown",
   "metadata": {},
   "source": [
    "**Find center distance $a$ and number of chain $x_c$**"
   ]
  },
  {
   "cell_type": "code",
   "execution_count": 12,
   "metadata": {},
   "outputs": [],
   "source": [
    "a_min, a_max, a = 30*p, 50*p, 770 # 762<a<1270, choose a = 800\n",
    "x = 2*a/p + (z_1+z_2)/2 + (z_2-z_1)**2*p/(4*np.pi**2*a) # eq (5.12), p.85\n",
    "x_c = np.ceil(x)\n",
    "a = 0.25*p*(x_c-0.5*(z_2+z_1)+np.sqrt((x_c-0.5*(z_2+z_1))**2-2*((z_2-z_1)/np.pi)**2)) - 0.003*a # eq (5.13), p.85\n",
    "i = z_1*n_shaft_2/(15*x) # eq (5.14), p.85; i<[i]=30 at table 5.9, p.85"
   ]
  },
  {
   "cell_type": "markdown",
   "metadata": {},
   "source": [
    "**Validate strength of the chain drive**"
   ]
  },
  {
   "cell_type": "code",
   "execution_count": 13,
   "metadata": {},
   "outputs": [
    {
     "data": {
      "text/plain": [
       "True"
      ]
     },
     "execution_count": 13,
     "metadata": {},
     "output_type": "execute_result"
    }
   ],
   "source": [
    "B_min, d_O, d_l, h_max, b_max, Q, q = 15.88, 7.95, 15.88, 24.2, 38, 56.7, 2.6 # table 5.2, p.78\n",
    "k_f, k_d = 6, 1.2\n",
    "v_1 = n_shaft_2*p*z_1/6e4\n",
    "F_t, F_v, F_O = 1e3*P_chain/v_1, q*v_1**2, 9.81*k_f*q*a/1e3\n",
    "s = Q*1e3/(k_d*F_t + F_O + F_v)\n",
    "s >= 10.3 # table 5.10, p.86"
   ]
  },
  {
   "cell_type": "code",
   "execution_count": 14,
   "metadata": {},
   "outputs": [
    {
     "name": "stdout",
     "output_type": "stream",
     "text": [
      "2539.279067664951\n"
     ]
    }
   ],
   "source": [
    "k_x = 1.15\n",
    "F_r = k_x*F_t # eq (5.20), p.88\n",
    "print(F_r)"
   ]
  },
  {
   "cell_type": "code",
   "execution_count": 18,
   "metadata": {},
   "outputs": [],
   "source": [
    "alp, beta = 20*np.pi/180, 20*np.pi/180\n",
    "H1, H2, NFO1, NFO2 = 250, 240, 4e6,4e6\n",
    "NHO1, NHO2 = 30*H1**2.4, 30*H2**2.4\n",
    "NHE1, NHE2 = 60*n_shaft_1*(T1**3*t1 + T2**3*t2), 60*n_shaft_2*(T1**3*t1 + T2**3*t2)\n",
    "NFE1, NFE2 = 60*n_shaft_1*(T1**6*t1 + T2**6*t2), 60*n_shaft_2*(T1**6*t1 + T2**6*t2)\n",
    "KHL1, KHL2 = (NHO1/NHE1)**(1/6), (NHO2/NHE2)**(1/6)\n",
    "KFL1, KFL2 = (NFO1/NFE1)**(1/6), (NFO2/NFE2)**(1/6)\n",
    "sigH1, sigH2 = 570/1.1*KHL1, 550/1.1*KHL2\n",
    "sigF1, sigF2 = 450*KFL1/1.75, 432*KFL2/1.75\n",
    "sigH = np.average([sigH1,sigH2])\n",
    "psibd = 0.53*0.5*(u_helical_gear+1)\n",
    "da1 = 43*(u_helical_gear+1)*(T_shaft_1*1.108/sigH**2/u_helical_gear/0.5)**(1/3)\n",
    "\n",
    "alp_t = np.arctan(np.tan(alp)/np.cos(beta))\n",
    "beta_b = np.arctan(np.cos(alp_t)*np.tan(beta))\n",
    "zH = np.sqrt(2*np.cos(beta_b)/np.sin(2*alp_t))"
   ]
  },
  {
   "cell_type": "code",
   "execution_count": 21,
   "metadata": {},
   "outputs": [
    {
     "data": {
      "text/plain": [
       "array([21.17, 18.75,  1.68])"
      ]
     },
     "execution_count": 21,
     "metadata": {},
     "output_type": "execute_result"
    }
   ],
   "source": [
    "np.round([alp_t*180/np.pi, beta_b*180/np.pi, zH],2)"
   ]
  },
  {
   "cell_type": "code",
   "execution_count": null,
   "metadata": {},
   "outputs": [],
   "source": []
  },
  {
   "cell_type": "code",
   "execution_count": null,
   "metadata": {},
   "outputs": [],
   "source": []
  }
 ],
 "metadata": {
  "kernelspec": {
   "display_name": "Python 3",
   "language": "python",
   "name": "python3"
  },
  "language_info": {
   "codemirror_mode": {
    "name": "ipython",
    "version": 3
   },
   "file_extension": ".py",
   "mimetype": "text/x-python",
   "name": "python",
   "nbconvert_exporter": "python",
   "pygments_lexer": "ipython3",
   "version": "3.7.7"
  }
 },
 "nbformat": 4,
 "nbformat_minor": 4
}
