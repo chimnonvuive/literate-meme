{
 "cells": [
  {
   "cell_type": "code",
   "execution_count": 82,
   "metadata": {},
   "outputs": [],
   "source": [
    "%matplotlib inline\n",
    "import numpy as np\n",
    "\n",
    "from scipy.integrate import solve_ivp\n",
    "\n",
    "from sympy import Matrix, lambdify, symbols, sin, cos\n",
    "from sympy.solvers.solveset import linsolve\n",
    "from sympy.physics.mechanics import dynamicsymbols, init_vprinting\n",
    "\n",
    "import matplotlib.pyplot as plt\n",
    "\n",
    "init_vprinting()"
   ]
  },
  {
   "cell_type": "code",
   "execution_count": 83,
   "metadata": {},
   "outputs": [],
   "source": [
    "q1, q2 = dynamicsymbols('q_1 q_2')\n",
    "t = symbols('t')\n",
    "\n",
    "\"numerical values\"\n",
    "l1, m1, l2, m2, g = 1, 1, 1, 1, 9.81\n",
    "beta01, gamma01, beta12, gamma12 = 450, 300, 200, 300\n",
    "params =             (q1       ,  q1.diff(),  q2     ,  q2.diff())\n",
    "initial_conditions = (-np.pi/18,  0        ,  np.pi/6,  0        )\n",
    "q1f, q2f = np.pi/6, np.pi/3\n",
    "IC1, IC2 = m1*l1**2/12, m2*l2**2/12\n",
    "\n",
    "\"feedback control\"\n",
    "T01 = Matrix([0, 0, -beta01*q1.diff() - gamma01*(q1-q1f) + 0.5*g*l1*m1*cos(q1) + g*l1*m2*cos(q1)])\n",
    "T02 = Matrix([0, 0, -beta12*q2.diff() - gamma12*(q2-q2f) + 0.5*g*l2*m2*cos(q2)])"
   ]
  },
  {
   "cell_type": "code",
   "execution_count": 84,
   "metadata": {},
   "outputs": [],
   "source": [
    "omg1 = Matrix([0, 0, q1.diff()])\n",
    "omg2 = Matrix([0, 0, q2.diff()])\n",
    "alp1 = omg1.diff()\n",
    "alp2 = omg2.diff()\n",
    "\n",
    "\"PVA of rC1, rC2\"\n",
    "# position\n",
    "rC1 = l1/2 * Matrix([cos(q1), sin(q1), 0])\n",
    "rC2 = 2*rC1 + l2/2 * Matrix([cos(q2), sin(q2), 0])\n",
    "\n",
    "# acceleration\n",
    "aC1 = rC1.diff(t, 2)\n",
    "aC2 = rC2.diff(t, 2)"
   ]
  },
  {
   "cell_type": "code",
   "execution_count": 85,
   "metadata": {},
   "outputs": [],
   "source": [
    "\"Force Analysis of rC1, rC2\"\n",
    "# gravity\n",
    "G1 = Matrix([0, -m1*g, 0])\n",
    "G2 = Matrix([0, -m2*g, 0])\n",
    "\n",
    "# the forces/moments acting on link 2 are G2, T02, F12, T12\n",
    "F12 = m2*aC2 - G2\n",
    "rBC2 = 2*rC1 - rC2\n",
    "T12 = -IC2*alp2 + T02 + rBC2.cross(F12) # center of moment at C2\n",
    "\n",
    "# the forces/moments acting on link 1 are G1, T01, F21, T21, F01, M_reaction\n",
    "F01 = m1*aC1 - G1 - (-F12)\n",
    "M = -IC1*alp1 + T01 + (-T12) + (-rC1).cross(F01) + rC1.cross(-F12) # center of moment at C1\n",
    "\n",
    "sol = list(linsolve((T12[2], M[2]), (alp1[2], alp2[2])))[0]"
   ]
  },
  {
   "cell_type": "code",
   "execution_count": 86,
   "metadata": {},
   "outputs": [],
   "source": [
    "dq1 = lambdify(params, q1.diff())\n",
    "ddq1 = lambdify(params, sol[0])\n",
    "dq2 = lambdify(params, q2.diff())\n",
    "ddq2 = lambdify(params, sol[1])\n",
    "\n",
    "fun = lambda t, y: [dq1(*y), ddq1(*y), dq2(*y), ddq2(*y)]\n",
    "time_interval = [0, 10]\n",
    "res = solve_ivp(fun, time_interval, initial_conditions,\n",
    "                t_eval=np.linspace(*time_interval, 10000))"
   ]
  },
  {
   "cell_type": "code",
   "execution_count": 87,
   "metadata": {},
   "outputs": [
    {
     "data": {
      "text/plain": [
       "[<matplotlib.lines.Line2D at 0x7fc8f58529d0>]"
      ]
     },
     "execution_count": 87,
     "metadata": {},
     "output_type": "execute_result"
    },
    {
     "data": {
      "image/png": "[encoded data removed]",
      "text/plain": [
       "<Figure size 432x288 with 1 Axes>"
      ]
     },
     "metadata": {
      "needs_background": "light"
     },
     "output_type": "display_data"
    }
   ],
   "source": [
    "plt.plot(res.t, res.y[0]*180/np.pi)"
   ]
  },
  {
   "cell_type": "code",
   "execution_count": 88,
   "metadata": {},
   "outputs": [
    {
     "data": {
      "text/plain": [
       "[<matplotlib.lines.Line2D at 0x7fc8f5a1e690>]"
      ]
     },
     "execution_count": 88,
     "metadata": {},
     "output_type": "execute_result"
    },
    {
     "data": {
      "image/png": "[encoded data removed]",
      "text/plain": [
       "<Figure size 432x288 with 1 Axes>"
      ]
     },
     "metadata": {
      "needs_background": "light"
     },
     "output_type": "display_data"
    }
   ],
   "source": [
    "plt.plot(res.t, res.y[2]*180/np.pi)"
   ]
  }
 ],
 "metadata": {
  "kernelspec": {
   "display_name": "Python 3",
   "language": "python",
   "name": "python3"
  },
  "language_info": {
   "codemirror_mode": {
    "name": "ipython",
    "version": 3
   },
   "file_extension": ".py",
   "mimetype": "text/x-python",
   "name": "python",
   "nbconvert_exporter": "python",
   "pygments_lexer": "ipython3",
   "version": "3.7.7"
  }
 },
 "nbformat": 4,
 "nbformat_minor": 4
}
