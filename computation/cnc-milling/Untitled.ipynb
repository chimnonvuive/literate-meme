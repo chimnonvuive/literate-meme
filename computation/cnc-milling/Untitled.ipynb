{
 "cells": [
  {
   "cell_type": "code",
   "execution_count": 44,
   "metadata": {},
   "outputs": [
    {
     "data": {
      "text/plain": [
       "True"
      ]
     },
     "execution_count": 44,
     "metadata": {},
     "output_type": "execute_result"
    }
   ],
   "source": [
    "import numpy as np\n",
    "import pandas as pd\n",
    "import scipy.stats as stats\n",
    "import matplotlib.pyplot as plt\n",
    "exps = [pd.read_csv('experiment_01.csv'),\n",
    "        pd.read_csv('experiment_02.csv'),\n",
    "        pd.read_csv('experiment_03.csv'),\n",
    "        pd.read_csv('experiment_04.csv'),\n",
    "        pd.read_csv('experiment_05.csv'),\n",
    "        pd.read_csv('experiment_06.csv'),\n",
    "        pd.read_csv('experiment_07.csv'),\n",
    "        pd.read_csv('experiment_08.csv'),\n",
    "        pd.read_csv('experiment_09.csv'),\n",
    "        pd.read_csv('experiment_10.csv'),\n",
    "        pd.read_csv('experiment_11.csv'),\n",
    "        pd.read_csv('experiment_12.csv'),\n",
    "        pd.read_csv('experiment_13.csv'),\n",
    "        pd.read_csv('experiment_14.csv'),\n",
    "        pd.read_csv('experiment_15.csv'),\n",
    "        pd.read_csv('experiment_16.csv'),\n",
    "        pd.read_csv('experiment_17.csv'),\n",
    "        pd.read_csv('experiment_18.csv')]\n",
    "unworn = [0,1,2,3,4,10,11,16]\n",
    "worn = [5,6,7,8,9,12,13,14,15,17]\n",
    "\n",
    "mean_x, mean_y, mean_z = [], [], []\n",
    "for exp in exps:\n",
    "    \n",
    "    for sample in np.size(exp['X1_ActualPosition']):\n",
    "    err_pos_x = exp['X1_ActualPosition']-exp['X1_CommandPosition']\n",
    "    err_pos_y = exp['Y1_ActualPosition']-exp['Y1_CommandPosition']\n",
    "    err_pos_z = exp['Z1_ActualPosition']-exp['Z1_CommandPosition']\n",
    "    err_vel_x = exp['X1_ActualVelocity']-exp['X1_CommandVelocity']\n",
    "    err_vel_y = exp['Y1_ActualVelocity']-exp['Y1_CommandVelocity']\n",
    "    err_vel_z = exp['Z1_ActualVelocity']-exp['Z1_CommandVelocity']\n",
    "    err_acc_x = exp['X1_ActualAcceleration']-exp['X1_CommandAcceleration']\n",
    "    err_acc_y = exp['Y1_ActualAcceleration']-exp['Y1_CommandAcceleration']\n",
    "    err_acc_z = exp['Z1_ActualAcceleration']-exp['Z1_CommandAcceleration']\n",
    "    \n",
    "    mean_x.append(np.mean(abs(err_pos_x)))\n",
    "    mean_y.append(np.mean(abs(err_pos_y)))\n",
    "    mean_z.append(np.mean(abs(err_pos_z)))\n",
    "F, p = stats.f_oneway(mean_x, mean_y, mean_z)\n",
    "dfn, dfd = 2, 51\n",
    "stats.f.ppf(0.95,dfn,dfd) < F # or 0.95 < stats.f.cdf(F,dfn,dfd)"
   ]
  },
  {
   "cell_type": "code",
   "execution_count": 45,
   "metadata": {},
   "outputs": [
    {
     "data": {
      "text/plain": [
       "True"
      ]
     },
     "execution_count": 45,
     "metadata": {},
     "output_type": "execute_result"
    }
   ],
   "source": [
    "stats.f.cdf(F,dfn,dfd) > 0.95"
   ]
  },
  {
   "cell_type": "code",
   "execution_count": 61,
   "metadata": {},
   "outputs": [
    {
     "data": {
      "text/plain": [
       "-2.1603686564610127"
      ]
     },
     "execution_count": 61,
     "metadata": {},
     "output_type": "execute_result"
    }
   ],
   "source": [
    "stats.t.ppf(1-0.975, 13)"
   ]
  },
  {
   "cell_type": "code",
   "execution_count": 47,
   "metadata": {},
   "outputs": [
    {
     "data": {
      "text/plain": [
       "0.9729286995306662"
      ]
     },
     "execution_count": 47,
     "metadata": {},
     "output_type": "execute_result"
    }
   ],
   "source": [
    "stats.f.cdf(F,2,51)"
   ]
  },
  {
   "cell_type": "code",
   "execution_count": 4,
   "metadata": {},
   "outputs": [
    {
     "data": {
      "text/plain": [
       "69.09004379955542"
      ]
     },
     "execution_count": 4,
     "metadata": {},
     "output_type": "execute_result"
    }
   ],
   "source": [
    "import pandas as pd\n",
    "import numpy as np\n",
    "\n",
    "df = pd.read_csv('experiment_01.csv')\n",
    "a=0\n",
    "b=0\n",
    "variance = 0\n",
    "size = df.shape[0]\n",
    "c= np.random.rand(size,3)\n",
    "d= np.random.rand(size,3)\n",
    "np.mean(df['X1_ActualPosition'])\n",
    "np.var(df['X1_ActualPosition'])\n",
    "# for i in range (size):\n",
    "#     c[i,0] = mean - df.at[i,'X1_ActualPosition']\n",
    "# for i in range (size-1):\n",
    "#     d[i,0]=(c[i+1,0]-c[i,0])**2\n",
    "#     variance = d[i,0] +variance\n",
    "# variance = variance/(size-1)    \n",
    "# #print('X1_ActualPosition =',mean)    \n",
    "# print('variance of X1_ActualPosition=',variance)   \n",
    "\n",
    "# a=0\n",
    "# b=0\n",
    "# variance = 0\n",
    "# #print('a =',a)\n",
    "# for i in range (size):\n",
    "#     a=df.at[i,'Y1_ActualPosition'] +a\n",
    "# mean = a/df.shape[0]   \n",
    "# for i in range (size):\n",
    "#     c[i,1] = mean - df.at[i,'Y1_ActualPosition']\n",
    "# for i in range (size-1):\n",
    "#     d[i,1]=(c[i+1,1]-c[i,1])**2\n",
    "#     variance = d[i,1] +variance\n",
    "# variance = variance/(size-1)    \n",
    "# #print('Y1_ActualPosition =',mean)    \n",
    "# print('variance of Y1_ActualPosition=',variance)   \n",
    "\n",
    "# a=0\n",
    "# b=0\n",
    "# variance = 0\n",
    "# for i in range (size):\n",
    "#     a=df.at[i,'Z1_ActualPosition'] +a\n",
    "# mean = a/df.shape[0]   \n",
    "# for i in range (size):\n",
    "#     c[i,2] = mean - df.at[i,'Z1_ActualPosition']\n",
    "# for i in range (size-1):\n",
    "#     d[i,2]=(c[i+1,2]-c[i,2])**2\n",
    "#     variance = d[i,2] +variance\n",
    "# variance = variance/(size-1)    \n",
    "# #print('Z1_ActualPosition =',mean)    \n",
    "# print('variance of Z1_ActualPosition=',variance)   \n"
   ]
  },
  {
   "cell_type": "code",
   "execution_count": 14,
   "metadata": {},
   "outputs": [
    {
     "name": "stdout",
     "output_type": "stream",
     "text": [
      "1\n",
      "2\n",
      "3\n",
      "3\n"
     ]
    }
   ],
   "source": [
    "a_list = [1,2,3]\n",
    "for element in a_list:\n",
    "    print(element)\n",
    "print(element)"
   ]
  }
 ],
 "metadata": {
  "kernelspec": {
   "display_name": "Python 3",
   "language": "python",
   "name": "python3"
  },
  "language_info": {
   "codemirror_mode": {
    "name": "ipython",
    "version": 3
   },
   "file_extension": ".py",
   "mimetype": "text/x-python",
   "name": "python",
   "nbconvert_exporter": "python",
   "pygments_lexer": "ipython3",
   "version": "3.7.7"
  }
 },
 "nbformat": 4,
 "nbformat_minor": 4
}
