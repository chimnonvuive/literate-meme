{
 "cells": [
  {
   "cell_type": "code",
   "execution_count": 3,
   "metadata": {},
   "outputs": [],
   "source": [
    "import numpy as np\n",
    "import matplotlib.pyplot as plt\n",
    "np.set_printoptions(precision=2)\n",
    "data = np.loadtxt('CAM profile.txt')"
   ]
  },
  {
   "cell_type": "markdown",
   "metadata": {},
   "source": [
    "# phi, pos = data[:len(data)//2], data[len(data)//2:]\n",
    "dphi = np.diff(phi)\n",
    "# plt.plot(phi,pos)\n",
    "# plt.plot(phi[:-1],np.diff(pos))\n",
    "# plt.plot(phi[:-2],np.diff(pos,2))\n",
    "plt.plot([303.2,287.8,271.4,257.8,242.8,227.8],[0,0.12399,0.2302,0.15928,0.25399,0.22185],'bo-',label='External force coefficient')\n",
    "plt.grid()\n",
    "plt.legend()\n",
    "plt.xlabel(r'$F$ (N)')\n",
    "plt.ylim(-0.025,0.4)\n",
    "plt.ylabel(r'$\\chi$')\n",
    "plt.savefig('exp4.png',dpi=600)"
   ]
  },
  {
   "cell_type": "code",
   "execution_count": 49,
   "metadata": {},
   "outputs": [
    {
     "data": {
      "text/plain": [
       "0.28029322984044847"
      ]
     },
     "execution_count": 49,
     "metadata": {},
     "output_type": "execute_result"
    }
   ],
   "source": [
    "10.4/3092/12*1e3"
   ]
  }
 ],
 "metadata": {
  "kernelspec": {
   "display_name": "Python 3",
   "language": "python",
   "name": "python3"
  },
  "language_info": {
   "codemirror_mode": {
    "name": "ipython",
    "version": 3
   },
   "file_extension": ".py",
   "mimetype": "text/x-python",
   "name": "python",
   "nbconvert_exporter": "python",
   "pygments_lexer": "ipython3",
   "version": "3.7.7"
  }
 },
 "nbformat": 4,
 "nbformat_minor": 4
}
