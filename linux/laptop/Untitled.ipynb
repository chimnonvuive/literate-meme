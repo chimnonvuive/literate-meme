{
 "cells": [
  {
   "cell_type": "code",
   "execution_count": 28,
   "metadata": {},
   "outputs": [],
   "source": [
    "import numpy as np\n",
    "from sympy import Matrix, symbols, simplify, exp, I, diff\n",
    "from sympy.abc import t\n",
    "from sympy.solvers.solveset import linsolve\n",
    "from sympy.physics.mechanics import dynamicsymbols, init_vprinting\n",
    "\n",
    "init_vprinting()"
   ]
  },
  {
   "cell_type": "code",
   "execution_count": 59,
   "metadata": {},
   "outputs": [],
   "source": [
    "R, theta = dynamicsymbols('R theta')\n",
    "p = R*(cos(theta)+ I*sin(theta))\n",
    "v = diff(p).expand()\n",
    "a = diff(v).expand()"
   ]
  },
  {
   "cell_type": "code",
   "execution_count": 60,
   "metadata": {},
   "outputs": [
    {
     "data": {
      "image/png": "[encoded data removed]",
      "text/latex": [
       "$\\displaystyle \\left(i \\operatorname{sin}\\left(\\theta\\right) + \\operatorname{cos}\\left(\\theta\\right)\\right) R$"
      ],
      "text/plain": [
       "(ⅈ⋅sin(θ) + cos(θ))⋅R"
      ]
     },
     "execution_count": 60,
     "metadata": {},
     "output_type": "execute_result"
    }
   ],
   "source": [
    "p"
   ]
  },
  {
   "cell_type": "code",
   "execution_count": 61,
   "metadata": {},
   "outputs": [
    {
     "data": {
      "image/png": "[encoded data removed]",
      "text/latex": [
       "$\\displaystyle \\left(i \\operatorname{sin}\\left(\\theta\\right) + \\operatorname{cos}\\left(\\theta\\right)\\right) \\dot{R} + \\left(- R \\operatorname{sin}\\left(\\theta\\right) + i R \\operatorname{cos}\\left(\\theta\\right)\\right) \\dot{\\theta}$"
      ],
      "text/plain": [
       "(ⅈ⋅sin(θ) + cos(θ))⋅Ṙ + (-R⋅sin(θ) + ⅈ⋅R⋅cos(θ))⋅θ̇"
      ]
     },
     "execution_count": 61,
     "metadata": {},
     "output_type": "execute_result"
    }
   ],
   "source": [
    "v.collect([theta.diff(), R.diff()])"
   ]
  },
  {
   "cell_type": "code",
   "execution_count": 66,
   "metadata": {},
   "outputs": [
    {
     "data": {
      "image/png": "[encoded data removed]",
      "text/latex": [
       "$\\displaystyle \\left(i \\operatorname{sin}\\left(\\theta\\right) + \\operatorname{cos}\\left(\\theta\\right)\\right) \\ddot{R} + \\left(- R \\operatorname{sin}\\left(\\theta\\right) + i R \\operatorname{cos}\\left(\\theta\\right)\\right) \\ddot{\\theta} + \\left(- 2 \\operatorname{sin}\\left(\\theta\\right) \\dot{R} + 2 i \\operatorname{cos}\\left(\\theta\\right) \\dot{R}\\right) \\dot{\\theta} + \\left(- i R \\operatorname{sin}\\left(\\theta\\right) - R \\operatorname{cos}\\left(\\theta\\right)\\right) \\dot{\\theta}^{2}$"
      ],
      "text/plain": [
       "                                                                              \n",
       "(ⅈ⋅sin(θ) + cos(θ))⋅R̈ + (-R⋅sin(θ) + ⅈ⋅R⋅cos(θ))⋅θ̈ + (-2⋅sin(θ)⋅Ṙ + 2⋅ⅈ⋅cos\n",
       "\n",
       "                                  2\n",
       "(θ)⋅Ṙ)⋅θ̇ + (-ⅈ⋅R⋅sin(θ) - R⋅cos(θ))⋅θ̇ "
      ]
     },
     "execution_count": 66,
     "metadata": {},
     "output_type": "execute_result"
    }
   ],
   "source": [
    "a.collect([theta.diff(t,2), R.diff(t,2)])"
   ]
  },
  {
   "cell_type": "code",
   "execution_count": 77,
   "metadata": {},
   "outputs": [
    {
     "data": {
      "image/png": "[encoded data removed]",
      "text/latex": [
       "$\\displaystyle \\left( \\left[\\begin{matrix}\\operatorname{cos}\\left(\\theta\\right) & - R \\operatorname{sin}\\left(\\theta\\right)\\\\\\operatorname{sin}\\left(\\theta\\right) & R \\operatorname{cos}\\left(\\theta\\right)\\end{matrix}\\right], \\  \\left[\\begin{matrix}\\dot{R}\\\\\\dot{\\theta}\\end{matrix}\\right]\\right)$"
      ],
      "text/plain": [
       "⎛⎡cos(θ)  -R⋅sin(θ)⎤  ⎡Ṙ⎤⎞\n",
       "⎜⎢                 ⎥, ⎢ ⎥⎟\n",
       "⎝⎣sin(θ)  R⋅cos(θ) ⎦  ⎣θ̇⎦⎠"
      ]
     },
     "execution_count": 77,
     "metadata": {},
     "output_type": "execute_result"
    }
   ],
   "source": [
    "v_mat = Matrix(2,2, [cos(theta), -R*sin(theta), sin(theta), R*cos(theta)])\n",
    "v_mat, Matrix([R.diff(), theta.diff()])"
   ]
  },
  {
   "cell_type": "code",
   "execution_count": 79,
   "metadata": {},
   "outputs": [
    {
     "data": {
      "image/png": "[encoded data removed]",
      "text/latex": [
       "$\\displaystyle \\left( \\left[\\begin{matrix}\\operatorname{cos}\\left(\\theta\\right) & - R \\operatorname{sin}\\left(\\theta\\right)\\\\\\operatorname{sin}\\left(\\theta\\right) & R \\operatorname{cos}\\left(\\theta\\right)\\end{matrix}\\right], \\  \\left[\\begin{matrix}\\ddot{R}\\\\\\ddot{\\theta}\\end{matrix}\\right]\\right)$"
      ],
      "text/plain": [
       "⎛⎡cos(θ)  -R⋅sin(θ)⎤  ⎡R̈⎤⎞\n",
       "⎜⎢                 ⎥, ⎢ ⎥⎟\n",
       "⎝⎣sin(θ)  R⋅cos(θ) ⎦  ⎣θ̈⎦⎠"
      ]
     },
     "execution_count": 79,
     "metadata": {},
     "output_type": "execute_result"
    }
   ],
   "source": [
    "a_mat = Matrix(2,2, [cos(theta), -R*sin(theta), sin(theta), R*cos(theta)])\n",
    "a_mat, Matrix([R.diff(t,2), theta.diff(t,2)])"
   ]
  }
 ],
 "metadata": {
  "kernelspec": {
   "display_name": "Python 3",
   "language": "python",
   "name": "python3"
  },
  "language_info": {
   "codemirror_mode": {
    "name": "ipython",
    "version": 3
   },
   "file_extension": ".py",
   "mimetype": "text/x-python",
   "name": "python",
   "nbconvert_exporter": "python",
   "pygments_lexer": "ipython3",
   "version": "3.7.7"
  }
 },
 "nbformat": 4,
 "nbformat_minor": 4
}
