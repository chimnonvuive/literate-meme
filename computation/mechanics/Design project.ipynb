{
 "cells": [
  {
   "cell_type": "code",
   "execution_count": 632,
   "metadata": {},
   "outputs": [],
   "source": [
    "import numpy as np\n",
    "from math import sqrt, ceil, pi, sin, cos, tan, asin, acos, atan, log\n",
    "import matplotlib.pyplot as plt\n",
    "from scipy.interpolate import interp1d, interp2d\n",
    "# from IPython.core.interactiveshell import InteractiveShell\n",
    "# InteractiveShell.ast_node_interactivity = \"all\"\n",
    "np.set_printoptions(precision=2, suppress=True)\n",
    "%precision 2\n",
    "\n",
    "\n",
    "P = 7 # kW\n",
    "n = 65 # rpm\n",
    "L = 8 # years\n",
    "Kng = 260 # days\n",
    "Ca = 1 # shifts\n",
    "t1 = 15 # s\n",
    "t2 = 11 # s\n",
    "T1 = 1 # N.mm\n",
    "T2 = .7 # N.mm\n",
    "\n",
    "def odd(num):\n",
    "    if num%2==0: return num+1\n",
    "    else: return num\n",
    "def disp(*args):\n",
    "    a = []\n",
    "    for arg in args:\n",
    "        a.append(arg)\n",
    "    return np.array(a,dtype=float)\n",
    "\n",
    "fkses1 = interp1d([400,500,600,700,800,900,1000,1200],\n",
    "            [2.25,2.5,2.75,3,3.25,3.5,3.75,4.25])\n",
    "fkses2 = interp1d([400,500,600,700,800,900,1000,1200],\n",
    "             [2.75,3.05,3.36,3.66,3.96,4.28,4.6,5.2])\n",
    "fkses1 = interp1d([400,500,600,700,800,900,1000,1200],\n",
    "            [2.25,2.5,2.75,3,3.25,3.5,3.75,4.25])\n",
    "fkses2 = interp1d([400,500,600,700,800,900,1000,1200],\n",
    "             [2.75,3.05,3.36,3.66,3.96,4.28,4.6,5.2])\n",
    "fes = interp1d([15,20,30,40,50,70,80,100],\n",
    "              [0.87,0.83,0.77,0.73,0.7,0.66,0.64,0.62])\n",
    "fet = interp1d([15,20,30,40,50,70,80,100],\n",
    "               [0.92,0.89,0.81,0.78,0.76,0.73,0.71,0.7])\n",
    "\n",
    "# fes(850),fes(850)"
   ]
  },
  {
   "cell_type": "markdown",
   "metadata": {},
   "source": [
    "## Motor Design $(power, rpm)$"
   ]
  },
  {
   "cell_type": "code",
   "execution_count": 633,
   "metadata": {},
   "outputs": [
    {
     "data": {
      "text/plain": [
       "0.87"
      ]
     },
     "execution_count": 633,
     "metadata": {},
     "output_type": "execute_result"
    }
   ],
   "source": [
    "# calculate efficiency, e = eta\n",
    "e_c = 1\n",
    "e_b = 0.99\n",
    "e_hg = 0.97 # helical gear\n",
    "e_ch = 0.96\n",
    "e_sys = e_c * e_b**4 * e_hg**2 * e_ch\n",
    "e_sys"
   ]
  },
  {
   "cell_type": "code",
   "execution_count": 634,
   "metadata": {},
   "outputs": [
    {
     "data": {
      "text/plain": [
       "(6.20, 7.14, 1.13)"
      ]
     },
     "execution_count": 634,
     "metadata": {},
     "output_type": "execute_result"
    }
   ],
   "source": [
    "P_max = P # calculate max power of the belt conveyor, kW\n",
    "P_w = P_max*sqrt((T1**2*t1 + T2**2*t2)/(t1+t2)) # calculate power given the work load, kW\n",
    "P_mo = P_w/e_sys # lower limit of the motor's power, kW\n",
    "Kqt = sqrt((T1**2*t1 + T2**2*t2)/(t1+t2))**-1\n",
    "P_w, P_mo, Kqt # compare P_max & P_mo, choose larger value to set lower limit and look up the catalogue"
   ]
  },
  {
   "cell_type": "code",
   "execution_count": 635,
   "metadata": {},
   "outputs": [
    {
     "data": {
      "text/plain": [
       "(65, 22.40, 1456.00)"
      ]
     },
     "execution_count": 635,
     "metadata": {},
     "output_type": "execute_result"
    }
   ],
   "source": [
    "u_ch = 2.8\n",
    "u_h = 8\n",
    "u_sys = u_ch * u_h # calculate transmission ratio of the system\n",
    "n_mo = u_sys * n # calculate theoretical rotational speed of the motor, rpm\n",
    "n, u_sys, n_mo"
   ]
  },
  {
   "cell_type": "code",
   "execution_count": 636,
   "metadata": {},
   "outputs": [
    {
     "data": {
      "text/plain": [
       "(22.38, 2.80)"
      ]
     },
     "execution_count": 636,
     "metadata": {},
     "output_type": "execute_result"
    }
   ],
   "source": [
    "P_mo = 7.5 # power based on choice of motor, kW\n",
    "n_mo = 1455 # rotational speed based on choice of motor, rpm\n",
    "u_sys = n_mo / n # new transmission ratio\n",
    "u_ch = u_sys / u_h # new transmission ratio of ch drive, given u_hg=const\n",
    "u_sys, u_ch"
   ]
  },
  {
   "cell_type": "code",
   "execution_count": 637,
   "metadata": {
    "scrolled": true
   },
   "outputs": [
    {
     "data": {
      "text/plain": [
       "(7.14, 7.07, 6.79, 6.52, 6.26)"
      ]
     },
     "execution_count": 637,
     "metadata": {},
     "output_type": "execute_result"
    }
   ],
   "source": [
    "P_ch  = P_w / e_b\n",
    "P_sh3 = P_ch / e_ch # power of shaft 3, kW\n",
    "P_sh2 = P_sh3 / (e_b*e_hg)\n",
    "P_sh1 = P_sh2 / (e_b*e_hg)\n",
    "P_mow = P_sh1 / e_b\n",
    "P_mow, P_sh1, P_sh2, P_sh3, P_ch"
   ]
  },
  {
   "cell_type": "code",
   "execution_count": 638,
   "metadata": {},
   "outputs": [
    {
     "data": {
      "text/plain": [
       "(2.83, 2.83, 1455, 514.42, 181.88)"
      ]
     },
     "execution_count": 638,
     "metadata": {},
     "output_type": "execute_result"
    }
   ],
   "source": [
    "u_1 = sqrt(u_h)\n",
    "u_2 = u_h/u_1\n",
    "n_sh1 = n_mo # rotational speed of shaft 1, rpm\n",
    "n_sh2 = n_sh1 / u_1\n",
    "n_sh3 = n_sh2 / u_2\n",
    "u_1, u_2, n_sh1, n_sh2, n_sh3"
   ]
  },
  {
   "cell_type": "code",
   "execution_count": 639,
   "metadata": {},
   "outputs": [
    {
     "data": {
      "text/plain": [
       "(46892.66, 46423.73, 126093.30, 342486.86)"
      ]
     },
     "execution_count": 639,
     "metadata": {},
     "output_type": "execute_result"
    }
   ],
   "source": [
    "T_mo  = 9.55e6 * P_mow / n_mo # torque of motor, N.mm\n",
    "T_sh1 = 9.55e6 * P_sh1 / n_sh1 # torque of shaft 1, N.mm\n",
    "T_sh2 = 9.55e6 * P_sh2 / n_sh2\n",
    "T_sh3 = 9.55e6 * P_sh3 / n_sh3\n",
    "T_mo, T_sh1, T_sh2, T_sh3"
   ]
  },
  {
   "cell_type": "markdown",
   "metadata": {},
   "source": [
    "## Chain Drive Design"
   ]
  },
  {
   "cell_type": "code",
   "execution_count": 640,
   "metadata": {},
   "outputs": [
    {
     "data": {
      "text/plain": [
       "(181.88, 23.40)"
      ]
     },
     "execution_count": 640,
     "metadata": {},
     "output_type": "execute_result"
    }
   ],
   "source": [
    "# find z1, z2\n",
    "n1 = n_sh3\n",
    "z1 = 29 - 2*u_ch\n",
    "n1, z1"
   ]
  },
  {
   "cell_type": "code",
   "execution_count": 641,
   "metadata": {},
   "outputs": [
    {
     "data": {
      "text/plain": [
       "(25, 69.95)"
      ]
     },
     "execution_count": 641,
     "metadata": {},
     "output_type": "execute_result"
    }
   ],
   "source": [
    "z1 = odd(ceil(z1))\n",
    "z2 = u_ch*z1 # eq (5.1), p.80, obtain odd number of teeth\n",
    "z1, z2"
   ]
  },
  {
   "cell_type": "code",
   "execution_count": 642,
   "metadata": {},
   "outputs": [
    {
     "data": {
      "text/plain": [
       "(1.00, 1.10, 10.33)"
      ]
     },
     "execution_count": 642,
     "metadata": {},
     "output_type": "execute_result"
    }
   ],
   "source": [
    "kz, kn, k0, ka, kdc, kd, kc, kbt = 25/z1, 200/n1, 1, 1, 1, 1.5, 1, 1.3\n",
    "Pt = P_ch*k0*ka*kdc*kd*kc*kz*kn\n",
    "kz,kn,Pt"
   ]
  },
  {
   "cell_type": "code",
   "execution_count": 643,
   "metadata": {},
   "outputs": [
    {
     "data": {
      "text/plain": [
       "(71, 762.00, 1270.00)"
      ]
     },
     "execution_count": 643,
     "metadata": {},
     "output_type": "execute_result"
    }
   ],
   "source": [
    "# find P_allowance and [a_min, a_max]\n",
    "# P_allowance, p, dc, B = 19.3, 31.75, 9.55, 27.46 # table 5.5, p.81\n",
    "z2 = odd(ceil(z2)) # eq (5.1), p.80, obtain odd number of teeth\n",
    "P_allowance, p, dc, B = 11, 25.4, 7.95, 22.61 # table 5.5, p.81\n",
    "a_min, a_max = 30*p, 50*p\n",
    "z2, a_min, a_max"
   ]
  },
  {
   "cell_type": "code",
   "execution_count": 644,
   "metadata": {
    "scrolled": true
   },
   "outputs": [
    {
     "data": {
      "text/plain": [
       "(109.79, 112, 788.57, 2.71)"
      ]
     },
     "execution_count": 644,
     "metadata": {},
     "output_type": "execute_result"
    }
   ],
   "source": [
    "a = a_min # mm\n",
    "x = 2*a/p + (z1+z2)/2 + (z2-z1)**2*p/(4*pi**2*a) # eq (5.12), p.85\n",
    "xc = odd(ceil(x)) + 1\n",
    "a = p/4*(xc - 0.5*(z2+z1) + sqrt((xc-0.5*(z2+z1))**2-2*((z2-z1)/pi)**2)) * (1-.003)\n",
    "i = z1*n1/(15*xc)\n",
    "x, xc, a, i"
   ]
  },
  {
   "cell_type": "code",
   "execution_count": 645,
   "metadata": {},
   "outputs": [
    {
     "data": {
      "text/plain": [
       "(1.92, 3253.04, 9.63, 120.68, 14.06, 8.05)"
      ]
     },
     "execution_count": 645,
     "metadata": {},
     "output_type": "execute_result"
    }
   ],
   "source": [
    "# k_d, dl, Q, q, k_f = 1.2, 19.05, 88.5, 3.8, 6 # table 5.2; eq 5.15\n",
    "k_d, dl, Q, q, k_f = 1.2, 15.88, 56.7, 2.6, 6 # table 5.2; eq 5.15\n",
    "fs = interp1d([50,200,400,600,800,1e3],[7,8.2,9.3,10.3,11.7,12.9]) # table 5.10\n",
    "v1 = n1*p*z1/6e4\n",
    "Ft, Fv, F0 = 1e3*P_ch/v1, q*v1**2, 9.81*k_f*q*a/1e3\n",
    "s = Q*1e3/(k_d*Ft + F0 + Fv)\n",
    "s_allowable = float(fs(n1))\n",
    "v1, Ft, Fv, F0, s, s_allowable"
   ]
  },
  {
   "cell_type": "code",
   "execution_count": 646,
   "metadata": {},
   "outputs": [
    {
     "data": {
      "text/plain": [
       "(3.87, 0.42, 148975.16, 547.76, 600)"
      ]
     },
     "execution_count": 646,
     "metadata": {},
     "output_type": "execute_result"
    }
   ],
   "source": [
    "sigHm, E1, E2, A, kd = 600, 205000, 117000, 180, 1\n",
    "E = E1*E2*2/(E1+E2)\n",
    "Fvd = 13e-7*n1*p**3\n",
    "fkr = interp1d([15,20,30,40,50,60],[.59,.48,.36,.29,.24,.22])\n",
    "k_r = float(fkr(z1))\n",
    "sigH=.47*sqrt(k_r*(Ft*k_d+Fvd)*E/A)\n",
    "Fvd, k_r, E, sigH, sigHm"
   ]
  },
  {
   "cell_type": "code",
   "execution_count": 647,
   "metadata": {
    "scrolled": true
   },
   "outputs": [
    {
     "data": {
      "text/plain": [
       "(130.31, 3383.35, 3741.00)"
      ]
     },
     "execution_count": 647,
     "metadata": {},
     "output_type": "execute_result"
    }
   ],
   "source": [
    "k_x = 1.15\n",
    "F2 = F0+Fv\n",
    "F1 = Ft+F2\n",
    "Fr = Fr32 = k_x*Ft\n",
    "F2, F1, Fr"
   ]
  },
  {
   "cell_type": "code",
   "execution_count": 648,
   "metadata": {
    "scrolled": true
   },
   "outputs": [
    {
     "data": {
      "text/plain": [
       "(202.66, 574.23, 213.76, 586.37, 186.60, 558.17)"
      ]
     },
     "execution_count": 648,
     "metadata": {},
     "output_type": "execute_result"
    }
   ],
   "source": [
    "d1 = p/sin(pi/z1)\n",
    "d2 = p/sin(pi/z2)\n",
    "da1 = p*(.5 + 1/tan(pi/z1))\n",
    "da2 = p*(.5 + 1/tan(pi/z2))\n",
    "df1 = d1 - 2*(.5025*dl+.05)\n",
    "df2 = d2 - 2*(.5025*dl+.05)\n",
    "d1, d2, da1, da2, df1, df2"
   ]
  },
  {
   "cell_type": "markdown",
   "metadata": {},
   "source": [
    "## Gear design"
   ]
  },
  {
   "cell_type": "code",
   "execution_count": 649,
   "metadata": {},
   "outputs": [
    {
     "data": {
      "text/plain": [
       "(205, 190, 480, 369.00, 450, 342.00)"
      ]
     },
     "execution_count": 649,
     "metadata": {},
     "output_type": "execute_result"
    }
   ],
   "source": [
    "HB, sigb, sigch = 205, 600, 340 # MPa\n",
    "SH, SF = 1.1, 1.75\n",
    "H1, H2 = HB, HB-15\n",
    "sigHlim1, sigFlim1 = 2*H1+70, 1.8*H1\n",
    "sigHlim2, sigFlim2 = 2*H2+70, 1.8*H2\n",
    "H1, H2, sigHlim1, sigFlim1, sigHlim2, sigFlim2"
   ]
  },
  {
   "cell_type": "code",
   "execution_count": 650,
   "metadata": {},
   "outputs": [
    {
     "data": {
      "text/plain": [
       "(10600601.81,\n",
       " 8833440.68,\n",
       " 16640,\n",
       " array([1.05, 0.37, 0.91, 0.32, 0.37, 0.13, 0.32, 0.11]))"
      ]
     },
     "execution_count": 650,
     "metadata": {},
     "output_type": "execute_result"
    }
   ],
   "source": [
    "mH, mF, c, NFO = 6, 6, 1, 4e6\n",
    "\n",
    "NHO1, NHO2 = 30*H1**2.4, 30*H2**2.4\n",
    "Lh = 8*Ca*Kng*L\n",
    "tmp = 60*Lh*c*(T1**3*t1 + T2**3*t2)/(t1+t2)\n",
    "NHE1q, NHE2q, NHE1s, NHE2s = n_sh1*tmp, n_sh2*tmp, n_sh2*tmp, n_sh3*tmp\n",
    "tmp = 60*Lh*c*(T1**mF*t1 + T2**mF*t2)/(t1+t2)\n",
    "NFE1q, NFE2q, NFE1s, NFE2s = n_sh1*tmp, n_sh2*tmp, n_sh2*tmp, n_sh3*tmp\n",
    "NHO1, NHO2, Lh, np.array([NHE1q, NHE2q, NFE1q, NFE2q, NHE1s, NHE2s, NFE1s, NFE2s])/1e9"
   ]
  },
  {
   "cell_type": "code",
   "execution_count": 651,
   "metadata": {},
   "outputs": [
    {
     "data": {
      "text/plain": [
       "(0.46, 0.54, 0.40, 0.48, 0.55, 0.64, 0.48, 0.57)"
      ]
     },
     "execution_count": 651,
     "metadata": {},
     "output_type": "execute_result"
    }
   ],
   "source": [
    "fh = lambda nho, nhe: (nho/nhe)**(1/mH)\n",
    "ff = lambda nfe: (NFO/nfe)**(1/mF)\n",
    "KHL1q, KHL2q, KHL1s, KHL2s = fh(NHO1,NHE1q), fh(NHO2,NHE2q), fh(NHO1,NHE1s), fh(NHO2,NHE2s)\n",
    "KFL1q, KFL2q, KFL1s, KFL2s = ff(NFE1q), ff(NFE2q), ff(NFE1s), ff(NFE2s)\n",
    "KHL1q, KHL2q, KFL1q, KFL2q, KHL1s, KHL2s, KFL1s, KFL2s"
   ]
  },
  {
   "cell_type": "code",
   "execution_count": 652,
   "metadata": {},
   "outputs": [
    {
     "data": {
      "text/plain": [
       "(436.36, 409.09, 210.86, 195.43, 436.36, 409.09, 210.86, 195.43)"
      ]
     },
     "execution_count": 652,
     "metadata": {},
     "output_type": "execute_result"
    }
   ],
   "source": [
    "cond = lambda k: 1 if k < 1 else k\n",
    "KFC = 1 # one direction rotation\n",
    "KHL1q, KHL2q, KHL1s, KHL2s, KFL1q, KFL2q, KFL1s, KFL2s = cond(KHL1q), cond(KHL2q), cond(KHL1s), cond(KHL2s), cond(KFL1q), cond(KFL2q), cond(KFL1s), cond(KFL2s)\n",
    "KHL1q, KHL2q, KHL1s, KHL2s, KFL1q, KFL2q, KFL1s, KFL2s\n",
    "\n",
    "sigH1q, sigH1s = sigHlim1/SH*KHL1q, sigHlim1/SH*KHL1s\n",
    "sigH2q, sigH2s = sigHlim2/SH*KHL2q, sigHlim2/SH*KHL2s\n",
    "sigF1q, sigF1s = sigFlim1/SF*KFL1q*KFC, sigFlim1/SF*KFL1s*KFC\n",
    "sigF2q, sigF2s = sigFlim2/SF*KFL2q*KFC, sigFlim2/SF*KFL2s*KFC\n",
    "sigH1q, sigH2q, sigF1q, sigF2q, sigH1s, sigH2s, sigF1s, sigF2s"
   ]
  },
  {
   "cell_type": "code",
   "execution_count": 653,
   "metadata": {},
   "outputs": [
    {
     "data": {
      "text/plain": [
       "(422.73, 422.73, 203.14, 203.14, 511.36, 511.36)"
      ]
     },
     "execution_count": 653,
     "metadata": {},
     "output_type": "execute_result"
    }
   ],
   "source": [
    "avg = lambda a, b: (a+b)/2\n",
    "sigH1, sigH2 = avg(sigH1q,sigH2q), avg(sigH1s,sigH2s)\n",
    "sigF1, sigF2 = avg(sigF1q,sigF2q), avg(sigF1s,sigF2s)\n",
    "sighmax, sigfmax = 2.8*sigch, 0.8*sigch\n",
    "sigH1, sigH2, sigF1, sigF2, 1.25*min([sigH1q,sigH2q]), 1.25*min([sigH1s,sigH2s])"
   ]
  },
  {
   "cell_type": "code",
   "execution_count": 654,
   "metadata": {},
   "outputs": [
    {
     "data": {
      "text/plain": [
       "(0.61, 1.03, 1.08, 0.79, 1.08)"
      ]
     },
     "execution_count": 654,
     "metadata": {},
     "output_type": "execute_result"
    }
   ],
   "source": [
    "sigH, sigF1, sigF2 = sigH1, sigF1q, sigF2q\n",
    "Ka, psibaq, psibas, uq, us = 43, 0.3, 0.39, u_1, u_2\n",
    "psibdq = 0.53*psibaq*(uq+1)\n",
    "psibds = 0.53*psibas*(us+1)\n",
    "fh5 = interp1d([.2,.4,.6,.8,1,1.2,1.4,1.6],[1.01,1.02,1.03,1.05,1.07,1.1 ,1.13,1.16])\n",
    "fh4 = interp1d([.2,.4,.6,.8,1,1.2,1.4,1.6],[1.01,1.03,1.05,1.08,1.11,1.13,1.17,1.21])\n",
    "ff5 = interp1d([.2,.4,.6,.8,1,1.2,1.4,1.6],[1.02,1.05,1.08,1.12,1.16,1.22,1.28,1.37])\n",
    "ff4 = interp1d([.2,.4,.6,.8,1,1.2,1.4,1.6],[1.03,1.06,1.12,1.17,1.23,1.3 ,1.38,1.45])\n",
    "KHbq, KHbs = float(fh5(psibdq)), float(fh4(psibds))\n",
    "KFbq, KFbs = float(ff5(psibdq)), float(ff4(psibds))\n",
    "psibdq, KHbq, KFbq, psibds, KHbs"
   ]
  },
  {
   "cell_type": "code",
   "execution_count": 655,
   "metadata": {
    "scrolled": true
   },
   "outputs": [
    {
     "data": {
      "text/plain": [
       "(112.08, 145.47)"
      ]
     },
     "execution_count": 655,
     "metadata": {},
     "output_type": "execute_result"
    }
   ],
   "source": [
    "# find center distance\n",
    "awq = Ka*(uq+1)*(T_sh1*KHbq/sigH**2/uq/psibaq)**(1/3)\n",
    "aws = Ka*(us+1)*(T_sh2*KHbs/sigH**2/us/psibas)**(1/3)\n",
    "awq, aws"
   ]
  },
  {
   "cell_type": "code",
   "execution_count": 656,
   "metadata": {},
   "outputs": [
    {
     "data": {
      "text/plain": [
       "(array([1.6, 3.2]), array([1.6, 3.2]))"
      ]
     },
     "execution_count": 656,
     "metadata": {},
     "output_type": "execute_result"
    }
   ],
   "source": [
    "awq = aws = 160\n",
    "mq = np.array([.01,.02])*awq\n",
    "ms = np.array([.01,.02])*aws\n",
    "mq, ms"
   ]
  },
  {
   "cell_type": "code",
   "execution_count": 657,
   "metadata": {},
   "outputs": [
    {
     "data": {
      "text/plain": [
       "(39.27, 26.18)"
      ]
     },
     "execution_count": 657,
     "metadata": {},
     "output_type": "execute_result"
    }
   ],
   "source": [
    "mq = 2; ms = 3; betq = 20; bets = 20\n",
    "z1q = 2*awq*cos(betq*pi/180) / (mq*(uq+1))\n",
    "z1s = 2*aws*cos(bets*pi/180) / (ms*(us+1))\n",
    "z1q, z1s"
   ]
  },
  {
   "cell_type": "code",
   "execution_count": 658,
   "metadata": {},
   "outputs": [
    {
     "data": {
      "text/plain": [
       "(115.97, 76.37, 48.00, 62)"
      ]
     },
     "execution_count": 658,
     "metadata": {},
     "output_type": "execute_result"
    }
   ],
   "source": [
    "z1q, z1s = 41, 27\n",
    "z2q, z2s = uq*z1q, us*z1s\n",
    "bq, bs = psibaq*awq, psibas*aws; bs = 62\n",
    "z2q, z2s, bq, bs"
   ]
  },
  {
   "cell_type": "code",
   "execution_count": 659,
   "metadata": {
    "scrolled": true
   },
   "outputs": [
    {
     "data": {
      "text/plain": [
       "array([11.11, 12.84])"
      ]
     },
     "execution_count": 659,
     "metadata": {},
     "output_type": "execute_result"
    }
   ],
   "source": [
    "z2q, z2s = 116, 77\n",
    "betq, bets = acos(mq*(z1q+z2q)/2/awq), acos(ms*(z1s+z2s)/2/aws)\n",
    "np.array([betq, bets])*180/pi"
   ]
  },
  {
   "cell_type": "code",
   "execution_count": 660,
   "metadata": {},
   "outputs": [
    {
     "data": {
      "text/plain": [
       "(83.57, 236.43, 87.57, 240.43, 78.53, 222.17, 78.57, 231.43, 20.35, 6.37)"
      ]
     },
     "execution_count": 660,
     "metadata": {},
     "output_type": "execute_result"
    }
   ],
   "source": [
    "alpn = 20*pi/180\n",
    "d1q = mq*z1q/cos(betq)\n",
    "d2q = mq*z2q/cos(betq)\n",
    "da1q = d1q+2*mq\n",
    "da2q = d2q+2*mq\n",
    "df1q = d1q-2.5*mq\n",
    "df2q = d2q-2.5*mq\n",
    "db1q = d1q*cos(alpn)\n",
    "db2q = d2q*cos(alpn)\n",
    "alptq = atan(tan(alpn)/cos(betq))\n",
    "ealpq = (sqrt(da1q**2-db1q**2)+sqrt(da2q**2-db2q**2)-2*awq*sin(alptq))/(2*pi*mq*cos(alptq)/cos(betq))\n",
    "v1q = pi*d1q*n_sh1/6e4\n",
    "psibdq = bq/d1q\n",
    "d1q, d2q, da1q, da2q, db1q, db2q, df1q, df2q, alptq*180/pi, v1q"
   ]
  },
  {
   "cell_type": "code",
   "execution_count": 661,
   "metadata": {},
   "outputs": [
    {
     "data": {
      "text/plain": [
       "(83.08, 236.92, 89.08, 242.92, 78.07, 222.63, 75.58, 229.42, 20.47, 2.24)"
      ]
     },
     "execution_count": 661,
     "metadata": {},
     "output_type": "execute_result"
    }
   ],
   "source": [
    "d1s = ms*z1s/cos(bets)\n",
    "d2s = ms*z2s/cos(bets)\n",
    "da1s = d1s+2*ms\n",
    "da2s = d2s+2*ms\n",
    "df1s = d1s-2.5*ms\n",
    "df2s = d2s-2.5*ms\n",
    "db1s = d1s*cos(alpn)\n",
    "db2s = d2s*cos(alpn)\n",
    "alpts = atan(tan(alpn)/cos(bets))\n",
    "ealps = (sqrt(da1s**2-db1s**2)+sqrt(da2s**2-db2s**2)-2*aws*sin(alpts))/(2*pi*ms*cos(alpts)/cos(bets))\n",
    "v1s = pi*d1s*n_sh2/6e4\n",
    "psibds = bs/d1s\n",
    "d1s, d2s, da1s, da2s, db1s, db2s, df1s, df2s, alpts*180/pi, v1s"
   ]
  },
  {
   "cell_type": "code",
   "execution_count": 662,
   "metadata": {},
   "outputs": [
    {
     "data": {
      "text/plain": [
       "(1.02, 0.92, 1.03, 1.00, 432.38, 217.57, 201.65, 389.46, 211.63, 196.14)"
      ]
     },
     "execution_count": 662,
     "metadata": {},
     "output_type": "execute_result"
    }
   ],
   "source": [
    "zr, kxh, yr, kxf = 1, 1, 1, 1\n",
    "zvq = 0.85*v1q**.1\n",
    "zvs = 0.85*v1s**.1\n",
    "ysq = 1.08-0.0695*log(mq)\n",
    "yss = 1.08-0.0695*log(ms)\n",
    "sighq = sigH*zr*zvq*kxh\n",
    "sigf1q = sigF1*yr*ysq*kxf\n",
    "sigf2q = sigF2*yr*ysq*kxf\n",
    "sighs = sigH*zr*zvs*kxh\n",
    "sigf1s = sigF1*yr*yss*kxf\n",
    "sigf2s = sigF2*yr*yss*kxf\n",
    "zvq, zvs, ysq, yss, sighq, sigf1q, sigf2q, sighs, sigf1s, sigf2s"
   ]
  },
  {
   "cell_type": "code",
   "execution_count": 663,
   "metadata": {},
   "outputs": [
    {
     "data": {
      "text/plain": [
       "(10.43, 12.05, 1.74, 1.73)"
      ]
     },
     "execution_count": 663,
     "metadata": {},
     "output_type": "execute_result"
    }
   ],
   "source": [
    "zm = 274\n",
    "betbq = atan(cos(alptq)*tan(betq))\n",
    "betbs = atan(cos(alpts)*tan(bets))\n",
    "zhq = sqrt(2*cos(betbq)/sin(2*alptq))\n",
    "zhs = sqrt(2*cos(betbs)/sin(2*alpts))\n",
    "betbq*180/pi, betbs*180/pi, zhq, zhs"
   ]
  },
  {
   "cell_type": "code",
   "execution_count": 664,
   "metadata": {
    "scrolled": true
   },
   "outputs": [
    {
     "data": {
      "text/plain": [
       "(1.61, 0.79, 1.56, 0.80, 1.47, 1.46)"
      ]
     },
     "execution_count": 664,
     "metadata": {},
     "output_type": "execute_result"
    }
   ],
   "source": [
    "ebetq = bq*sin(betq)/mq/pi\n",
    "if ebetq==0:\n",
    "    zeq = sqrt((4-ealpq)/3)\n",
    "elif ebetq < 1:\n",
    "    zeq = sqrt((4-ealpq)*(1-ebetq)/3+ebetq/ealpq)\n",
    "else: zeq = sqrt(1/ealpq)\n",
    "ebets = bs*sin(bets)/ms/pi\n",
    "if ebets==0:\n",
    "    zes = sqrt((4-ealps)/3)\n",
    "elif ebets < 1:\n",
    "    zes = sqrt((4-ealps)*(1-ebets)/3+ebets/ealps)\n",
    "else: zes = sqrt(1/ealps)\n",
    "ealpq, zeq, ealps, zes, ebetq, ebets"
   ]
  },
  {
   "cell_type": "code",
   "execution_count": 665,
   "metadata": {
    "scrolled": true
   },
   "outputs": [
    {
     "data": {
      "text/plain": [
       "([1.03, 1.08, 1.08, 1.17],\n",
       " [1.06, 1.18, 1.03, 1.08],\n",
       " [1.10, 1.30, 1.13, 1.37],\n",
       " [1.21, 1.66, 1.26, 1.73],\n",
       " [251.85, 432.38],\n",
       " [380.29, 389.46])"
      ]
     },
     "execution_count": 665,
     "metadata": {},
     "output_type": "execute_result"
    }
   ],
   "source": [
    "AGq, AGs=8,9\n",
    "fkhvq = interp1d([1,2,4,6,8,10],[1.01,1.02,1.04,1.06,1.07,1.08])\n",
    "fkhvs = interp1d([1,2,4,6,8,10],[1.01,1.03,1.05,1.07,1.09,1.12])\n",
    "fkfvq = interp1d([1,2,4,6,8,10],[1.03,1.06,1.11,1.17,1.23,1.29])\n",
    "fkfvs = interp1d([1,2,4,6,8,10],[1.04,1.07,1.14,1.21,1.28,1.35])\n",
    "fkhaq = interp1d([0,2.5,5,10,15],[1.05,1.05,1.09,1.13,1.17])\n",
    "fkfaq = interp1d([0,2.5,5,10,15],[1.22,1.22,1.27,1.37,1.45])\n",
    "fkhas = interp1d([0,2.5,5],[1.13,1.13,1.16])\n",
    "fkfas = interp1d([0,2.5,5],[1.37,1.37,1.4])\n",
    "khvq, khvs = float(fkhvq(v1q)), float(fkhvs(v1s))\n",
    "kfvq, kfvs = float(fkfvq(v1q)), float(fkfvs(v1s))\n",
    "khaq, khas = float(fkhaq(v1q)), float(fkhas(v1s))\n",
    "kfaq, kfas = float(fkfaq(v1q)), float(fkfas(v1s))\n",
    "khq, khs = KHbq*khaq*khvq, KHbs*khas*khvs\n",
    "kfq, kfs = KFbq*kfaq*kfvq, KFbs*kfas*kfvs\n",
    "sigHq = zm*zhq*zeq*sqrt(2*T_sh1*khq*(uq+1)/(bq*uq*d1q**2))\n",
    "sigHs = zm*zhs*zes*sqrt(2*T_sh2*khs*(us+1)/(bs*us*d1s**2))\n",
    "\n",
    "[KHbq, KFbq, KHbs, KFbs], [khvq, kfvq, khvs, kfvs], [khaq, kfaq, khas, kfas], [khq, kfq, khs, kfs], [sigHq, sighq], [sigHs, sighs]"
   ]
  },
  {
   "cell_type": "code",
   "execution_count": 666,
   "metadata": {},
   "outputs": [
    {
     "name": "stdout",
     "output_type": "stream",
     "text": [
      "pair 1\n",
      "y_epsilon = [0.62]\n",
      "y_beta = [0.92]\n",
      "z_v1 = [43.4]\n",
      "z_v2 = [122.78]\n",
      "y_f1 = [3.68]\n",
      "y_f2 = [3.6]\n",
      "sigF1 = [41.09] <= [217.57]\n",
      "sigF2 = [40.17] <= [201.65]\n",
      "\n",
      "pair 2\n",
      "y_epsilon = [0.64]\n",
      "y_beta = [0.91]\n",
      "z_v1 = [29.13]\n",
      "z_v2 = [83.08]\n",
      "y_f1 = [3.82]\n",
      "y_f2 = [3.61]\n",
      "sigF1 = [64.37] <= [211.63]\n",
      "sigF2 = [60.85] <= [196.14]\n"
     ]
    }
   ],
   "source": [
    "yeq, ybq = ealpq**-1, 1-betq*180/pi/140\n",
    "fyf = interp1d([17,20,22,25,30,40,50,60,80,100,150],[4.26,4.08,4,3.9,3.8,3.7,3.65,3.62,3.61,3.6,3.6])\n",
    "zv1q, zv2q = z1q/cos(betq)**3, z2q/cos(betq)**3\n",
    "yf1q, yf2q = float(fyf(zv1q)), float(fyf(zv2q))\n",
    "sigF1q = 2*T_sh1*kfq*yeq*ybq*yf1q/bq/d1q/mq/cos(betq)\n",
    "sigF2q = sigF1q*yf2q/yf1q\n",
    "\n",
    "yes, ybs = ealps**-1, 1-bets*180/pi/140\n",
    "fyf = interp1d([17,20,22,25,30,40,50,60,80,100,150],[4.26,4.08,4,3.9,3.8,3.7,3.65,3.62,3.61,3.6,3.6])\n",
    "zv1s, zv2s = z1s/cos(bets)**3, z2s/cos(bets)**3\n",
    "yf1s, yf2s = float(fyf(zv1s)), float(fyf(zv2s))\n",
    "sigF1s = 2*T_sh2*kfs*yes*ybs*yf1s/bs/d1s/ms/cos(bets)\n",
    "sigF2s = sigF1s*yf2s/yf1s\n",
    "\n",
    "print(\"pair 1\")\n",
    "print(\"y_epsilon = \" + str(np.array([yeq])))\n",
    "print(\"y_beta = \" + str(np.array([ybq])))\n",
    "print(\"z_v1 = \" + str(np.array([zv1q])))\n",
    "print(\"z_v2 = \" + str(np.array([zv2q])))\n",
    "print(\"y_f1 = \" + str(np.array([yf1q])))\n",
    "print(\"y_f2 = \" + str(np.array([yf2q])))\n",
    "print(\"sigF1 = \" + str(np.array([sigF1q])) + \" <= \" + str(np.array([sigf1q])))\n",
    "print(\"sigF2 = \" + str(np.array([sigF2q])) + \" <= \" + str(np.array([sigf2q])))\n",
    "\n",
    "print(\"\\npair 2\")\n",
    "print(\"y_epsilon = \" + str(np.array([yes])))\n",
    "print(\"y_beta = \" + str(np.array([ybs])))\n",
    "print(\"z_v1 = \" + str(np.array([zv1s])))\n",
    "print(\"z_v2 = \" + str(np.array([zv2s])))\n",
    "print(\"y_f1 = \" + str(np.array([yf1s])))\n",
    "print(\"y_f2 = \" + str(np.array([yf2s])))\n",
    "print(\"sigF1 = \" + str(np.array([sigF1s])) + \" <= \" + str(np.array([sigf1s])))\n",
    "print(\"sigF2 = \" + str(np.array([sigF2s])) + \" <= \" + str(np.array([sigf2s])))\n"
   ]
  },
  {
   "cell_type": "code",
   "execution_count": 667,
   "metadata": {},
   "outputs": [
    {
     "data": {
      "text/plain": [
       "([267.63, 404.11, 952.00], [46.40, 45.36, 72.69, 68.71, 272.00])"
      ]
     },
     "execution_count": 667,
     "metadata": {},
     "output_type": "execute_result"
    }
   ],
   "source": [
    "sigHmaxq = sigHq*sqrt(Kqt)\n",
    "sigHmaxs = sigHs*sqrt(Kqt)\n",
    "sigF1maxq = sigF1q*Kqt\n",
    "sigF2maxq = sigF2q*Kqt\n",
    "sigF1maxs = sigF1s*Kqt\n",
    "sigF2maxs = sigF2s*Kqt\n",
    "[sigHmaxq, sigHmaxs, sighmax], [sigF1maxq, sigF2maxq, sigF1maxs, sigF2maxs, sigfmax]"
   ]
  },
  {
   "cell_type": "markdown",
   "metadata": {},
   "source": [
    "## Shaft design"
   ]
  },
  {
   "cell_type": "code",
   "execution_count": 668,
   "metadata": {},
   "outputs": [
    {
     "name": "stdout",
     "output_type": "stream",
     "text": [
      "F11 = [3094.92    0.  ]\n",
      "F12 = [-1111.06  -412.12  -218.24]\n",
      "F21 = [1111.06  412.12  218.24]\n",
      "F22 = [ 1117.61 -1133.19  -691.82]\n",
      "F31 = [-1117.61  1133.19   691.82]\n",
      "F32 = [3741.    0.]\n"
     ]
    }
   ],
   "source": [
    "d12, d21, d22, d31, = d1q, d2q, d1s, d2s\n",
    "r12, cb12, cq12, hr12 = d12/2, 1, -1, 1\n",
    "r22, cb22, cq22, hr22 = d22/2, 1, 1, -1\n",
    "\n",
    "d=30\n",
    "F11x = 2*T_sh1/d\n",
    "\n",
    "F12x = np.sign(r12)*cq12*cb12*2*T_sh1/d12; F21x = -F12x\n",
    "F12y = -np.sign(r12)*2*T_sh1/d12*tan(alpn)/cos(betq); F21y = -F12y\n",
    "F12z = cq12*cb12*hr12*2*T_sh1/d12*tan(betq); F21z = -F12z\n",
    "\n",
    "F22x = np.sign(r22)*cq22*cb22*2*T_sh1/d22; F31x = -F22x\n",
    "F22y = -np.sign(r22)*2*T_sh2/d22*tan(alpn)/cos(bets); F31y = -F22y\n",
    "F22z = cq22*cb22*hr22*2*T_sh2/d22*tan(bets); F31z = -F22z\n",
    "\n",
    "alp = 0\n",
    "F32x = Fr32*cos(alp*pi/180)\n",
    "F32y = Fr32*sin(alp*pi/180)\n",
    "\n",
    "print(\"F11 = \" + str(np.array([F11x, 0])))\n",
    "print(\"F12 = \" + str(np.array([F12x, F12y, F12z])))\n",
    "print(\"F21 = \" + str(np.array([F21x, F21y, F21z])))\n",
    "print(\"F22 = \" + str(np.array([F22x, F22y, F22z])))\n",
    "print(\"F31 = \" + str(np.array([F31x, F31y, F31z])))\n",
    "print(\"F32 = \" + str(np.array([F32x, F32y])))"
   ]
  },
  {
   "cell_type": "code",
   "execution_count": 669,
   "metadata": {},
   "outputs": [
    {
     "name": "stdout",
     "output_type": "stream",
     "text": [
      "d_shaft min = [22.64 29.33 38.5 ]\n",
      "d_shaft = [30. 30. 40.]\n",
      "bearing width = [19 19 23]\n"
     ]
    }
   ],
   "source": [
    "tau1, tau2, tau3 = 20, 25, 30\n",
    "\n",
    "d1 = (5*T_sh1/tau1)**(1/3)\n",
    "d2 = (5*T_sh2/tau2)**(1/3)\n",
    "d3 = (5*T_sh3/tau3)**(1/3)\n",
    "print(\"d_shaft min = \" + str(np.array([d1,d2,d3])))\n",
    "d1, d2, d3 = np.ceil(np.array([d1,d2,d3])/5)*5; d1 = 30\n",
    "print(\"d_shaft = \" + str(np.array([d1,d2,d3])))\n",
    "ds = np.arange(20,95,5)\n",
    "bO = np.arange(15,45,2)\n",
    "fbO = lambda d: bO[np.where(d==ds)][0]\n",
    "bO1, bO2, bO3 = fbO(d1), fbO(d2), fbO(d3)\n",
    "print(\"bearing width = \" + str(np.array([bO1, bO2, bO3])))"
   ]
  },
  {
   "cell_type": "code",
   "execution_count": 670,
   "metadata": {},
   "outputs": [
    {
     "name": "stdout",
     "output_type": "stream",
     "text": [
      "lm12, lm33 = [42. 60.]\n",
      "lm13, lm22 = 48.00, 48.00 >= b1 = 48.00 \n",
      "lm32 = 62.00 >= b2 = 62.00 \n",
      "l12 = 62.00, l13 = 43.00, l11 = 86.00\n",
      "l32 = 51.00, l31 = 103.00, l33 = 167.00\n",
      "l22 = 45.00, l23 = 170.00, l21 = 220.00\n"
     ]
    }
   ],
   "source": [
    "lm12,lm13,lm22,lm32,lm33,k1,k2,k3,hn= 1.4,1.5,1.5,1.5,1.5,5,5,5,15\n",
    "# lm12,lm13,lm22,lm32,lm33,k1,k2,k3,hn= 1.4,1.4,1.4,1.5,1.2,8,5,10,15\n",
    "lm12,lm13,lm22,lm32,lm33 = lm12*d1,lm13*d1,lm22*d2,lm32*d3,lm33*d3; lm13,lm22,lm32 = bq, bq, bs\n",
    "# lm12 = 42\n",
    "# lm13, lm22, lm32 = 50, 50, 65\n",
    "# shaft 1\n",
    "# lm33 = 69.5\n",
    "l12 = .5*(lm12+bO1)+k3+hn\n",
    "l13 = .5*(lm13+bO1)+k1+k2\n",
    "l11 = 2*l13\n",
    "# shaft 3\n",
    "l32 = .5*(lm32+bO3)+k1+k2\n",
    "l31 = 2*l32\n",
    "l33 = l31 + .5*(lm33+bO3)+k3+hn+0.5\n",
    "# shaft 2\n",
    "l22 = l13\n",
    "l23 = l11+l32+k1+0.5*(bO1+bO3)\n",
    "l21 = l23+l32\n",
    "\n",
    "l12 = 62; l13 = 43; l11 = 86\n",
    "l22 = 45; l23 = 170; l21 = 220\n",
    "l32 = 51; l31 = 103; l33 = 167\n",
    "print(\"lm12, lm33 = \" + str(np.array([lm12,lm33])))\n",
    "print(\"lm13, lm22 = {0:.2f}, {1:.2f} >= b1 = {2:.2f} \".format(lm13,lm22,bq))\n",
    "print(\"lm32 = {0:.2f} >= b2 = {1:.2f} \".format(lm32,bs))\n",
    "print(\"l12 = {0:.2f}, l13 = {1:.2f}, l11 = {2:.2f}\".format(l12, l13, l11))\n",
    "print(\"l32 = {0:.2f}, l31 = {1:.2f}, l33 = {2:.2f}\".format(l32, l31, l33))\n",
    "print(\"l22 = {0:.2f}, l23 = {1:.2f}, l21 = {2:.2f}\".format(l22, l23, l21))"
   ]
  },
  {
   "cell_type": "code",
   "execution_count": 671,
   "metadata": {},
   "outputs": [
    {
     "name": "stdout",
     "output_type": "stream",
     "text": [
      "F1A = [-5881.66  -100.03]\t, F1B = [1675.69 -312.09]\n",
      "F2A = [1137.8    83.63]\t, F2B = [1090.87 -804.7 ]\n",
      "F3A = [1760.27 -223.57]\t, F3B = [-6618.88  1356.76]\n",
      "M1 = \n",
      "[[      0.     -6201.76   37070.68   46189.33       0.  ]\n",
      " [      0.   -364663.03 -248002.17 -248002.17       0.  ]\n",
      " [  46423.73   46423.73   46423.73       0.         0.  ]\n",
      " [  40204.13  366925.01  253960.    252266.78       0.  ]]\n",
      "M2 = \n",
      "[[      0.    -18545.33  -44344.45  148297.9   177034.87       0.  ]\n",
      " [      0.    -49997.51  -49997.51 -239990.94 -239990.94       0.  ]\n",
      " [      0.         0.    126093.3   126093.3        0.         0.  ]\n",
      " [      0.     53326.17  128026.64  302510.43  298223.07       0.  ]]\n",
      "M3 = \n",
      "[[      0.    -57792.7  -139746.28       0.         0.  ]\n",
      " [      0.     56998.03   56998.03 -624746.19       0.  ]\n",
      " [      0.         0.    342486.86  342486.86  342486.86]\n",
      " [      0.     81171.25  332792.33  691578.44  296602.32]]\n",
      "d1 at 1, 2, 3-, 3+, 4 =      [19.83 41.44 36.66 36.57  0.  ]\n",
      "d2 at 1, 2-, 2+, 3-, 3+, 4 = [ 0.   23.04 30.86 41.1  40.9   0.  ]\n",
      "d3 at 1, 2-, 2+, 3, 4 =      [ 0.   25.83 41.34 52.75 39.78]\n"
     ]
    }
   ],
   "source": [
    "F1Ax, F1Bx = np.linalg.solve(\n",
    "    np.array([[1,1],\n",
    "             [l12,l12+l11]]),\n",
    "    -np.array([F21x+F11x,(l12+l13)*F21x]))\n",
    "F1Ay, F1By = np.linalg.solve(\n",
    "    np.array([[1,1],\n",
    "             [l12,l12+l11]]),\n",
    "    -np.array([F21y,(l12+l13)*F21y+d12/2*F21z]))\n",
    "F2Ax, F2Bx = np.linalg.solve(\n",
    "    np.array([[1,1],\n",
    "             [0,l21]]),\n",
    "    -np.array([F12x+F31x,l22*F12x+l23*F31x]))\n",
    "F2Ay, F2By = np.linalg.solve(\n",
    "    np.array([[1,1],\n",
    "             [0,l21]]),\n",
    "    -np.array([F12y+F31y,l22*F12y+l23*F31y+d21/2*F12z+d22/2*F31z]))\n",
    "F3Ax, F3Bx = np.linalg.solve(\n",
    "    np.array([[1,1],\n",
    "             [0,l31]]),\n",
    "    -np.array([F22x+F32x,l32*F22x+l33*F32x]))\n",
    "F3Ay, F3By = np.linalg.solve(\n",
    "    np.array([[1,1],\n",
    "             [0,l31]]),\n",
    "    -np.array([F22y+F32y,l32*F22y+l33*F32y+d31/2*F22z]))\n",
    "\n",
    "M1x1 = 0\n",
    "M1x2 = l12*F1Ay\n",
    "M1x3m = l12*F1Ay+(l12+l13)*F21y\n",
    "M1x3p = l12*F1Ay+(l12+l13)*F21y+d12/2*F21z\n",
    "M1x4 = l12*F1Ay+(l12+l13)*F21y+(l12+l11)*F1By+d12/2*F21z\n",
    "\n",
    "M1y1 = 0\n",
    "M1y2 = l12*F1Ax\n",
    "M1y3 = l12*F1Ax+(l12+l13)*F21x\n",
    "M1y4 = l12*F1Ax+(l12+l13)*F21x+(l12+l11)*F1Bx\n",
    "\n",
    "M2x1 = 0\n",
    "M2x2m = l22*F12y\n",
    "M2x2p = l22*F12y+d21/2*F12z\n",
    "M2x3m = l22*F12y+l23*F31y+d21/2*F12z\n",
    "M2x3p = l22*F12y+l23*F31y+d21/2*F12z+d22/2*F31z\n",
    "M2x4 =  l22*F12y+l23*F31y+l21*F2By+d21/2*F12z+d22/2*F31z\n",
    "\n",
    "M2y1 = 0\n",
    "M2y2 = l22*F12x\n",
    "M2y3 = l22*F12x+l23*F31x\n",
    "M2y4 = l22*F12x+l23*F31x+l21*F2Bx\n",
    "\n",
    "M3x1 = 0\n",
    "M3x2m = l32*F22y\n",
    "M3x2p = l32*F22y+d31/2*F22z\n",
    "M3x3 = l32*F22y+l31*F3By+d31/2*F22z\n",
    "M3x4 = l32*F22y+l31*F3By+l33*F32y+d31/2*F22z\n",
    "\n",
    "M3y1 = 0\n",
    "M3y2 = l32*F22x\n",
    "M3y3 = l32*F22x+l31*F3Bx\n",
    "M3y4 = l32*F22x+l31*F3Bx+l33*F32x\n",
    "\n",
    "M1 = np.array([[M1x1,M1x2,M1x3m,M1x3p,M1x4],[M1y1,M1y2,M1y3,M1y3,M1y4],[T_sh1,T_sh1,T_sh1,0,0]])\n",
    "M2 = np.array([[M2x1,M2x2m,M2x2p,M2x3m,M2x3p,M2x4],[M2y1,M2y2,M2y2,M2y3,M2y3,M2y4],[0,0,T_sh2,T_sh2,0,0]])\n",
    "M3 = np.array([[M3x1,M3x2m,M3x2p,M3x3,M3x4],[M3y1,M3y2,M3y2,M3y3,M3y4],[0,0,T_sh3,T_sh3,T_sh3]])\n",
    "\n",
    "Mf = lambda Mx, My, Tsh: np.sqrt(Mx**2+My**2+.75*Tsh**2)\n",
    "uf = lambda a, b: a if abs(a)>abs(b) else b # unsigned condition\n",
    "Mx = np.array([[M1x1,M1x2,uf(M1x3m,M1x3p),M1x4],\n",
    "              [M2x1,uf(M2x2m,M2x2p),uf(M2x3m,M2x3p),M2x4],\n",
    "              [M3x1,uf(M3x2m,M3x2p),M3x3,M3x4]])\n",
    "My = np.array([[M1y1,M1y2,M1y3,M1y4],\n",
    "              [M2y1,M2y2,M2y3,M2y4],\n",
    "              [M3y1,M3y2,M3y3,M3y4]])\n",
    "Ts = np.array([[T_sh1,T_sh1,T_sh1,0],\n",
    "              [0,T_sh2,T_sh2,0],\n",
    "              [0,T_sh3,T_sh3,T_sh3]])\n",
    "\n",
    "Me1 = Mf(M1[0,:],M1[1,:],M1[2,:])\n",
    "Me2 = Mf(M2[0,:],M2[1,:],M2[2,:])\n",
    "Me3 = Mf(M3[0,:],M3[1,:],M3[2,:])\n",
    "\n",
    "sigf1 = interp1d([30,50,100],[58,48,45])\n",
    "sigf2 = interp1d([30,50,100],[63,50,48])\n",
    "sigf3 = interp1d([30,50,100],[67,55,50])\n",
    "d1s = (10*Me1/sigf1(d1))**(1/3)*1.04\n",
    "d2s = (10*Me2/sigf1(d2))**(1/3)*1.1\n",
    "d3s = (10*Me3/sigf1(d3))**(1/3)*1.04\n",
    "\n",
    "print(\"F1A = \" + str(np.array([F1Ax, F1Ay])) + \"\\t, F1B = \" + str(np.array([F1Bx, F1By])))\n",
    "print(\"F2A = \" + str(np.array([F2Ax, F2Ay])) + \"\\t, F2B = \" + str(np.array([F2Bx, F2By])))\n",
    "print(\"F3A = \" + str(np.array([F3Ax, F3Ay])) + \"\\t, F3B = \" + str(np.array([F3Bx, F3By])))\n",
    "print(\"M1 = \\n\" + str(np.concatenate((M1, [Me1]))))\n",
    "print(\"M2 = \\n\" + str(np.concatenate((M2, [Me2]))))\n",
    "print(\"M3 = \\n\" + str(np.concatenate((M3, [Me3]))))\n",
    "print(\"d1 at 1, 2, 3-, 3+, 4 =      \" + str(d1s))\n",
    "print(\"d2 at 1, 2-, 2+, 3-, 3+, 4 = \" + str(d2s))\n",
    "print(\"d3 at 1, 2-, 2+, 3, 4 =      \" + str(d3s))"
   ]
  },
  {
   "cell_type": "code",
   "execution_count": 672,
   "metadata": {},
   "outputs": [
    {
     "name": "stdout",
     "output_type": "stream",
     "text": [
      "sigd = [32.24 23.03 36.49 25.95 41.36 54.89] <= 100\n",
      "tau = [ 9.67  5.76  9.12  6.49 12.26 18.3 ] <= 20.0\n"
     ]
    }
   ],
   "source": [
    "# b1k, h1k, t11k, t12k, l1k, r1k = 10, 8, 5, 3.3, 50, 0.3\n",
    "d1s = np.array([30,35,42,35]); D1s = np.hstack(([d1s[0]], [34], d1s[1:]))\n",
    "# d2s = np.array([50,57,57,50]); D2s = np.hstack((d2s[:2], [60], d2s[2:]))\n",
    "d2s = np.array([45,54,54,45]); D2s = np.hstack((d2s[:2], [60], d2s[2:]))\n",
    "d3s = np.array([60,69,60,52]); D3s = np.hstack(([d3s[0]], [84], d3s[1:]))\n",
    "ds = np.array([d1s, d2s, d3s]); Ds = np.array([D1s, D2s, D3s])\n",
    "bck, hck, tc1k, tc2k, lck, rck = 10, 8, 5, 3.3, 32, 0.4\n",
    "b1k, h1k, t11k, t12k, l1k, r1k = 12, 8, 5, 3.3, 32, 0.3\n",
    "# b2k, h2k, t21k, ct22k, l2k, r2k = 12, 8, 5, 3.3, 40, 0.3\n",
    "b21k, h21k, t211k, t212k, l21k, r21k = 16, 10, 6, 4.3, 32, 0.4\n",
    "b22k, h22k, t221k, t222k, l22k, r22k = 16, 10, 6, 4.3, 45, 0.4\n",
    "# b2k, h2k, t21k, ct22k, l2k, r2k = 14, 9, 5.5, 3.8, 36, 0.3\n",
    "b3k, h3k, t31k, t32k, l3k, r3k = 18, 11, 7, 4.4, 45, 0.4\n",
    "# b3k, h3k, t31k, t32k, l3k, r3k = 20, 12, 7.5, 4.9, 40, 0.3 #14, 9, 5.5, 3.8, 65, 0.3\n",
    "bsk, hsk, ts1k, cts2k, lsk, rsk = 16, 10, 6, 4.3, 45, 0.4\n",
    "\n",
    "sigf = lambda T, d, l, h, t: 2*T/(d*l*(h-t))\n",
    "tauf = lambda T, d, l, b: 2*T/d/l/b\n",
    "\n",
    "sigc = sigf(T_sh1, d1s[0], lck, hck, tc1k)\n",
    "sigd1 = sigf(T_sh1, d1s[2], l1k, h1k, t11k)\n",
    "sigd21 = sigf(T_sh2, d2s[1], l21k, h21k, t211k)\n",
    "sigd22 = sigf(T_sh2, d2s[2], l22k, h22k, t221k)\n",
    "sigd3 = sigf(.75*T_sh3, d3s[1], l3k, h3k, t31k)\n",
    "sigs = sigf(.75*T_sh3, d3s[-1], lsk, hsk, ts1k)\n",
    "\n",
    "tauc = tauf(T_sh1, d1s[0], lck, bck)\n",
    "tau1 = tauf(T_sh1, d1s[2], l1k, b1k)\n",
    "tau21 = tauf(T_sh2, d2s[1], l21k, b21k)\n",
    "tau22 = tauf(T_sh2, d2s[2], l22k, b22k)\n",
    "tau3 = tauf(T_sh3, d3s[1], l3k, b3k)\n",
    "taus = tauf(T_sh3, d3s[-1], lsk, bsk)\n",
    "\n",
    "sigpm, taupm = 100, 60\n",
    "print(\"sigd = \" + str(np.array([sigc, sigd1, sigd21, sigd22, sigd3, sigs])) + \" <= \" + str(sigpm))\n",
    "print(\"tau = \" + str(np.array([tauc, tau1, tau21, tau22, tau3, taus])) + \" <= \" + str(1/3*taupm))"
   ]
  },
  {
   "cell_type": "code",
   "execution_count": 673,
   "metadata": {},
   "outputs": [
    {
     "name": "stdout",
     "output_type": "stream",
     "text": [
      "r/d = \n",
      "[[0.02 0.01 0.01 0.01]\n",
      " [0.01 0.01 0.01 0.01]\n",
      " [0.01 0.01 0.03 0.01]]\n",
      "Ksig = \n",
      "[[2.58 2.64 2.7  2.64]\n",
      " [2.72 2.77 2.77 2.72]\n",
      " [2.79 2.82 2.42 2.76]]\n",
      "Ktau = \n",
      "[[1.85 1.89 1.92 1.89]\n",
      " [1.93 1.96 1.96 1.93]\n",
      " [1.98 1.99 1.75 1.96]]\n",
      "esig = \n",
      "[[0.88 0.86 0.84 0.86]\n",
      " [0.83 0.8  0.8  0.83]\n",
      " [0.79 0.76 0.79 0.81]]\n",
      "etau = \n",
      "[[0.81 0.8  0.78 0.8 ]\n",
      " [0.77 0.75 0.75 0.77]\n",
      " [0.74 0.73 0.74 0.76]]\n"
     ]
    }
   ],
   "source": [
    "# Ktau2fsigb = 600\n",
    "sigb = 585\n",
    "siginv = .436*sigb\n",
    "tauinv = .58*siginv\n",
    "\n",
    "psisig, psitau, Kx, Ky = 0.05, 0, 1.2, 1\n",
    "\n",
    "# Ksig_epsig = np.where(np.array([d1s, d2s, d3s])>50,2.52,2.06)\n",
    "# Ktau_eptau = np.where(np.array([d1s, d2s, d3s])>=50,2.03,1.64)\n",
    "Ksig1, Ktau1 = 1.76, 1.54\n",
    "Ksig2f = interp1d([0,.02,.06,.1,.16],[3,2.5,1.85,1.6,1.49])\n",
    "Ktau2f = interp1d([0,.02,.06,.1,.16],[2.1,1.8,1.4,1.25,1.18])\n",
    "rs = np.array([[.5,.5,.5,.5],\n",
    "             [.5,.5,.5,.5],\n",
    "             [.5,.5,1.5,.5]])\n",
    "rds = rs/ds\n",
    "# rdf = lambda d: np.hstack(abs(Ds[:,:-1]-Ds[:,1:])/2/d[:,1:])\n",
    "# rds = rdf(Ds).reshape(3,4)\n",
    "# rds[0,-1] = rds[1,0] = rds[1,-1] = rds[2,0] = rds[2,2] = .02; rds = np.hstack(rds);\n",
    "Ksigs, Ktaus = Ksig2f(rds).reshape(3,4), Ktau2f(rds).reshape(3,4)\n",
    "esigf = interp1d([15,20,30,40,50,70,80,100],[.95,.92,.88,.85,.81,.76,.73,.70])\n",
    "etauf = interp1d([15,20,30,40,50,70,80,100],[.92,.89,.81,.78,.76,.73,.71,.70])\n",
    "esigs, etaus = esigf([d1s, d2s, d3s]), etauf([d1s, d2s, d3s])\n",
    "print(\"r/d = \\n\" + str(rds.reshape(3,4)))\n",
    "print(\"Ksig = \\n\" + str(Ksigs))\n",
    "print(\"Ktau = \\n\" + str(Ktaus))\n",
    "print(\"esig = \\n\" + str(esigs))\n",
    "print(\"etau = \\n\" + str(etaus))"
   ]
  },
  {
   "cell_type": "code",
   "execution_count": 674,
   "metadata": {
    "scrolled": false
   },
   "outputs": [
    {
     "name": "stdout",
     "output_type": "stream",
     "text": [
      "W = \n",
      "[[ 2129.89  4209.24  6295.72  4209.24]\n",
      " [ 8946.18 11362.99 11362.99  8946.18]\n",
      " [21205.75 28741.56 21205.75 11850.93]]\n",
      "Wo = \n",
      "[[ 4780.6   8418.49 13569.29  8418.49]\n",
      " [17892.35 26821.98 26821.98 17892.35]\n",
      " [42411.5  60992.85 42411.5  25655.09]]\n",
      "sigm = 0; siga = \n",
      "[[ 0.   86.65 40.07  0.  ]\n",
      " [ 0.    5.88 26.25  0.  ]\n",
      " [ 0.    5.25 29.46  0.  ]]\n",
      "taum = taua = \n",
      "[[4.86 2.76 1.71 0.  ]\n",
      " [0.   2.35 2.35 0.  ]\n",
      " [0.   2.81 4.04 6.67]]\n"
     ]
    }
   ],
   "source": [
    "W1f = lambda d, b, t: pi*d**3/32 - b*t*(d-t)**2/2/d # 1 keyseat\n",
    "W2f = lambda d, b, t: pi*d**3/32 - b*t*(d-t)**2/d # 2 keyseats\n",
    "Wo1f = lambda d, b, t: pi*d**3/16 - b*t*(d-t)**2/2/d # 1 keyseat\n",
    "Wo2f = lambda d, b, t: pi*d**3/16 - b*t*(d-t)**2/d # 2 keyseats\n",
    "b1k = np.array([bck,0,b1k,0])\n",
    "b2k = np.array([0,b21k,b22k,0])\n",
    "b3k = np.array([0,b3k,0,bsk])\n",
    "t11k = np.array([tc1k,0,t11k,0])\n",
    "t21k = np.array([0,t211k,t221k,0])\n",
    "t31k = np.array([0,t31k,0,ts1k])\n",
    "Ws = np.array([W1f(d1s, b1k, t11k), W2f(d2s, b2k, t211k), W1f(d3s, b3k, t31k)])\n",
    "Wos = np.array([Wo1f(d1s, b1k, t11k), Wo2f(d2s, b2k, t211k), Wo1f(d3s, b3k, t31k)])\n",
    "Ws\n",
    "print(\"W = \\n\" + str(Ws))\n",
    "print(\"Wo = \\n\" + str(Wos))\n",
    "\n",
    "sigms = 0\n",
    "sigas = np.sqrt(Mx**2+My**2)/Ws\n",
    "print(\"sigm = 0; siga = \\n\" + str(sigas))\n",
    "taums = tauas = Ts/2/Wos\n",
    "print(\"taum = taua = \\n\" + str(tauas))"
   ]
  },
  {
   "cell_type": "code",
   "execution_count": 675,
   "metadata": {
    "scrolled": true
   },
   "outputs": [
    {
     "name": "stdout",
     "output_type": "stream",
     "text": [
      "Ksigd = \n",
      "[[3.14 3.26 3.41 3.26]\n",
      " [3.48 3.66 3.66 3.48]\n",
      " [3.76 3.9  3.28 3.63]]\n",
      "Ktaud = \n",
      "[[2.48 2.57 2.68 2.57]\n",
      " [2.71 2.8  2.8  2.71]\n",
      " [2.85 2.92 2.55 2.78]]\n",
      "ssig = \n",
      "[[  inf  0.9   1.87   inf]\n",
      " [  inf 11.85  2.65   inf]\n",
      " [  inf 12.46  2.64   inf]]\n",
      "stau = \n",
      "[[12.27 20.86 32.32   inf]\n",
      " [  inf 22.47 22.47   inf]\n",
      " [  inf 18.03 14.37  7.96]]\n",
      "s = \n",
      "[[  nan  0.9   1.86   nan]\n",
      " [  nan 10.48  2.64   nan]\n",
      " [  nan 10.25  2.6    nan]]\n"
     ]
    }
   ],
   "source": [
    "import warnings\n",
    "warnings.filterwarnings('ignore')\n",
    "\n",
    "Ksigds = (Ksigs/esigs + Kx - 1)/Ky\n",
    "Ktauds = (Ktaus/etaus + Kx - 1)/Ky\n",
    "\n",
    "ssig = siginv/(Ksigds*sigas+psisig*sigms)\n",
    "ssig = np.where(ssig>1e10,np.inf,ssig)\n",
    "stau = tauinv/(Ktauds*tauas+psitau*taums)\n",
    "stau = np.where(stau>1e10,np.inf,stau)\n",
    "\n",
    "s = ssig*stau/np.sqrt(ssig**2+stau**2)\n",
    "print(\"Ksigd = \\n\" + str(Ksigds))\n",
    "print(\"Ktaud = \\n\" + str(Ktauds))\n",
    "print(\"ssig = \\n\" + str(ssig[:,:]))\n",
    "print(\"stau = \\n\" + str(stau))\n",
    "print(\"s = \\n\" + str(s))"
   ]
  },
  {
   "cell_type": "code",
   "execution_count": 676,
   "metadata": {},
   "outputs": [
    {
     "data": {
      "text/plain": [
       "array([[ 14.89, 135.9 ,  94.61,   0.  ],\n",
       "       [  0.  ,  47.42, 117.62,   0.  ],\n",
       "       [  0.  , 123.26, 256.14, 109.85]])"
      ]
     },
     "execution_count": 676,
     "metadata": {},
     "output_type": "execute_result"
    }
   ],
   "source": [
    "sige = np.sqrt((np.sqrt(Mx**2+My**2)*10/d**3)**2 + 3*(Ts/0.2/d**3)**2)\n",
    "sige"
   ]
  },
  {
   "cell_type": "markdown",
   "metadata": {},
   "source": [
    "## bearing design"
   ]
  },
  {
   "cell_type": "code",
   "execution_count": 677,
   "metadata": {
    "scrolled": true
   },
   "outputs": [
    {
     "name": "stdout",
     "output_type": "stream",
     "text": [
      "shaft 1: d1 = 35.00, b1 = 19.00\n",
      "shaft 2: d2 = 45.00, b2 = 19.00\n",
      "shaft 3: d3 = 60.00, b3 = 23.00\n",
      "Fx = [-5.88  1.68  1.14  1.09  1.76 -6.62]\n",
      "Fy = [-0.1  -0.31  0.08 -0.8  -0.22  1.36]\n",
      "Fz = [ 0.22  0.    0.47  0.   -0.69  0.  ]\n",
      "Fr = [5.88 1.7  1.14 1.36 1.77 6.76]\n",
      "Fa = [0.22 0.   0.47 0.   0.69 0.  ]\n",
      "Fa/Fr = [0.04 0.   0.42 0.   0.39 0.  ]\n"
     ]
    }
   ],
   "source": [
    "Fxs = np.array([F1Ax, F1Bx, F2Ax, F2Bx, F3Ax, F3Bx])/1e3\n",
    "Fys = np.array([F1Ay, F1By, F2Ay, F2By, F3Ay, F3By])/1e3\n",
    "Fzs = np.array([F21z, 0, F12z+F31z, 0, F22z, 0])/1e3\n",
    "Frs = np.sqrt(Fxs**2+Fys**2)\n",
    "Fas = np.abs(Fzs)\n",
    "Fars = Fas/Frs\n",
    "print(\"shaft 1: d1 = {0:.2f}, b1 = {1:.2f}\".format(d1s[1], bO1))\n",
    "print(\"shaft 2: d2 = {0:.2f}, b2 = {1:.2f}\".format(d2s[0], bO2))\n",
    "print(\"shaft 3: d3 = {0:.2f}, b3 = {1:.2f}\".format(d3s[0], bO3))\n",
    "print(\"Fx = \" + str(Fxs))\n",
    "print(\"Fy = \" + str(Fys))\n",
    "print(\"Fz = \" + str(Fzs))\n",
    "print(\"Fr = \" + str(Frs))\n",
    "print(\"Fa = \" + str(Fas))\n",
    "print(\"Fa/Fr = \" + str(Fars))"
   ]
  },
  {
   "cell_type": "code",
   "execution_count": 686,
   "metadata": {},
   "outputs": [
    {
     "data": {
      "text/plain": [
       "(array([53.5, 53.5, 65. , 65. , 90. , 90. ]),\n",
       " array([77842.5 , 77842.5 , 33437.31, 33437.31, 16368.75, 16368.75]))"
      ]
     },
     "execution_count": 686,
     "metadata": {},
     "output_type": "execute_result"
    }
   ],
   "source": [
    "ns = np.repeat([n_sh1, n_sh2, n_sh3],2)\n",
    "Ds = np.array([72,85,120])\n",
    "ds = np.array([d1s[1],d2s[0],d3s[0]])\n",
    "Cs = np.repeat([29.1, 35.8, 66.3],2)\n",
    "C0s = np.repeat([19, 26, 54],2)\n",
    "Pus = np.repeat([0.85, 1.12, 1.93],2)\n",
    "As = np.repeat([.00674, .014, .0478],2)\n",
    "krs = np.repeat([.095, .095, .095],2)\n",
    "Rs = np.array([.88,.88,.88])\n",
    "dms = np.repeat((Ds+ds)/2,2)\n",
    "dms, ns*dms"
   ]
  },
  {
   "cell_type": "code",
   "execution_count": 687,
   "metadata": {},
   "outputs": [
    {
     "data": {
      "text/plain": [
       "(array([5.18, 1.  , 1.56]), array([-3.68,  0.19,  4.38]))"
      ]
     },
     "execution_count": 687,
     "metadata": {},
     "output_type": "execute_result"
    }
   ],
   "source": [
    "FRs = Frs[[0,2,4]]\n",
    "FAs = Fas[[0,2,4]]\n",
    "FARs = Fars[[0,2,4]]\n",
    "FAs, Rs*(Frs[[1,3,5]]-Frs[[0,2,4]])"
   ]
  },
  {
   "cell_type": "code",
   "execution_count": 680,
   "metadata": {},
   "outputs": [
    {
     "data": {
      "text/plain": [
       "(array([5.88, 1.7 , 1.14, 1.36, 1.77, 6.76]),\n",
       " array([5.18, 5.39, 1.  , 1.48, 1.56, 0.87]))"
      ]
     },
     "execution_count": 680,
     "metadata": {},
     "output_type": "execute_result"
    }
   ],
   "source": [
    "Fas = np.array([Rs[0]*FRs[0], Rs[0]*FRs[0]+FAs[0],\n",
    "       Rs[1]*FRs[1], Rs[1]*FRs[1]+FAs[1],\n",
    "       Rs[2]*FRs[2], Rs[2]*FRs[2]-FAs[2]])\n",
    "Frs, Fas"
   ]
  },
  {
   "cell_type": "code",
   "execution_count": 681,
   "metadata": {
    "scrolled": true
   },
   "outputs": [
    {
     "data": {
      "text/plain": [
       "array([0.19, 0.19, 0.14, 0.14, 0.14, 0.14])"
      ]
     },
     "execution_count": 681,
     "metadata": {},
     "output_type": "execute_result"
    }
   ],
   "source": [
    "nu = 13\n",
    "Frms = krs * (nu*ns/1000)**(2/3) * (dms/100)**2\n",
    "Frms"
   ]
  },
  {
   "cell_type": "code",
   "execution_count": 682,
   "metadata": {
    "scrolled": true
   },
   "outputs": [
    {
     "data": {
      "text/plain": [
       "array([[5.88, 5.18, 0.88, 9.17],\n",
       "       [1.7 , 5.39, 3.17, 4.91],\n",
       "       [1.14, 1.  , 0.88, 1.78],\n",
       "       [1.36, 1.48, 1.09, 2.28],\n",
       "       [1.77, 1.56, 0.88, 2.76],\n",
       "       [6.76, 0.87, 0.13, 7.6 ]])"
      ]
     },
     "execution_count": 682,
     "metadata": {},
     "output_type": "execute_result"
    }
   ],
   "source": [
    "e, X, Y1, Y2, Y0 = 1.14, .57, .55, .93, .52\n",
    "Ps = np.where(Fars<=e,Frs+Y1*Fas,X*Frs+Y2*Fas)*1.05\n",
    "P0s = Frs+Y0*Fas\n",
    "etac = .5\n",
    "np.array([Frs,Fas,Fas/Frs, Ps]).T"
   ]
  },
  {
   "cell_type": "code",
   "execution_count": 683,
   "metadata": {
    "scrolled": true
   },
   "outputs": [
    {
     "data": {
      "text/plain": [
       "array([[ 1455.  , 77842.5 ],\n",
       "       [ 1455.  , 77842.5 ],\n",
       "       [  514.42, 33437.31],\n",
       "       [  514.42, 33437.31],\n",
       "       [  181.88, 16368.75],\n",
       "       [  181.88, 16368.75]])"
      ]
     },
     "execution_count": 683,
     "metadata": {},
     "output_type": "execute_result"
    }
   ],
   "source": [
    "a1 = 1\n",
    "np.array([ns, ns*dms]).T"
   ]
  },
  {
   "cell_type": "code",
   "execution_count": 684,
   "metadata": {},
   "outputs": [
    {
     "data": {
      "text/plain": [
       "array([[ 0.85,  9.17,  0.05,  0.87, 15.  ],\n",
       "       [ 0.85,  4.91,  0.09,  0.87, 10.  ],\n",
       "       [ 1.12,  1.78,  0.32,  0.43,  1.1 ],\n",
       "       [ 1.12,  2.28,  0.25,  0.43,  0.9 ],\n",
       "       [ 1.93,  2.76,  0.35,  0.27,  0.22],\n",
       "       [ 1.93,  7.6 ,  0.13,  0.27,  0.2 ]])"
      ]
     },
     "execution_count": 684,
     "metadata": {},
     "output_type": "execute_result"
    }
   ],
   "source": [
    "factors = etac*Pus/Ps\n",
    "nu1s = np.repeat([15, 30, 48],2)\n",
    "ks = nu/nu1s\n",
    "askfs = np.array([15,10,1.1,.9,.22,.2])\n",
    "np.array([Pus,Ps,factors,ks,askfs]).T"
   ]
  },
  {
   "cell_type": "code",
   "execution_count": 685,
   "metadata": {
    "scrolled": false
   },
   "outputs": [
    {
     "data": {
      "text/plain": [
       "array([[  1455.  ,     15.  ,     29.1 ,      9.17,   5497.91],\n",
       "       [  1455.  ,     10.  ,     29.1 ,      4.91,  23915.53],\n",
       "       [   514.42,      1.1 ,     35.8 ,      1.78, 291071.18],\n",
       "       [   514.42,      0.9 ,     35.8 ,      2.28, 113384.06],\n",
       "       [   181.88,      0.22,     66.3 ,      2.76, 277974.62],\n",
       "       [   181.88,      0.2 ,     66.3 ,      7.6 ,  12184.16]])"
      ]
     },
     "execution_count": 685,
     "metadata": {},
     "output_type": "execute_result"
    }
   ],
   "source": [
    "Lnmhs = 1e6/60/ns*a1*askfs*(Cs/Ps)**3\n",
    "np.array([ns,askfs,Cs,Ps,Lnmhs]).T"
   ]
  },
  {
   "cell_type": "code",
   "execution_count": null,
   "metadata": {},
   "outputs": [],
   "source": []
  }
 ],
 "metadata": {
  "kernelspec": {
   "display_name": "Python 3",
   "language": "python",
   "name": "python3"
  },
  "language_info": {
   "codemirror_mode": {
    "name": "ipython",
    "version": 3
   },
   "file_extension": ".py",
   "mimetype": "text/x-python",
   "name": "python",
   "nbconvert_exporter": "python",
   "pygments_lexer": "ipython3",
   "version": "3.7.9"
  }
 },
 "nbformat": 4,
 "nbformat_minor": 4
}
