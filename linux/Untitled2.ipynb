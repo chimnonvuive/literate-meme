{
 "cells": [
  {
   "cell_type": "code",
   "execution_count": 23,
   "metadata": {
    "scrolled": true
   },
   "outputs": [
    {
     "data": {
      "text/latex": [
       "$\\displaystyle \\left[\\begin{matrix}K_{1} + K_{2} + M_{1} s^{2} + f_{v1} s + f_{v3} s & - K_{2} & - f_{v3} s\\\\- K_{2} & K_{2} + M_{2} s^{2} + f_{v2} s + f_{v4} s & - f_{v4} s\\\\- f_{v3} s & - f_{v4} s & M_{3} s^{2} + f_{v3} s + f_{v4} s\\end{matrix}\\right]$"
      ],
      "text/plain": [
       "Matrix([\n",
       "[K1 + K2 + M1*s**2 + f_v1*s + f_v3*s,                            -K2,                   -f_v3*s],\n",
       "[                                -K2, K2 + M2*s**2 + f_v2*s + f_v4*s,                   -f_v4*s],\n",
       "[                            -f_v3*s,                        -f_v4*s, M3*s**2 + f_v3*s + f_v4*s]])"
      ]
     },
     "execution_count": 23,
     "metadata": {},
     "output_type": "execute_result"
    }
   ],
   "source": [
    "from sympy import symbols, Matrix\n",
    "\n",
    "k1, k2, m1, m2, m3, fv1, fv2, fv3, fv4, s, F = symbols('K1 K2 M1 M2 M3 f_v1 f_v2 f_v3 f_v4 s F')\n",
    "z11 = k1 + k2 + m1*s**2 + fv1*s + fv3*s\n",
    "z22 = m2*s**2 + fv2*s + fv4*s + k2\n",
    "z33 = m3*s**2 + fv3*s + fv4*s\n",
    "z12 = k2\n",
    "z13 = fv3*s\n",
    "z23 = fv4*s\n",
    "\n",
    "Az = Matrix(3,3, [z11,-z12,-z13,-z12,z22,-z23,-z13,-z23,z33])\n",
    "Az"
   ]
  },
  {
   "cell_type": "code",
   "execution_count": 24,
   "metadata": {},
   "outputs": [
    {
     "data": {
      "text/latex": [
       "$\\displaystyle \\frac{3 s + 1}{s \\left(s^{3} + 7 s^{2} + 5 s + 1\\right)}$"
      ],
      "text/plain": [
       "(3*s + 1)/(s*(s**3 + 7*s**2 + 5*s + 1))"
      ]
     },
     "execution_count": 24,
     "metadata": {},
     "output_type": "execute_result"
    }
   ],
   "source": [
    "z11 = s**2 + 3*s + 1\n",
    "z22 = s**2 + 4*s + 1\n",
    "z12 = 3*s + 1\n",
    "Az = Matrix(2,2, [z11,-z12,-z12,z22])\n",
    "(Az.inv() * Matrix([1,0]))[1].factor()"
   ]
  },
  {
   "cell_type": "code",
   "execution_count": 28,
   "metadata": {},
   "outputs": [],
   "source": [
    "d1, d2, j1, j2, k = symbols('D1 D2 J1 J2 K')\n",
    "z11 = s**2 + s + 1\n",
    "z22 = 2*s + 2\n",
    "z12 = s + 1\n",
    "Az = Matrix(2,2, [z11,-z12,-z12,z22])\n"
   ]
  },
  {
   "cell_type": "code",
   "execution_count": 30,
   "metadata": {},
   "outputs": [
    {
     "data": {
      "text/latex": [
       "$\\displaystyle \\frac{1}{2 s^{2} + s + 1}$"
      ],
      "text/plain": [
       "1/(2*s**2 + s + 1)"
      ]
     },
     "execution_count": 30,
     "metadata": {},
     "output_type": "execute_result"
    }
   ],
   "source": [
    "(Az.inv() * Matrix([1,0]))[1].factor()"
   ]
  },
  {
   "cell_type": "code",
   "execution_count": 31,
   "metadata": {},
   "outputs": [
    {
     "data": {
      "text/latex": [
       "$\\displaystyle \\frac{0.5}{s^{2} + s + 1}$"
      ],
      "text/plain": [
       "0.5/(s**2 + s + 1)"
      ]
     },
     "execution_count": 31,
     "metadata": {},
     "output_type": "execute_result"
    }
   ],
   "source": [
    "n1, n2 = 25, 50\n",
    "r = n2/n1\n",
    "(r/(s**2*r**2 + r**2*s + 4)).simplify()"
   ]
  },
  {
   "cell_type": "code",
   "execution_count": null,
   "metadata": {},
   "outputs": [],
   "source": []
  }
 ],
 "metadata": {
  "kernelspec": {
   "display_name": "Python 3",
   "language": "python",
   "name": "python3"
  },
  "language_info": {
   "codemirror_mode": {
    "name": "ipython",
    "version": 3
   },
   "file_extension": ".py",
   "mimetype": "text/x-python",
   "name": "python",
   "nbconvert_exporter": "python",
   "pygments_lexer": "ipython3",
   "version": "3.7.7"
  }
 },
 "nbformat": 4,
 "nbformat_minor": 4
}
