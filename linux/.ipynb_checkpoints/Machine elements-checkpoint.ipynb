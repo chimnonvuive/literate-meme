{
 "cells": [
  {
   "cell_type": "code",
   "execution_count": 55,
   "metadata": {},
   "outputs": [],
   "source": [
    "import numpy as np\n",
    "np.set_printoptions(precision=4, suppress=True)"
   ]
  },
  {
   "cell_type": "code",
   "execution_count": 56,
   "metadata": {},
   "outputs": [],
   "source": [
    "F = 4500 # N\n",
    "v = 3.05 # m/s\n",
    "D = 500 # mm\n",
    "L = 4 # year\n",
    "t1 = 12 # s\n",
    "t2 = 60 # s\n",
    "T1 = 1 # N.mm\n",
    "T2 = 0.7 # N.mm"
   ]
  },
  {
   "cell_type": "code",
   "execution_count": 61,
   "metadata": {},
   "outputs": [
    {
     "name": "stdout",
     "output_type": "stream",
     "text": [
      "0.8938512\n"
     ]
    }
   ],
   "source": [
    "# calculate efficiency, e = eta\n",
    "e_coupling = 1\n",
    "e_bearing = 0.99\n",
    "e_helical_gear = 0.96\n",
    "e_chain = 0.95\n",
    "e_sys = e_coupling * e_bearing**2 * e_helical_gear * e_chain\n",
    "print(e_sys)"
   ]
  },
  {
   "cell_type": "code",
   "execution_count": 58,
   "metadata": {},
   "outputs": [
    {
     "name": "stdout",
     "output_type": "stream",
     "text": [
      "13.725 10.407496546960752 11.643432986341297\n"
     ]
    }
   ],
   "source": [
    "P_max = F*v/1000 # calculate max power of the belt conveyor, kW\n",
    "P_work = P_max*np.sqrt((T1**2*t1 + T2**2*t2)/(t1+t2)) # calculate power given the work load, kW\n",
    "P_motor = P_eq/e_sys # lower limit of the motor's power, kW\n",
    "print(P_max, P_work, P_motor)"
   ]
  },
  {
   "cell_type": "code",
   "execution_count": 59,
   "metadata": {},
   "outputs": [
    {
     "name": "stdout",
     "output_type": "stream",
     "text": [
      "116.50141834326739 25 2912.535458581685\n"
     ]
    }
   ],
   "source": [
    "n_belt = v*6e4/np.pi/D # calculate rotational speed of the belt conveyor, rpm\n",
    "u_chain = 5\n",
    "u_helical_gear = 5\n",
    "u_sys = u_chain * u_helical_gear # calculate transmission ratio of the system\n",
    "n_motor = u_sys * n_belt # calculate theoretical rotational speed of the motor, rpm\n",
    "print(n_belt, u_sys, n_motor)"
   ]
  },
  {
   "cell_type": "code",
   "execution_count": 60,
   "metadata": {},
   "outputs": [
    {
     "name": "stdout",
     "output_type": "stream",
     "text": [
      "25.75075945565404 5.150151891130808\n"
     ]
    }
   ],
   "source": [
    "# from table 2.2, choose motor 4A132S4Y3\n",
    "P_motor = 12 # power based on choice of motor, kW\n",
    "n_motor = 3000 # rotational speed based on choice of motor, rpm\n",
    "u_sys = n_motor / n_belt # new transmission ratio\n",
    "u_chain = u_sys / u_helical_gear # new transmission ratio of chain drive, given u_helical_gear=const\n",
    "print(u_sys, u_chain)"
   ]
  },
  {
   "cell_type": "code",
   "execution_count": 47,
   "metadata": {},
   "outputs": [
    {
     "name": "stdout",
     "output_type": "stream",
     "text": [
      "11.643432986341297 11.526998656477884 10.955259523116581\n"
     ]
    }
   ],
   "source": [
    "P_chain = P_work\n",
    "P_shaft_2 = P_chain / (e_chain) # power of shaft 2, kW\n",
    "P_shaft_1 = P_shaft_2 / (e_bearing*e_helical_gear) # power of shaft 1, kW\n",
    "P_motor = P_shaft_1 / (e_bearing*e_coupling) # power of motor, kW\n",
    "print(P_motor, P_shaft_1, P_shaft_2)"
   ]
  },
  {
   "cell_type": "code",
   "execution_count": 49,
   "metadata": {},
   "outputs": [
    {
     "name": "stdout",
     "output_type": "stream",
     "text": [
      "3000 3000 600.0\n"
     ]
    }
   ],
   "source": [
    "n_shaft_1 = n_motor # rotational speed of shaft 1, rpm\n",
    "n_shaft_2 = n_shaft_1 / (u_helical_gear) # rotational speed of shaft 2, rpm\n",
    "print(n_motor, n_shaft_1, n_shaft_2)"
   ]
  },
  {
   "cell_type": "code",
   "execution_count": 51,
   "metadata": {},
   "outputs": [
    {
     "name": "stdout",
     "output_type": "stream",
     "text": [
      "37064.928339853126 36694.2790564546 174371.21407627224\n"
     ]
    }
   ],
   "source": [
    "T_motor = 9.55e6 * P_motor / n_motor # torque of motor, N.mm\n",
    "T_shaft_1 = 9.55e6 * P_shaft_1 / n_shaft_1 # torque of shaft 1, N.mm\n",
    "T_shaft_2 = 9.55e6 * P_shaft_2 / n_shaft_2 # torque of shaft 2, N.mm\n",
    "print(T_motor, T_shaft_1, T_shaft_2)"
   ]
  },
  {
   "cell_type": "code",
   "execution_count": 69,
   "metadata": {},
   "outputs": [
    {
     "name": "stdout",
     "output_type": "stream",
     "text": [
      "14.414815161995502\n"
     ]
    }
   ],
   "source": [
    "K_r, K_alp, K_0, K_dc, K_b, K_lv = 1, 1, 1, 1, 1, 1\n",
    "K = K_r * K_alp * K_0 * K_dc * K_b * K_lv\n",
    "Z1 = np.ceil(29 - 2*u_chain) # is odd \n",
    "K_z = 25/Z1\n",
    "K_n = 600/n_shaft_2 # assume in good condition\n",
    "K_x = 1 # 1 strand\n",
    "P_t = K*K_z*K_n*P_shaft_2/K_x # => table 5.5, p.81 [P] = 25.7 kW\n",
    "print(P_t)\n",
    "Z2 = 99 # Z1*u_chain = 97.853 < 120 (eq 5.1, p.80)\n",
    "p_c, d_p, l_bus = 25.4, 7.95, 22.61 # mm\n",
    "B, d_0, d_1, h, b, Q, q1 = 15.88, 7.95, 15.88, 24.2, 38, 56.7, 2.6 # table 5.2, p.78"
   ]
  },
  {
   "cell_type": "code",
   "execution_count": 70,
   "metadata": {},
   "outputs": [
    {
     "data": {
      "text/plain": [
       "97.85288593148536"
      ]
     },
     "execution_count": 70,
     "metadata": {},
     "output_type": "execute_result"
    }
   ],
   "source": []
  },
  {
   "cell_type": "code",
   "execution_count": null,
   "metadata": {},
   "outputs": [],
   "source": []
  }
 ],
 "metadata": {
  "kernelspec": {
   "display_name": "Python 3",
   "language": "python",
   "name": "python3"
  },
  "language_info": {
   "codemirror_mode": {
    "name": "ipython",
    "version": 3
   },
   "file_extension": ".py",
   "mimetype": "text/x-python",
   "name": "python",
   "nbconvert_exporter": "python",
   "pygments_lexer": "ipython3",
   "version": "3.7.7"
  }
 },
 "nbformat": 4,
 "nbformat_minor": 4
}
