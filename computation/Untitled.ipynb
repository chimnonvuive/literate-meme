{
 "cells": [
  {
   "cell_type": "code",
   "execution_count": 2,
   "metadata": {},
   "outputs": [],
   "source": [
    "import numpy as np\n",
    "from sympy import Matrix, solve, simplify, lambdify, sin, cos, zeros, pi, asin\n",
    "from sympy.abc import l, r, k, alpha, h, theta\n",
    "from sympy.solvers.solveset import linsolve\n",
    "from sympy.physics.mechanics import dynamicsymbols, init_vprinting\n",
    "import matplotlib.pyplot as plt\n",
    "from scipy.interpolate import interp1d\n",
    "init_vprinting()"
   ]
  },
  {
   "cell_type": "code",
   "execution_count": 64,
   "metadata": {
    "scrolled": true
   },
   "outputs": [
    {
     "data": {
      "image/png": "[encoded data removed]",
      "text/plain": [
       "<Figure size 432x288 with 1 Axes>"
      ]
     },
     "metadata": {
      "needs_background": "light"
     },
     "output_type": "display_data"
    }
   ],
   "source": [
    "x,n=np.linspace(1,5,1000),np.array([1,2,3,4,5])\n",
    "\n",
    "data_cb = np.array([37.377,37.053,36.426,37.053,36.426])\n",
    "data_sb = np.array([33.898,33.574,34.211,33.723,34.211])\n",
    "def meany(X,y):\n",
    "    return np.ones(len(X))*np.mean(y)\n",
    "Fcb = meany(n,data_cb)\n",
    "Fsb = meany(n,data_sb)\n",
    "# Fcb=interp1d(n,data_cb,kind='cubic')\n",
    "# Fsb=interp1d(n,data_sb,kind='cubic')\n",
    "plt.grid()\n",
    "\n",
    "plt.bar(n, data_cb,label='data')\n",
    "plt.plot(n,Fcb,'r-',label='mean')\n",
    "plt.xticks([1,2,3,4,5])\n",
    "plt.ylim(ymin=30, ymax=40)\n",
    "plt.xlabel(r'Experiment no.')\n",
    "plt.ylabel(r'Tension force, $kN$')\n",
    "plt.legend()\n",
    "plt.savefig('Exp2cb.png',dpi=600)"
   ]
  },
  {
   "cell_type": "code",
   "execution_count": 65,
   "metadata": {},
   "outputs": [
    {
     "data": {
      "image/png": "[encoded data removed]",
      "text/plain": [
       "<Figure size 432x288 with 1 Axes>"
      ]
     },
     "metadata": {
      "needs_background": "light"
     },
     "output_type": "display_data"
    }
   ],
   "source": [
    "plt.bar(n, data_sb,label='data')\n",
    "plt.plot(n,Fsb,'r-',label='mean')\n",
    "plt.xticks([1,2,3,4,5])\n",
    "plt.ylim(ymin=30, ymax=38)\n",
    "plt.xlabel(r'Experiment no.')\n",
    "plt.ylabel(r'Tension force, $kN$')\n",
    "plt.grid()\n",
    "plt.legend()\n",
    "plt.savefig('Exp2sb.png',dpi=600)"
   ]
  },
  {
   "cell_type": "code",
   "execution_count": 56,
   "metadata": {},
   "outputs": [
    {
     "data": {
      "text/plain": [
       "array([0.02562591, 0.02679681, 0.03218337, 0.03319152, 0.03507132])"
      ]
     },
     "execution_count": 56,
     "metadata": {},
     "output_type": "execute_result"
    }
   ],
   "source": [
    "d2, d1, Q, alpha = 165, 67.8, 4.1, np.arctan(2*30/315)\n",
    "F0 = Q/2/np.sin(alpha)*9.81\n",
    "n1 = np.array([284.83,333.46,277.28,311.4,359.22])\n",
    "n2 = np.array([114.04,133.35,110.27,123.71,142.43])\n",
    "xi = 1-d2*n2/n1/d1\n",
    "Ft = np.array([5.1,8.9,11.8,16.7,20.3])\n",
    "phi = Ft/2/F0\n",
    "x = np.linspace(0,0.12,1000)\n",
    "xi\n",
    "# y = np.poly1d(np.polyfit(phi,xi,1))\n",
    "# plt.plot(phi,xi,'ko')\n",
    "# plt.plot(x,y(x),'b',label='slip curve')\n",
    "# plt.grid()\n",
    "# # plt.xlim(xmin=0,xmax=0.35)\n",
    "# # plt.ylim(ymin=0,ymax=)\n",
    "# plt.ylabel(r'$\\xi$')\n",
    "# plt.xlabel(r'$\\phi$')\n",
    "# plt.legend()\n",
    "# plt.savefig('Exp1.png',dpi=600)"
   ]
  },
  {
   "cell_type": "code",
   "execution_count": 58,
   "metadata": {},
   "outputs": [
    {
     "data": {
      "image/png": "[encoded data removed]",
      "text/latex": [
       "$\\displaystyle 0.01979684374644162$"
      ],
      "text/plain": [
       "0.01979684374644162"
      ]
     },
     "execution_count": 58,
     "metadata": {},
     "output_type": "execute_result"
    }
   ],
   "source": [
    "e = np.array([.018,.018,.02,.021,.022])\n",
    "Ft = np.array([3.1,8.8,14.4,20.2,22.1])\n",
    "phi = Ft/2/F0\n",
    "n1 = d2*n2/d1/(1-e)\n",
    "n1 = np.round(n1,2)\n",
    "xi = 1-d2*n2/n1/d1\n",
    "x = np.linspace(0,0.12,1000)\n",
    "\n",
    "y = np.poly1d(np.polyfit(phi,xi,1))\n",
    "# # np.round([n1,n2,Ft],3).T\n",
    "# np.round([e,phi],3).T\n",
    "# plt.plot(phi,xi,'ko')\n",
    "# plt.plot(x,y(x),'b',label='slip curve')\n",
    "# plt.grid()\n",
    "# # plt.xlim(xmin=0,xmax=0.35)\n",
    "# # plt.ylim(ymin=0,ymax=)\n",
    "# plt.ylabel(r'$\\xi$')\n",
    "# plt.xlabel(r'$\\phi$')\n",
    "# plt.legend()\n",
    "# plt.savefig('Exp1.png',dpi=600)\n",
    "np.mean(xi)"
   ]
  },
  {
   "cell_type": "markdown",
   "metadata": {},
   "source": [
    "np.round(phi,3)"
   ]
  },
  {
   "cell_type": "code",
   "execution_count": null,
   "metadata": {},
   "outputs": [],
   "source": []
  }
 ],
 "metadata": {
  "kernelspec": {
   "display_name": "Python 3",
   "language": "python",
   "name": "python3"
  },
  "language_info": {
   "codemirror_mode": {
    "name": "ipython",
    "version": 3
   },
   "file_extension": ".py",
   "mimetype": "text/x-python",
   "name": "python",
   "nbconvert_exporter": "python",
   "pygments_lexer": "ipython3",
   "version": "3.7.7"
  }
 },
 "nbformat": 4,
 "nbformat_minor": 4
}
