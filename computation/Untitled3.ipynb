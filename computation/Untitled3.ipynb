{
 "cells": [
  {
   "cell_type": "code",
   "execution_count": 65,
   "metadata": {},
   "outputs": [],
   "source": [
    "from control import *\n",
    "from sympy import *\n",
    "from sympy.physics.mechanics import dynamicsymbols, init_vprinting\n",
    "import numpy as np\n",
    "from scipy.interpolate import interp1d\n",
    "init_vprinting()"
   ]
  },
  {
   "cell_type": "code",
   "execution_count": 125,
   "metadata": {},
   "outputs": [],
   "source": [
    "t_data = [0,10,20,30,40,50,60,70,80,90]\n",
    "rho_data = [999.9,999.7,998.2,995.7,992.2,988.1,983.2,977.8,971.8,965.3]\n",
    "cp_data = [4.212,4.191,4.183,4.174,4.174,4.174,4.179,4.187,4.195,4.208]\n",
    "v_data = np.array([1.789,1.306,1.006,.805,.659,.556,.478,.415,.365,.326])*1e6\n",
    "fr = interp1d(t_data,rho_data,kind='cubic')\n",
    "fc = interp1d(t_data,cp_data,kind='cubic')\n",
    "fv = interp1d(t_data,v_data,kind='cubic')\n",
    "Avg = lambda fi,t1,t2: fi*fr((t1+t2)/2)*fc((t1+t2)/2)*abs(t2-t1)/3.6e6\n",
    "def Dln(n, ti1, ti2, ti3, ti4):\n",
    "    p = np.hstack([np.arange(0,  5), np.arange(10,15)])\n",
    "    for i in p:\n",
    "        if n is i:\n",
    "            din  = ti1 - ti3\n",
    "            dout = ti2 - ti4\n",
    "            return (din-dout)/np.log(din/dout)\n",
    "        else:\n",
    "            din  = ti1 - ti4\n",
    "            dout = ti2 - ti3\n",
    "            return (din-dout)/np.log(din/dout)\n",
    "# Dln = lambda th1, th2, tc1, tc2: np.round((abs(th1-tc1)-abs(th2-tc2))/np.log(abs(th1-tc1)/abs(th2-tc2)), 2)\n",
    "K = lambda qh, a, dln: qh/a/dln\n",
    "avg, dln, k = np.vectorize(Avg), np.vectorize(Dln), np.vectorize(K)"
   ]
  },
  {
   "cell_type": "code",
   "execution_count": 244,
   "metadata": {},
   "outputs": [
    {
     "data": {
      "text/plain": [
       "(array([[  3.08,   2.93, 105.29,  14.63],\n",
       "        [  3.  ,   3.1 ,  96.72,  14.73],\n",
       "        [  2.84,   3.01,  94.16,  13.99],\n",
       "        [  2.72,   3.01,  90.25,  13.94],\n",
       "        [  2.73,   2.93,  93.14,  13.78],\n",
       "        [  2.72,   2.75,  99.09,  14.35],\n",
       "        [  2.7 ,   3.1 ,  86.94,  13.51],\n",
       "        [  2.58,   2.93,  88.34,  13.45],\n",
       "        [  2.84,   2.84, 100.24,  14.27],\n",
       "        [  2.73,   2.84,  96.05,  14.12]]),\n",
       " array([1665.94, 1611.15, 1605.11, 1543.5 , 1564.38, 1501.43, 1579.61,\n",
       "        1519.29, 1576.48, 1526.12]))"
      ]
     },
     "execution_count": 244,
     "metadata": {},
     "output_type": "execute_result"
    }
   ],
   "source": [
    "a = np.array([[490,860,39.5,37.4,30.6,32],\n",
    "[500,860,43.7,41.1,34.7,36.2],\n",
    "[510,860,47,43.4,32.8,35.1],\n",
    "[520,860,55.1,49.4,33.7,37.5],\n",
    "[530,860,55.2,49.7,34.6,38.2],\n",
    "[560,710,54.9,49.7,34.7,39],\n",
    "[570,710,54.9,49.8,35.1,39.4],\n",
    "[580,710,54.9,50,35.4,39.7],\n",
    "[590,710,54.9,50.1,35.7,39.9],\n",
    "[600,710,55,50.2,35.8,40],\n",
    "              \n",
    "[390,770,54.9,48,35.1,38.4],\n",
    "[380,770,55.1,48.2,35.1,38.6],\n",
    "[370,770,54.7,48,35.6,39],\n",
    "[360,770,54.7,48.1,35.7,39.1],\n",
    "[350,770,54.8,48,35.9,39.2],\n",
    "              \n",
    "[390,770,54.4,48.3,35.4,38.5],\n",
    "[380,770,54.6,48.4,36.2,39.7],\n",
    "[370,770,54.5,48.4,36.3,39.6],\n",
    "[360,770,54.4,47.5,35,38.2],\n",
    "[350,770,54.4,47.6,35.2,38.4]])\n",
    "hot, cold, ti = [0,2,3], [1,4,5], [2,3,4,5]\n",
    "A = np.hstack([np.ones(10)*(9+10)*4500, np.ones(10)*(11+12)*3500])*np.pi/2e6\n",
    "qh = avg(*a[:,hot].T)\n",
    "qc = avg(*a[:,cold].T)\n",
    "n = (qh/qc)*100\n",
    "dln = Dln(np.arange(len(a)),*a[:,ti].T)\n",
    "k = K(qh,A,dln)*1000\n",
    "np.round([qh[-10:],qc[-10:],n[-10:],dln[-10:]],2).T,np.round(k[-10:],2)"
   ]
  },
  {
   "cell_type": "code",
   "execution_count": 206,
   "metadata": {},
   "outputs": [
    {
     "data": {
      "text/plain": [
       "(array([[  3.21,   3.01, 106.63,  14.62],\n",
       "        [  2.92,   3.19,  91.32,  14.49],\n",
       "        [  2.84,   3.01,  94.16,  13.99],\n",
       "        [  2.76,   3.01,  91.62,  13.88],\n",
       "        [  2.73,   2.93,  93.14,  13.78],\n",
       "        [  2.9 ,   3.1 ,  93.55,  13.54],\n",
       "        [  2.78,   3.1 ,  89.75,  13.4 ],\n",
       "        [  2.58,   2.93,  88.34,  13.45],\n",
       "        [  2.84,   2.84, 100.24,  14.27],\n",
       "        [  2.73,   2.84,  96.05,  14.12]]),\n",
       " array([1739.14, 1590.47, 1605.11, 1573.03, 1564.38, 1694.75, 1643.69,\n",
       "        1519.29, 1576.48, 1526.12]))"
      ]
     },
     "execution_count": 206,
     "metadata": {},
     "output_type": "execute_result"
    }
   ],
   "source": []
  },
  {
   "cell_type": "code",
   "execution_count": 197,
   "metadata": {},
   "outputs": [
    {
     "data": {
      "text/plain": [
       "(array([[  3.04,   3.1 ,  97.83,  14.49],\n",
       "        [  2.92,   3.19,  91.32,  14.49],\n",
       "        [  2.84,   3.01,  94.16,  13.99],\n",
       "        [  2.76,   3.01,  91.62,  13.88],\n",
       "        [  2.73,   2.93,  93.14,  13.78],\n",
       "        [  2.9 ,   3.1 ,  93.55,  13.54],\n",
       "        [  2.78,   3.1 ,  89.75,  13.4 ],\n",
       "        [  2.58,   2.93,  88.34,  13.45],\n",
       "        [  2.84,   2.84, 100.24,  14.27],\n",
       "        [  2.73,   2.84,  96.05,  14.12]]),\n",
       " array([1657.43, 1590.47, 1605.11, 1573.03, 1564.38, 1694.75, 1643.69,\n",
       "        1519.29, 1576.48, 1526.12]))"
      ]
     },
     "execution_count": 197,
     "metadata": {},
     "output_type": "execute_result"
    }
   ],
   "source": []
  },
  {
   "cell_type": "code",
   "execution_count": 110,
   "metadata": {},
   "outputs": [
    {
     "data": {
      "text/plain": [
       "array([134303.08594096, 134303.08594096, 134303.08594096, 134303.08594096,\n",
       "       134303.08594096, 134303.08594096, 134303.08594096, 134303.08594096,\n",
       "       134303.08594096, 134303.08594096, 126449.10430699, 126449.10430699,\n",
       "       126449.10430699, 126449.10430699, 126449.10430699, 126449.10430699,\n",
       "       126449.10430699, 126449.10430699, 126449.10430699, 126449.10430699])"
      ]
     },
     "execution_count": 110,
     "metadata": {},
     "output_type": "execute_result"
    }
   ],
   "source": [
    "A"
   ]
  },
  {
   "cell_type": "code",
   "execution_count": 58,
   "metadata": {},
   "outputs": [
    {
     "data": {
      "image/png": "[encoded data removed]",
      "text/latex": [
       "$\\displaystyle 9.693945452032354$"
      ],
      "text/plain": [
       "9.693945452032354"
      ]
     },
     "execution_count": 58,
     "metadata": {},
     "output_type": "execute_result"
    }
   ],
   "source": [
    "15.932 - (7.8-4.9)/np.log(7.8/4.9)"
   ]
  },
  {
   "cell_type": "code",
   "execution_count": null,
   "metadata": {},
   "outputs": [],
   "source": []
  }
 ],
 "metadata": {
  "kernelspec": {
   "display_name": "Python 3",
   "language": "python",
   "name": "python3"
  },
  "language_info": {
   "codemirror_mode": {
    "name": "ipython",
    "version": 3
   },
   "file_extension": ".py",
   "mimetype": "text/x-python",
   "name": "python",
   "nbconvert_exporter": "python",
   "pygments_lexer": "ipython3",
   "version": "3.7.7"
  }
 },
 "nbformat": 4,
 "nbformat_minor": 4
}
