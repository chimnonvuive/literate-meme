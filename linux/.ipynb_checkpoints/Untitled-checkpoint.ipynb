{
 "cells": [
  {
   "cell_type": "code",
   "execution_count": 57,
   "metadata": {},
   "outputs": [],
   "source": [
    "%matplotlib inline\n",
    "import numpy as np\n",
    "\n",
    "from scipy.integrate import solve_ivp\n",
    "\n",
    "from sympy import Eq, solve, lambdify, symbols, sin, cos\n",
    "from sympy.solvers.solveset import linsolve\n",
    "from sympy.physics.vector import ReferenceFrame\n",
    "from sympy.physics.mechanics import dynamicsymbols, init_vprinting\n",
    "\n",
    "import matplotlib.pyplot as plt\n",
    "from matplotlib import rc, animation\n",
    "\n",
    "from IPython.display import HTML"
   ]
  },
  {
   "cell_type": "code",
   "execution_count": 94,
   "metadata": {},
   "outputs": [],
   "source": [
    "init_vprinting()\n",
    "# rc('text', usetex=True)\n",
    "\n",
    "O = ReferenceFrame('O')\n",
    "l, m, g, t, beta, gamma, theta_f = symbols('L m g t beta gamma theta_f')\n",
    "theta = dynamicsymbols('theta')\n",
    "num = [(l, 1), (m, 1), (g, 9.81), (beta, 45), (gamma, 30), (theta_f, np.pi/3)]\n",
    "\n",
    "omg = theta.diff()*O.z\n",
    "alp = omg.diff(t, O)\n",
    "IC = m*l**2/12\n",
    "IO = IC + m*(l/2)**2"
   ]
  },
  {
   "cell_type": "code",
   "execution_count": 95,
   "metadata": {},
   "outputs": [],
   "source": [
    "T01 = (-beta*theta.diff() - gamma*(theta-theta_f) + 0.5*g*l*m*cos(theta)) * O.z\n",
    "\n",
    "# pva of point A\n",
    "rA = l * (cos(theta)*O.x + sin(theta)*O.y)\n",
    "vA = rA.diff(t, O)\n",
    "aA = vA.diff(t, O)"
   ]
  },
  {
   "cell_type": "code",
   "execution_count": 96,
   "metadata": {},
   "outputs": [],
   "source": [
    "# force analysis, center of inertia at O\n",
    "G = -m*g*O.y\n",
    "T01_eq = IO*alp + (rA/2 ^ (m*aA - G))\n",
    "\n",
    "sol = solve((T01 - T01_eq).to_matrix(O)[2], theta.diff(t, 2))[0].subs(num)"
   ]
  },
  {
   "cell_type": "code",
   "execution_count": 97,
   "metadata": {},
   "outputs": [],
   "source": [
    "variables = [theta, theta.diff()]\n",
    "dtheta = lambdify(variables, theta.diff())\n",
    "ddtheta = lambdify(variables, sol)\n",
    "\n",
    "fun = lambda time, y: [dtheta(*y), ddtheta(*y)]\n",
    "\n",
    "res = solve_ivp(fun, [0, 10], [np.pi/18, 0], t_eval=np.linspace(0, 10, 1000))"
   ]
  },
  {
   "cell_type": "code",
   "execution_count": 98,
   "metadata": {
    "scrolled": false
   },
   "outputs": [
    {
     "data": {
      "image/png": "[encoded data removed]",
      "text/plain": [
       "<Figure size 432x288 with 1 Axes>"
      ]
     },
     "metadata": {
      "needs_background": "light"
     },
     "output_type": "display_data"
    }
   ],
   "source": [
    "# plot the graph\n",
    "fig, ax = plt.subplots()\n",
    "\n",
    "t = res.t\n",
    "y = res.y[0]\n",
    "\n",
    "ax.plot(t, y*180/np.pi)\n",
    "ax.set_ylim(ymin=0)\n",
    "ax.set_xlabel(r't (s)')\n",
    "ax.set_ylabel(r'$\\theta$ (deg)')\n",
    "ax.grid()"
   ]
  },
  {
   "cell_type": "code",
   "execution_count": 110,
   "metadata": {},
   "outputs": [],
   "source": [
    "# fig2, ax2 = plt.subplots()\n",
    "container = []\n",
    "\n",
    "for i in range(len(y)):\n",
    "    num_rA = rA.to_matrix(O).subs([(l, 1), (theta, y[i])])\n",
    "    link1, = ax2.plot([0, num_rA[0]], [0, num_rA[1]], 'ro-')\n",
    "    container.append([link1])\n",
    "\n",
    "ax2.grid()\n",
    "ax2.set_aspect('equal')\n",
    "ani = animation.ArtistAnimation(fig2, container, interval=20, blit=True)\n",
    "\n",
    "HTML(ani.to_jshtml())\n",
    "ani.save('Robot-1-link.mp4')"
   ]
  },
  {
   "cell_type": "code",
   "execution_count": 89,
   "metadata": {},
   "outputs": [],
   "source": [
    "fig.savefig('Figure1.png', dpi=600)"
   ]
  },
  {
   "cell_type": "code",
   "execution_count": 108,
   "metadata": {},
   "outputs": [
    {
     "data": {
      "image/png": "[encoded data removed]",
      "text/latex": [
       "$\\displaystyle L \\operatorname{cos}\\left(1\\right)$"
      ],
      "text/plain": [
       "L⋅cos(1)"
      ]
     },
     "execution_count": 108,
     "metadata": {},
     "output_type": "execute_result"
    }
   ],
   "source": []
  }
 ],
 "metadata": {
  "kernelspec": {
   "display_name": "Python 3",
   "language": "python",
   "name": "python3"
  },
  "language_info": {
   "codemirror_mode": {
    "name": "ipython",
    "version": 3
   },
   "file_extension": ".py",
   "mimetype": "text/x-python",
   "name": "python",
   "nbconvert_exporter": "python",
   "pygments_lexer": "ipython3",
   "version": "3.7.7"
  }
 },
 "nbformat": 4,
 "nbformat_minor": 4
}
